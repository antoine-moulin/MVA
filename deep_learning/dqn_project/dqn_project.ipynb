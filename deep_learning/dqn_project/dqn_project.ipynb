{
 "cells": [
  {
   "cell_type": "markdown",
   "metadata": {},
   "source": [
    "**You may need to install [OpenCV](https://pypi.python.org/pypi/opencv-python) and [scikit-video](http://www.scikit-video.org/stable/).**"
   ]
  },
  {
   "cell_type": "code",
   "execution_count": 1,
   "metadata": {},
   "outputs": [
    {
     "name": "stderr",
     "output_type": "stream",
     "text": [
      "Using TensorFlow backend.\n"
     ]
    }
   ],
   "source": [
    "import keras\n",
    "import numpy as np\n",
    "import matplotlib.pyplot as plt\n",
    "import io\n",
    "import base64\n",
    "from IPython.display import HTML\n",
    "import skvideo.io\n",
    "import cv2\n",
    "import json\n",
    "\n",
    "from keras.models import Sequential, model_from_json\n",
    "from keras.layers.core import Dense\n",
    "from keras.optimizers import sgd, adam\n",
    "from keras.layers import Flatten, Conv2D, MaxPooling2D, Activation, AveragePooling2D, Reshape, BatchNormalization, Dropout"
   ]
  },
  {
   "cell_type": "markdown",
   "metadata": {},
   "source": [
    "# MiniProject on Deep Reinforcement Learning"
   ]
  },
  {
   "cell_type": "markdown",
   "metadata": {},
   "source": [
    "__Notations__: $E_p$ is the expectation under probability $p$. Please justify each of your answer and widely comment your code."
   ]
  },
  {
   "cell_type": "markdown",
   "metadata": {},
   "source": [
    "# Context"
   ]
  },
  {
   "cell_type": "markdown",
   "metadata": {},
   "source": [
    "In a reinforcement learning algorithm, we modelize each step $t$ as an action $a_t$ obtained from a state $s_t$, i.e. $\\{(a_{t},s_{t})_{t\\leq T}\\}$ having the Markov property. We consider a discount factor $\\gamma \\in [0,1]$ that ensures convergence. The goal is to find among all the policies $\\pi$, one that maximizes the expected reward:\n",
    "\n",
    "\\begin{equation*}\n",
    "R(\\pi) = \\sum_{t \\leq T} E_{p^\\pi} \\left[ \\gamma^t r(s_t, a_t) \\right] \\> ,\n",
    "\\end{equation*}\n",
    "\n",
    "where: \n",
    "\\begin{equation*}\n",
    "p^\\pi \\left( a_0, a_1, s_1, \\dots, a_T, s_T \\right) = p(a_0) \\prod_{t=1}^T \\pi(a_t| s_t) p(s_{t+1} | s_t, a_t) \\> .\n",
    "\\end{equation*}\n",
    "\n",
    "We note the $Q$-function:\n",
    "\n",
    "\\begin{equation*}\n",
    "Q^\\pi (s, a) = E_{p^\\pi} \\left[ \\sum_{t \\leq T} \\gamma^t r(s_t, a_t) \\,\\middle\\vert\\, s_0 = s, a_0 = a \\right] \\> .\n",
    "\\end{equation*}\n",
    "\n",
    "Thus, the optimal $Q$-function is:\n",
    "\\begin{equation*}\n",
    "Q^* (s, a) = \\max_\\pi Q^\\pi (s, a) \\> .\n",
    "\\end{equation*}\n",
    "\n",
    "In this project, we will apply the deep reinforcement learning techniques to a simple game: an agent will have to learn from scratch a policy that will permit it maximizing a reward."
   ]
  },
  {
   "cell_type": "markdown",
   "metadata": {},
   "source": [
    "## The environment, the agent and the game"
   ]
  },
  {
   "cell_type": "markdown",
   "metadata": {},
   "source": [
    "### The environment"
   ]
  },
  {
   "cell_type": "markdown",
   "metadata": {},
   "source": [
    "```Environment``` is an abstract class that represents the states, rewards, and actions to obtain the new state."
   ]
  },
  {
   "cell_type": "code",
   "execution_count": 2,
   "metadata": {},
   "outputs": [],
   "source": [
    "class Environment(object):\n",
    "    def __init__(self):\n",
    "        pass\n",
    "\n",
    "    def act(self, act):\n",
    "        \"\"\"\n",
    "        One can act on the environment and obtain its reaction:\n",
    "        - the new state\n",
    "        - the reward of the new state\n",
    "        - should we continue the game?\n",
    "\n",
    "        :return: state, reward, game_over\n",
    "        \"\"\"\n",
    "        pass\n",
    "\n",
    "\n",
    "    def reset(self):\n",
    "        \"\"\"\n",
    "        Reinitialize the environment to a random state and returns\n",
    "        the original state\n",
    "\n",
    "        :return: state\n",
    "        \"\"\"\n",
    "        pass\n",
    "    \n",
    "    def draw(self):\n",
    "        \"\"\"\n",
    "        Visualize in the console or graphically the current state\n",
    "        \"\"\"\n",
    "        pass"
   ]
  },
  {
   "cell_type": "markdown",
   "metadata": {},
   "source": [
    "The method ```act``` allows to act on the environment at a given state $s_t$ (stored internally), via action $a_t$. The method will return the new state $s_{t+1}$, the reward $r(s_{t},a_{t})$ and determines if $t\\leq T$ (*game_over*).\n",
    "\n",
    "The method ```reset``` simply reinitializes the environment to a random state $s_0$.\n",
    "\n",
    "The method ```draw``` displays the current state $s_t$ (this is useful to check the behavior of the Agent).\n",
    "\n",
    "We modelize $s_t$ as a tensor, while $a_t$ is an integer."
   ]
  },
  {
   "cell_type": "markdown",
   "metadata": {},
   "source": [
    "### The Agent"
   ]
  },
  {
   "cell_type": "markdown",
   "metadata": {},
   "source": [
    "The goal of the ```Agent``` is to interact with the ```Environment``` by proposing actions $a_t$ obtained from a given state $s_t$ to attempt to maximize its __reward__ $r(s_t,a_t)$. We propose the following abstract class:"
   ]
  },
  {
   "cell_type": "code",
   "execution_count": 3,
   "metadata": {},
   "outputs": [],
   "source": [
    "class Agent(object):\n",
    "    def __init__(self, epsilon=0.1, n_action=4):\n",
    "        \"\"\"\n",
    "        The agent acts (uniformly) at random with probability epsilon and can choose \n",
    "        n_action different actions.\n",
    "        \"\"\"\n",
    "        self.epsilon = epsilon\n",
    "        self.n_action = n_action\n",
    "    \n",
    "    def set_epsilon(self, e):\n",
    "        \"\"\"\n",
    "        Change the random exploration parameter epsilon.\n",
    "        \"\"\"\n",
    "        self.epsilon = e\n",
    "\n",
    "    def act(self, s, train=True):\n",
    "        \"\"\"\n",
    "        This function should return the next action to do:\n",
    "        an integer between 0 and n_action (not included) with a random exploration of epsilon.\n",
    "        \n",
    "        :return: an action a\n",
    "        \"\"\"\n",
    "        if train:\n",
    "            if np.random.rand() <= self.epsilon:\n",
    "                a = np.random.randint(0, self.n_action, size=1)[0]\n",
    "            else:\n",
    "                a = self.learned_act(s)\n",
    "        else: # in some cases, this can improve the performance.. remove it if poor performances\n",
    "            a = self.learned_act(s)\n",
    "\n",
    "        return a\n",
    "\n",
    "    def learned_act(self,s):\n",
    "        \"\"\"\n",
    "        Act via the policy of the agent, from a given state s\n",
    "        it proposes an action a.\n",
    "        \"\"\"\n",
    "        pass\n",
    "\n",
    "    def reinforce(self, s, n_s, a, r, game_over_):\n",
    "        \"\"\"\n",
    "        This function is the core of the learning algorithm. \n",
    "        It takes as an input the current state s_, the next state n_s_\n",
    "        the action a_ used to move from s_ to n_s_ and the reward r_.\n",
    "        \n",
    "        Its goal is to learn a policy.\n",
    "        \"\"\"\n",
    "        pass\n",
    "\n",
    "    def save(self):\n",
    "        \"\"\"\n",
    "        This function returns basic stats if applicable: the\n",
    "        loss and/or the model\n",
    "        \"\"\"\n",
    "        pass\n",
    "\n",
    "    def load(self):\n",
    "        \"\"\"\n",
    "        This function allows to restore a model\n",
    "        \"\"\"\n",
    "        pass"
   ]
  },
  {
   "cell_type": "markdown",
   "metadata": {},
   "source": [
    "***\n",
    "__Question 1__:\n",
    "Explain the function act. Why is ```epsilon``` essential?"
   ]
  },
  {
   "cell_type": "markdown",
   "metadata": {},
   "source": [
    "__Solution 1__: ```epsilon``` is essential for exploration during the training. Indeed, with probability ```epsilon```, the agent chooses an action at random and follows the policy otherwise. Thus, the agent can try new possibilities during the training and obtain better rewards."
   ]
  },
  {
   "cell_type": "markdown",
   "metadata": {},
   "source": [
    "***\n",
    "### The Game"
   ]
  },
  {
   "cell_type": "markdown",
   "metadata": {},
   "source": [
    "The ```Agent``` and the ```Environment``` work in an interlaced way as in the following (take some time to understand this code as it is the core of the project)\n",
    "\n",
    "```python\n",
    "\n",
    "epoch = 300\n",
    "env = Environment()\n",
    "agent = Agent()\n",
    "\n",
    "\n",
    "# Number of won games\n",
    "score = 0\n",
    "loss = 0\n",
    "\n",
    "\n",
    "for e in range(epoch):\n",
    "    # At each epoch, we restart to a fresh game and get the initial state\n",
    "    state = env.reset()\n",
    "    # This assumes that the games will end\n",
    "    game_over = False\n",
    "\n",
    "    win = 0\n",
    "    lose = 0\n",
    "    \n",
    "    while not game_over:\n",
    "        # The agent performs an action\n",
    "        action = agent.act(state)\n",
    "\n",
    "        # Apply an action to the environment, get the next state, the reward\n",
    "        # and if the games end\n",
    "        prev_state = state\n",
    "        state, reward, game_over = env.act(action)\n",
    "\n",
    "        # Update the counters\n",
    "        if reward > 0:\n",
    "            win = win + reward\n",
    "        if reward < 0:\n",
    "            lose = lose -reward\n",
    "\n",
    "        # Apply the reinforcement strategy\n",
    "        loss = agent.reinforce(prev_state, state,  action, reward, game_over)\n",
    "\n",
    "    # Save as a mp4\n",
    "    if e % 10 == 0:\n",
    "        env.draw(e)\n",
    "\n",
    "    # Update stats\n",
    "    score += win-lose\n",
    "\n",
    "    print(\"Epoch {:03d}/{:03d} | Loss {:.4f} | Win/lose count {}/{} ({})\"\n",
    "          .format(e, epoch, loss, win, lose, win-lose))\n",
    "    agent.save()\n",
    "```"
   ]
  },
  {
   "cell_type": "markdown",
   "metadata": {},
   "source": [
    "# The game, *eat cheese*"
   ]
  },
  {
   "cell_type": "markdown",
   "metadata": {},
   "source": [
    "A rat runs on an island and tries to eat as much as possible. The island is subdivided into $N\\times N$ cells, in which there are cheese (+0.5) and poisonous cells (-1). The rat has a visibility of 2 cells (thus it can see $5^2$ cells). The rat is given a time $T$ to accumulate as much food as possible. It can perform 4 actions: going up, down, left, right. \n",
    "\n",
    "The goal is to code an agent to solve this task that will learn by trial and error. We propose the following environment:"
   ]
  },
  {
   "cell_type": "code",
   "execution_count": 4,
   "metadata": {},
   "outputs": [],
   "source": [
    "class Environment(object):\n",
    "    def __init__(self, grid_size=10, max_time=500, temperature=0.1):\n",
    "        grid_size = grid_size + 4\n",
    "        self.grid_size = grid_size\n",
    "        self.max_time = max_time\n",
    "        self.temperature = temperature\n",
    "\n",
    "        # board on which one plays\n",
    "        self.board = np.zeros((grid_size, grid_size))\n",
    "        self.position = np.zeros((grid_size, grid_size))\n",
    "\n",
    "        # coordinate of the cat\n",
    "        self.x = 0\n",
    "        self.y = 1\n",
    "\n",
    "        # self time\n",
    "        self.t = 0\n",
    "\n",
    "        self.scale = 16\n",
    "\n",
    "        self.to_draw = np.zeros((max_time + 2, grid_size * self.scale, grid_size * self.scale, 3))\n",
    "\n",
    "    def draw(self, e):\n",
    "        skvideo.io.vwrite(str(e) + '.mp4', self.to_draw)\n",
    "\n",
    "    def get_frame(self, t):\n",
    "        b = np.zeros((self.grid_size, self.grid_size, 3)) + 128\n",
    "        b[self.board > 0, 0] = 256\n",
    "        b[self.board < 0, 2] = 256\n",
    "        b[self.x, self.y, :] = 256\n",
    "        b[-2:, :, :] = 0\n",
    "        b[:, -2:, :] = 0\n",
    "        b[:2, :, :] = 0\n",
    "        b[:, :2, :] = 0\n",
    "        \n",
    "        b =  cv2.resize(b, None, fx=self.scale, fy=self.scale, interpolation=cv2.INTER_NEAREST)\n",
    "\n",
    "        self.to_draw[t, :, :, :] = b\n",
    "\n",
    "    def act(self, action):\n",
    "        \"\"\"This function returns the new state, reward and decides if the\n",
    "        game ends.\"\"\"\n",
    "\n",
    "        self.get_frame(int(self.t))\n",
    "\n",
    "        self.position = np.zeros((self.grid_size, self.grid_size))\n",
    "\n",
    "        self.position[0:2, :] = -1\n",
    "        self.position[:, 0:2] = -1\n",
    "        self.position[-2:, :] = -1\n",
    "        self.position[:, -2:] = -1\n",
    "\n",
    "        self.position[self.x, self.y] = 1\n",
    "        if action == 0:\n",
    "            if self.x == self.grid_size - 3:\n",
    "                self.x = self.x - 1\n",
    "            else:\n",
    "                self.x = self.x + 1\n",
    "        elif action == 1:\n",
    "            if self.x == 2:\n",
    "                self.x = self.x + 1\n",
    "            else:\n",
    "                self.x = self.x - 1\n",
    "        elif action == 2:\n",
    "            if self.y == self.grid_size - 3:\n",
    "                self.y = self.y - 1\n",
    "            else:\n",
    "                self.y = self.y + 1\n",
    "        elif action == 3:\n",
    "            if self.y == 2:\n",
    "                self.y = self.y + 1\n",
    "            else:\n",
    "                self.y = self.y - 1\n",
    "        else:\n",
    "            RuntimeError('Error: action not recognized')\n",
    "\n",
    "        self.t = self.t + 1\n",
    "        reward = self.board[self.x, self.y]\n",
    "        self.board[self.x, self.y] = 0\n",
    "        game_over = self.t > self.max_time\n",
    "        state = np.concatenate(\n",
    "            (self.board.reshape(self.grid_size, self.grid_size, 1), \n",
    "             self.position.reshape(self.grid_size, self.grid_size, 1)\n",
    "            ), axis=2)\n",
    "        state = state[self.x - 2:self.x + 3, self.y - 2:self.y + 3, :]\n",
    "\n",
    "        return state, reward, game_over\n",
    "\n",
    "    def reset(self):\n",
    "        \"\"\"This function resets the game and returns the initial state\"\"\"\n",
    "\n",
    "        self.x = np.random.randint(3, self.grid_size - 3, size=1)[0]\n",
    "        self.y = np.random.randint(3, self.grid_size - 3, size=1)[0]\n",
    "\n",
    "\n",
    "        bonus = 0.5 * np.random.binomial(1, self.temperature, size=self.grid_size ** 2)\n",
    "        bonus = bonus.reshape(self.grid_size, self.grid_size)\n",
    "\n",
    "        malus = -1.0 * np.random.binomial(1, self.temperature, size=self.grid_size ** 2)\n",
    "        malus = malus.reshape(self.grid_size, self.grid_size)\n",
    "\n",
    "        self.to_draw = np.zeros((self.max_time + 2, self.grid_size * self.scale, self.grid_size * self.scale, 3))\n",
    "\n",
    "\n",
    "        malus[bonus > 0] = 0\n",
    "\n",
    "        self.board = bonus + malus\n",
    "\n",
    "        self.position = np.zeros((self.grid_size, self.grid_size))\n",
    "        self.position[0:2, :] = -1\n",
    "        self.position[:, 0:2] = -1\n",
    "        self.position[-2:, :] = -1\n",
    "        self.position[:, -2:] = -1\n",
    "        self.board[self.x, self.y] = 0\n",
    "        self.t = 0\n",
    "\n",
    "        state = np.concatenate(\n",
    "            (self.board.reshape(self.grid_size, self.grid_size, 1),\n",
    "             self.position.reshape(self.grid_size, self.grid_size, 1)\n",
    "            ), axis=2)\n",
    "\n",
    "        state = state[self.x - 2:self.x + 3, self.y - 2:self.y + 3, :]\n",
    "        return state"
   ]
  },
  {
   "cell_type": "markdown",
   "metadata": {},
   "source": [
    "The following elements are important because they correspond to the hyper parameters for this project:"
   ]
  },
  {
   "cell_type": "code",
   "execution_count": 5,
   "metadata": {},
   "outputs": [],
   "source": [
    "# parameters\n",
    "size = 13\n",
    "T = 200\n",
    "temperature = 0.3\n",
    "epochs_train = 10 # set small when debugging\n",
    "epochs_test = 10 # set small when debugging\n",
    "\n",
    "# display videos\n",
    "def display_videos(name):\n",
    "    video = io.open(name, 'r+b').read()\n",
    "    encoded = base64.b64encode(video)\n",
    "    return '''<video alt=\"test\" controls>\n",
    "                <source src=\"data:video/mp4;base64,{0}\" type=\"video/mp4\" />\n",
    "             </video>'''.format(encoded.decode('ascii'))"
   ]
  },
  {
   "cell_type": "markdown",
   "metadata": {},
   "source": [
    "__Question 2__ Explain the use of the arrays ```position``` and ```board```."
   ]
  },
  {
   "cell_type": "markdown",
   "metadata": {},
   "source": [
    "__Solution 2__: The array ```position``` indicates the position of the agent. ```position[i, j]``` is $1$ if the agent is at the position $(i, j)$.\n",
    "\n",
    "The array ```board``` indicates the elements present on the board. ```board[i, j]``` indicates if there is cheese, poison, or nothing at the position $(i, j)$."
   ]
  },
  {
   "cell_type": "markdown",
   "metadata": {},
   "source": [
    "## Random Agent"
   ]
  },
  {
   "cell_type": "markdown",
   "metadata": {},
   "source": [
    "***\n",
    "__Question 3__ Implement a random Agent (only ```learned_act``` needs to be implemented):"
   ]
  },
  {
   "cell_type": "code",
   "execution_count": 6,
   "metadata": {},
   "outputs": [],
   "source": [
    "class RandomAgent(Agent):\n",
    "    def __init__(self):\n",
    "        super(RandomAgent, self).__init__()\n",
    "        pass\n",
    "\n",
    "    def learned_act(self, s):\n",
    "        \"\"\"\n",
    "        Choose randomly an action.\n",
    "        \n",
    "        :return: an action\n",
    "        \"\"\"\n",
    "        \n",
    "        return np.random.randint(self.n_action)"
   ]
  },
  {
   "cell_type": "markdown",
   "metadata": {},
   "source": [
    "***\n",
    "***\n",
    "__Question 4__ Visualize the game moves. You need to fill in the following function for the evaluation:"
   ]
  },
  {
   "cell_type": "code",
   "execution_count": 7,
   "metadata": {},
   "outputs": [],
   "source": [
    "def test(agent, env, epochs, prefix=''):\n",
    "    # Number of won games\n",
    "    score = 0\n",
    "        \n",
    "    for e in range(epochs):\n",
    "        \n",
    "        ##### FILL IN HERE\n",
    "        state = env.reset()\n",
    "        game_over = False\n",
    "        win, lose = 0, 0\n",
    "        \n",
    "        while not game_over:\n",
    "            previous_state = state\n",
    "            \n",
    "            # given a state, the agent chooses an action...\n",
    "            action = agent.act(previous_state)\n",
    "            \n",
    "            # ... and the environment returns a new state and a reward\n",
    "            state, reward, game_over = env.act(action)\n",
    "            \n",
    "            if reward > 0:\n",
    "                win += reward\n",
    "            else:\n",
    "                lose -= reward\n",
    "        \n",
    "        # Save as a mp4\n",
    "        env.draw(prefix + str(e))\n",
    "\n",
    "        # Update stats\n",
    "        score = score + win - lose\n",
    "\n",
    "        print(\"Win/lose count {}/{}. Average score ({})\"\n",
    "              .format(win, lose, score / (1 + e)))\n",
    "    print('Final score: ' + str(score / epochs))"
   ]
  },
  {
   "cell_type": "code",
   "execution_count": 8,
   "metadata": {},
   "outputs": [
    {
     "name": "stdout",
     "output_type": "stream",
     "text": [
      "Win/lose count 13.5/11.0. Average score (2.5)\n",
      "Win/lose count 9.5/8.0. Average score (2.0)\n",
      "Win/lose count 8.5/17.0. Average score (-1.5)\n",
      "Win/lose count 8.0/10.0. Average score (-1.625)\n",
      "Win/lose count 9.5/15.0. Average score (-2.4)\n",
      "Win/lose count 12.5/7.0. Average score (-1.0833333333333333)\n",
      "Win/lose count 10.5/11.0. Average score (-1.0)\n",
      "Win/lose count 10.0/14.0. Average score (-1.375)\n",
      "Win/lose count 8.0/7.0. Average score (-1.1111111111111112)\n",
      "Win/lose count 11.5/14.0. Average score (-1.25)\n",
      "Final score: -1.25\n"
     ]
    },
    {
     "data": {
      "text/html": [
       "<video alt=\"test\" controls>\n",
       "                <source src=\"data:video/mp4;base64,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\" type=\"video/mp4\" />\n",
       "             </video>"
      ],
      "text/plain": [
       "<IPython.core.display.HTML object>"
      ]
     },
     "execution_count": 8,
     "metadata": {},
     "output_type": "execute_result"
    }
   ],
   "source": [
    "# Initialize the game\n",
    "env = Environment(grid_size=size, max_time=T,temperature=temperature)\n",
    "\n",
    "# Initialize the agent!\n",
    "agent = RandomAgent()\n",
    "\n",
    "test(agent,env,epochs_test,prefix='random')\n",
    "HTML(display_videos('random0.mp4'))"
   ]
  },
  {
   "cell_type": "markdown",
   "metadata": {},
   "source": [
    "***\n",
    "## DQN"
   ]
  },
  {
   "cell_type": "markdown",
   "metadata": {},
   "source": [
    "Let us assume here that $T=\\infty$.\n",
    "\n",
    "***\n",
    "__Question 5__ Let $\\pi$ be a policy, show that:\n",
    "\n",
    "\\begin{equation*}\n",
    "Q^\\pi(s, a) = E_{(s', a') \\sim p^\\pi(\\cdot | s, a)} \\left[ r(s, a) + \\gamma Q^\\pi(s', a') \\right]\n",
    "\\end{equation*}\n",
    "\n",
    "Then, show that for the optimal policy $\\pi^*$ (we assume its existence), the following holds: \n",
    "\n",
    "\\begin{equation*}\n",
    "Q^* (s, a) = E_{s' \\sim \\pi^* (\\cdot| s, a)} \\left[ r(s, a) + \\gamma \\max_{a'} Q^*(s', a') \\right]\n",
    "\\end{equation*}\n",
    "Finally, deduce that a plausible objective is:\n",
    "\n",
    "\\begin{equation*}\n",
    "\\mathcal{L} \\left( \\theta \\right) = E_{s' \\sim \\pi^* (\\cdot | s, a)} \\left( \\left|\\left| r + \\gamma \\max_{a'} Q(s', a', \\theta) - Q(s, a, \\theta) \\right|\\right|^{2} \\right)\n",
    "\\end{equation*}"
   ]
  },
  {
   "cell_type": "markdown",
   "metadata": {},
   "source": [
    "__Solution 5__:\n",
    "\n",
    "We have:\n",
    "\\begin{equation*}\n",
    "\\begin{aligned}\n",
    "Q^\\pi(s,a) &= E_{p^{\\pi}} \\left[ \\sum_{0 \\leq t \\leq T} \\gamma^t r(s_t, a_t) \\,\\middle\\vert\\, s_0 = s, a_0 = a \\right] & \\text{(definition)} \\\\\n",
    "&= E_{p^{\\pi}} \\left[ r(s_0, a_0) + \\sum_{1 \\leq t \\leq T} \\gamma^t r(s_t, a_t) \\,\\middle\\vert\\, s_0 = s, a_0 = a \\right] \\\\\n",
    "&= r(s, a) + \\gamma E_{p^{\\pi}} \\left[ \\sum_{1 \\leq t \\leq T} \\gamma^{t-1} r(s_t, a_t) \\,\\middle\\vert\\, s_0 = s, a_0 = a \\right] \\\\\n",
    "&= r(s, a) + \\gamma E_{p^\\pi(a_1, s_1, \\dots, a_T, s_T | s_0 = s, a_0 = a)} \\left[ \\sum_{1 \\leq t \\leq T} \\gamma^{t-1} r(s_t, a_t) \\right] \\\\\n",
    "&= r(s, a) + \\gamma E_{p^{\\pi}(a_1, s_1 | s_0 = s, a_0 = a)} \\left( E_{p^{\\pi}(a_2, s_2, \\dots, a_T, s_T | a_1, s_1)} \\left[ \\sum_{1 \\leq t \\leq T} \\gamma^{t-1} r(s_t, a_t) \\right] \\right) & \\text{(Markov property)} \\\\\n",
    "&= r(s, a) + \\gamma E_{p^{\\pi}(a_1, s_1 | s_0 = s, a_0 = a)} \\left[ Q^\\pi(s_1, a_1) \\right] \\\\\n",
    "&= E_{p^{\\pi}(a_1, s_1 | s_0 = s, a_0 = a)} \\left[ r(s, a) + \\gamma Q^\\pi(s_1, a_1) \\right]\n",
    "\\end{aligned}\n",
    "\\end{equation*}\n",
    "\n",
    "Hence,\n",
    "\\begin{equation*}\n",
    "\\boxed{Q^\\pi(s, a) = E_{(s', a') \\sim p^\\pi(\\cdot | s, a)} \\left[ r(s, a) + \\gamma Q^\\pi(s', a') \\right]}\n",
    "\\end{equation*}\n",
    "\n",
    "For the optimal Q-function, we have:\n",
    "\\begin{equation*}\n",
    "\\begin{aligned}\n",
    "Q^* (s, a) &= \\max_\\pi Q^\\pi(s, a) \\\\\n",
    "&= r(s, a) + \\max_\\pi E_{(s', a') \\sim p^\\pi (\\cdot | s, a)} \\left[ \\gamma Q^\\pi(s', a') \\right] \\\\\n",
    "&= r(s, a) + \\gamma E_{(s', a') \\sim p^{\\pi^*} (\\cdot | s, a)} \\left[ Q^{\\pi^*} (s', a') \\right]\n",
    "\\end{aligned}\n",
    "\\end{equation*}\n",
    "\n",
    "The optimal policy is given, for a state $s$, by $\\pi^* (s) = \\arg\\max_a Q^* (s, a)$. Hence,\n",
    "\n",
    "\\begin{equation*}\n",
    "Q^* (s, a) = r(s, a) + \\gamma E_{s' \\sim \\pi^* (\\cdot | s, a)} \\left[ \\max_{a'} Q^* (s, a') \\right]\n",
    "\\end{equation*}\n",
    "\n",
    "and\n",
    "\n",
    "\\begin{equation*}\n",
    "\\boxed{Q^* (s, a) = E_{s' \\sim \\pi^* (\\cdot| s, a)} \\left[ r(s, a) + \\gamma \\max_{a'} Q^*(s', a') \\right]}\n",
    "\\end{equation*}\n",
    "\n",
    "The goal is to find a policy $\\pi$, or equivalently a Q-function $Q^\\pi$, such that the optimal Bellman equation is satisfied (or in practice, almost satisfied):\n",
    "\n",
    "\\begin{equation*}\n",
    "Q^\\pi(s,a) = E_{s' \\sim p(.|s,a)}[r(s,a) + \\gamma \\max_{a'} Q^\\pi(s',a')]\n",
    "\\end{equation*}\n",
    "\n",
    "This means that in expectation (w.r.t. $s'$), we want $Q^\\pi (s, a) - r(s, a) + \\gamma \\max_{a'} Q^\\pi (s', a')$ to be close to $0$. Hence, it is natural to consider the loss $\\mathcal{L}$ given by:\n",
    "\\begin{equation*}\n",
    "\\boxed{\\mathcal{L} \\left( \\theta \\right) = E_{s' \\sim \\pi^* (\\cdot | s, a)} \\left( \\left|\\left| r + \\gamma \\max_{a'} Q(s', a', \\theta) - Q(s, a, \\theta) \\right|\\right|^{2} \\right)}\n",
    "\\end{equation*}"
   ]
  },
  {
   "cell_type": "markdown",
   "metadata": {},
   "source": [
    "***\n",
    "The DQN-learning algorithm relies on these derivations to train the parameters $\\theta$ of a Deep Neural Network:\n",
    "\n",
    "1. At the state $s_t$, select the action $a_t$ with best reward using $Q_t$ and store the results;\n",
    "\n",
    "2. Obtain the new state $s_{t+1}$ from the environment $p$;\n",
    "\n",
    "3. Store $(s_t,a_t,s_{t+1})$;\n",
    "\n",
    "4. Obtain $Q_{t+1}$ by minimizing  $\\mathcal{L}$ from a recovered batch from the previously stored results.\n",
    "\n",
    "***\n",
    "__Question 6__ Implement the class ```Memory``` that stores moves (in a replay buffer) via ```remember``` and provides a ```random_access``` to these. Specify a maximum memory size to avoid side effects. You can for example use a ```list()``` and set by default ```max_memory=100```."
   ]
  },
  {
   "cell_type": "code",
   "execution_count": 9,
   "metadata": {},
   "outputs": [],
   "source": [
    "import random\n",
    "\n",
    "class Memory(object):\n",
    "    def __init__(self, max_memory=100):\n",
    "        self.max_memory = max_memory\n",
    "        self.memory = list()\n",
    "\n",
    "    def remember(self, m):\n",
    "        \"\"\"\n",
    "        Remember the move m. If the memory is full, forget the oldest move and add the most recent one.\n",
    "        \"\"\"\n",
    "        if len(self.memory) > self.max_memory:\n",
    "            del self.memory[0]\n",
    "        \n",
    "        self.memory.append(m)\n",
    "\n",
    "    def random_access(self):\n",
    "        \"\"\"\n",
    "        Choose randomly an element from the list of saved moves.\n",
    "        \"\"\"\n",
    "        return random.choice(self.memory)"
   ]
  },
  {
   "cell_type": "markdown",
   "metadata": {},
   "source": [
    "***\n",
    "The pipeline we will use for training is given below:"
   ]
  },
  {
   "cell_type": "code",
   "execution_count": 10,
   "metadata": {},
   "outputs": [],
   "source": [
    "def train(agent, env, epoch, prefix=''):\n",
    "    # Number of won games\n",
    "    score = 0\n",
    "    loss = 0\n",
    "    \n",
    "    scores = []\n",
    "    losses = []\n",
    "\n",
    "    for e in range(epoch):\n",
    "        # At each epoch, we restart to a fresh game and get the initial state\n",
    "        state = env.reset()\n",
    "        # This assumes that the games will terminate\n",
    "        game_over = False\n",
    "\n",
    "        win = 0\n",
    "        lose = 0\n",
    "        average_loss = 0\n",
    "        \n",
    "        while not game_over:\n",
    "            # The agent performs an action\n",
    "            action = agent.act(state)\n",
    "\n",
    "            # Apply an action to the environment, get the next state, the reward\n",
    "            # and if the games end\n",
    "            prev_state = state\n",
    "            state, reward, game_over = env.act(action)\n",
    "\n",
    "            # Update the counters\n",
    "            if reward > 0:\n",
    "                win = win + reward\n",
    "            if reward < 0:\n",
    "                lose = lose - reward\n",
    "\n",
    "            # Apply the reinforcement strategy\n",
    "            loss = agent.reinforce(prev_state, state,  action, reward, game_over)\n",
    "            average_loss += loss\n",
    "            \n",
    "        losses.append(average_loss / env.max_time)\n",
    "\n",
    "        # Save as a mp4\n",
    "        if e % 10 == 0:\n",
    "            env.draw(prefix + str(e))\n",
    "\n",
    "        # Update stats\n",
    "        score += win - lose\n",
    "        scores.append(win - lose)\n",
    "\n",
    "        print(\"Epoch {:03d}/{:03d} | Loss {:.4f} | Win/lose count {}/{} ({})\"\n",
    "              .format(e, epoch, loss, win, lose, win - lose))\n",
    "        agent.save(name_weights=prefix + 'model.h5', name_model=prefix + 'model.json')\n",
    "        \n",
    "    return losses, scores"
   ]
  },
  {
   "cell_type": "markdown",
   "metadata": {},
   "source": [
    "***\n",
    "__Question 7__ Implement the DQN training algorithm using a cascade of fully connected layers. You can use different learning rate, batch size or memory size parameters. In particular, the loss might oscillate while the player will start to win the games. You have to find a good criterium."
   ]
  },
  {
   "cell_type": "code",
   "execution_count": 11,
   "metadata": {},
   "outputs": [],
   "source": [
    "class DQN(Agent):\n",
    "    def __init__(self, grid_size,  epsilon=0.1, memory_size=100, batch_size=16, n_state=2):\n",
    "        super(DQN, self).__init__(epsilon=epsilon)\n",
    "\n",
    "        # Discount for Q learning\n",
    "        self.discount = 0.99\n",
    "        \n",
    "        self.grid_size = grid_size\n",
    "        \n",
    "        # number of state\n",
    "        self.n_state = n_state\n",
    "\n",
    "        # Memory\n",
    "        self.memory = Memory(memory_size)\n",
    "        \n",
    "        # Batch size when learning\n",
    "        self.batch_size = batch_size\n",
    "\n",
    "    def learned_act(self, s):\n",
    "        return np.argmax(self.model.predict(np.array([s])))\n",
    "\n",
    "    def reinforce(self, s_, n_s_, a_, r_, game_over_):\n",
    "        # Two steps: first memorize the states, second learn from the pool\n",
    "\n",
    "        self.memory.remember([s_, n_s_, a_, r_, game_over_])\n",
    "        \n",
    "        input_states = np.zeros((self.batch_size, 5, 5, self.n_state))\n",
    "        target_q = np.zeros((self.batch_size, 4))\n",
    "        \n",
    "        for i in range(self.batch_size):\n",
    "            ######## FILL IN\n",
    "            s_, n_s_, a_, r_, game_over_ = self.memory.random_access()\n",
    "            target_q[i] = self.model.predict(np.array([s_]))\n",
    "            \n",
    "            if game_over_:\n",
    "                ######## FILL IN\n",
    "                target_q[i, a_] = r_\n",
    "            else:\n",
    "                ######## FILL IN\n",
    "                target_q[i, a_] = r_ + self.discount * np.max(self.model.predict(np.array([n_s_])))\n",
    "            \n",
    "            ######## FILL IN\n",
    "            input_states[i] = s_\n",
    "        \n",
    "        # HINT: Clip the target to avoid exploiding gradients.. -- clipping is a bit tighter\n",
    "        target_q = np.clip(target_q, -3, 3)\n",
    "\n",
    "        l = self.model.train_on_batch(input_states, target_q)\n",
    "\n",
    "        return l\n",
    "\n",
    "    def save(self, name_weights='model.h5', name_model='model.json'):\n",
    "        self.model.save_weights(name_weights, overwrite=True)\n",
    "        with open(name_model, \"w\") as outfile:\n",
    "            json.dump(self.model.to_json(), outfile)\n",
    "            \n",
    "    def load(self, name_weights='model.h5', name_model='model.json'):\n",
    "        with open(name_model, \"r\") as jfile:\n",
    "            model = model_from_json(json.load(jfile))\n",
    "        model.load_weights(name_weights)\n",
    "        model.compile(\"sgd\", \"mse\")\n",
    "        self.model = model\n",
    "\n",
    "            \n",
    "class DQN_FC(DQN):\n",
    "    def __init__(self, *args, lr=0.1, **kwargs):\n",
    "        super(DQN_FC, self).__init__(*args, **kwargs)\n",
    "        \n",
    "        # NN Model\n",
    "        ####### FILL IN\n",
    "        hidden_size = 32\n",
    "        \n",
    "        model = Sequential([\n",
    "            Flatten(),\n",
    "            Dense(hidden_size),\n",
    "            Activation('relu'),\n",
    "            Dense(hidden_size),\n",
    "            Activation('relu'),\n",
    "            Dense(self.n_action)\n",
    "        ])\n",
    "        \n",
    "        # model.compile(sgd(lr=lr, decay=1e-4, momentum=0.0), 'mse')\n",
    "        model.compile(adam(lr=lr), 'mse')\n",
    "        self.model = model"
   ]
  },
  {
   "cell_type": "code",
   "execution_count": 12,
   "metadata": {},
   "outputs": [
    {
     "name": "stdout",
     "output_type": "stream",
     "text": [
      "Epoch 000/051 | Loss 0.0034 | Win/lose count 6.0/4.0 (2.0)\n",
      "Epoch 001/051 | Loss 0.0029 | Win/lose count 1.5/4.0 (-2.5)\n",
      "Epoch 002/051 | Loss 0.0034 | Win/lose count 3.5/6.0 (-2.5)\n",
      "Epoch 003/051 | Loss 0.0022 | Win/lose count 2.5/3.0 (-0.5)\n",
      "Epoch 004/051 | Loss 0.0028 | Win/lose count 5.0/8.0 (-3.0)\n",
      "Epoch 005/051 | Loss 0.0023 | Win/lose count 7.0/5.0 (2.0)\n",
      "Epoch 006/051 | Loss 0.0042 | Win/lose count 5.0/3.0 (2.0)\n",
      "Epoch 007/051 | Loss 0.0044 | Win/lose count 7.5/2.0 (5.5)\n",
      "Epoch 008/051 | Loss 0.0124 | Win/lose count 7.5/3.0 (4.5)\n",
      "Epoch 009/051 | Loss 0.0017 | Win/lose count 5.0/1.0 (4.0)\n",
      "Epoch 010/051 | Loss 0.0038 | Win/lose count 5.5/2.0 (3.5)\n",
      "Epoch 011/051 | Loss 0.0026 | Win/lose count 2.0/4.0 (-2.0)\n",
      "Epoch 012/051 | Loss 0.0095 | Win/lose count 4.0/2.0 (2.0)\n",
      "Epoch 013/051 | Loss 0.0012 | Win/lose count 4.0/0 (4.0)\n",
      "Epoch 014/051 | Loss 0.0027 | Win/lose count 5.5/2.0 (3.5)\n",
      "Epoch 015/051 | Loss 0.0021 | Win/lose count 6.0/4.0 (2.0)\n",
      "Epoch 016/051 | Loss 0.0018 | Win/lose count 4.5/1.0 (3.5)\n",
      "Epoch 017/051 | Loss 0.0031 | Win/lose count 6.5/7.0 (-0.5)\n",
      "Epoch 018/051 | Loss 0.0035 | Win/lose count 6.0/1.0 (5.0)\n",
      "Epoch 019/051 | Loss 0.0053 | Win/lose count 5.5/2.0 (3.5)\n",
      "Epoch 020/051 | Loss 0.0022 | Win/lose count 7.0/3.0 (4.0)\n",
      "Epoch 021/051 | Loss 0.0014 | Win/lose count 9.0/2.0 (7.0)\n",
      "Epoch 022/051 | Loss 0.0066 | Win/lose count 12.5/3.0 (9.5)\n",
      "Epoch 023/051 | Loss 0.1023 | Win/lose count 4.0/0 (4.0)\n",
      "Epoch 024/051 | Loss 0.0558 | Win/lose count 8.5/1.0 (7.5)\n",
      "Epoch 025/051 | Loss 0.0027 | Win/lose count 3.0/3.0 (0.0)\n",
      "Epoch 026/051 | Loss 0.0031 | Win/lose count 6.5/2.0 (4.5)\n",
      "Epoch 027/051 | Loss 0.0073 | Win/lose count 4.5/4.0 (0.5)\n",
      "Epoch 028/051 | Loss 0.0032 | Win/lose count 17.0/5.0 (12.0)\n",
      "Epoch 029/051 | Loss 0.0151 | Win/lose count 3.5/7.0 (-3.5)\n",
      "Epoch 030/051 | Loss 0.0042 | Win/lose count 8.0/2.0 (6.0)\n",
      "Epoch 031/051 | Loss 0.0046 | Win/lose count 9.0/1.0 (8.0)\n",
      "Epoch 032/051 | Loss 0.0039 | Win/lose count 14.0/4.0 (10.0)\n",
      "Epoch 033/051 | Loss 0.0058 | Win/lose count 12.5/3.0 (9.5)\n",
      "Epoch 034/051 | Loss 0.0090 | Win/lose count 7.5/4.0 (3.5)\n",
      "Epoch 035/051 | Loss 0.0022 | Win/lose count 14.0/4.0 (10.0)\n",
      "Epoch 036/051 | Loss 0.0023 | Win/lose count 7.5/4.0 (3.5)\n",
      "Epoch 037/051 | Loss 0.0054 | Win/lose count 2.0/3.0 (-1.0)\n",
      "Epoch 038/051 | Loss 0.0059 | Win/lose count 9.0/1.0 (8.0)\n",
      "Epoch 039/051 | Loss 0.0032 | Win/lose count 3.5/2.0 (1.5)\n",
      "Epoch 040/051 | Loss 0.0026 | Win/lose count 7.0/2.0 (5.0)\n",
      "Epoch 041/051 | Loss 0.0027 | Win/lose count 13.0/2.0 (11.0)\n",
      "Epoch 042/051 | Loss 0.0024 | Win/lose count 10.0/1.0 (9.0)\n",
      "Epoch 043/051 | Loss 0.0022 | Win/lose count 2.5/0 (2.5)\n",
      "Epoch 044/051 | Loss 0.0023 | Win/lose count 3.5/3.0 (0.5)\n",
      "Epoch 045/051 | Loss 0.0037 | Win/lose count 5.0/1.0 (4.0)\n",
      "Epoch 046/051 | Loss 0.0021 | Win/lose count 10.5/2.0 (8.5)\n",
      "Epoch 047/051 | Loss 0.0018 | Win/lose count 4.5/3.0 (1.5)\n",
      "Epoch 048/051 | Loss 0.0012 | Win/lose count 10.0/0 (10.0)\n",
      "Epoch 049/051 | Loss 0.0031 | Win/lose count 7.0/1.0 (6.0)\n",
      "Epoch 050/051 | Loss 0.0023 | Win/lose count 2.0/6.0 (-4.0)\n"
     ]
    },
    {
     "data": {
      "text/html": [
       "<video alt=\"test\" controls>\n",
       "                <source src=\"data:video/mp4;base64,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\" type=\"video/mp4\" />\n",
       "             </video>"
      ],
      "text/plain": [
       "<IPython.core.display.HTML object>"
      ]
     },
     "execution_count": 12,
     "metadata": {},
     "output_type": "execute_result"
    }
   ],
   "source": [
    "epochs_train = 51\n",
    "\n",
    "env = Environment(grid_size=size, max_time=T, temperature=.3)\n",
    "agent = DQN_FC(size, lr=1e-3, epsilon=.1, memory_size=2000, batch_size=32)\n",
    "\n",
    "losses, scores = train(agent, env, epochs_train, prefix='fc_train')\n",
    "HTML(display_videos('fc_train{}.mp4'.format(epochs_train-1)))"
   ]
  },
  {
   "cell_type": "code",
   "execution_count": 13,
   "metadata": {},
   "outputs": [
    {
     "data": {
      "image/png": "[encoded data removed]",
      "text/plain": [
       "<Figure size 864x288 with 2 Axes>"
      ]
     },
     "metadata": {
      "needs_background": "light"
     },
     "output_type": "display_data"
    }
   ],
   "source": [
    "def plot_performances(losses, scores, window_size=4):\n",
    "    plt.figure(figsize=(12, 4))\n",
    "\n",
    "    plt.subplot(121)\n",
    "    plt.title('Average Loss per epoch')\n",
    "    plt.xlabel('Epochs')\n",
    "    plt.ylabel('Loss')\n",
    "    plt.plot(losses, alpha=.3, c='b', label='loss')\n",
    "    plt.plot(np.arange(window_size//2, epochs_train - window_size//2 + 1),\n",
    "             np.convolve(losses, np.ones((window_size,)) / window_size, mode='valid'),\n",
    "             c='b', label='smoothed loss')\n",
    "    plt.legend(loc='best')\n",
    "\n",
    "    plt.subplot(122)\n",
    "    plt.title('Smoothed score')\n",
    "    plt.xlabel('Epochs')\n",
    "    plt.ylabel('Score')\n",
    "    plt.plot(scores, alpha=.3, c='g', label='score')\n",
    "    plt.plot(np.arange(window_size//2, epochs_train - window_size//2 + 1), \n",
    "             np.convolve(scores, np.ones((window_size,)) / window_size , mode='valid'),\n",
    "             c='g', label='smoothed score')\n",
    "    plt.legend(loc='best')\n",
    "\n",
    "    plt.show()\n",
    "\n",
    "plot_performances(losses, scores)"
   ]
  },
  {
   "cell_type": "markdown",
   "metadata": {},
   "source": [
    "***\n",
    "***\n",
    "__Question 8__ Implement the DQN training algorithm using a CNN (for example, 2 convolutional layers and one final fully connected layer)."
   ]
  },
  {
   "cell_type": "code",
   "execution_count": 14,
   "metadata": {},
   "outputs": [],
   "source": [
    "class DQN_CNN(DQN):\n",
    "    def __init__(self, *args, lr=0.1, **kwargs):\n",
    "        super(DQN_CNN, self).__init__(*args, **kwargs)\n",
    "        \n",
    "        ###### FILL IN\n",
    "        model = Sequential([\n",
    "            Conv2D(16, 3, padding='same'),\n",
    "            Activation('relu'),\n",
    "            Conv2D(32, 3, padding='same'),\n",
    "            Activation('relu'),\n",
    "            Flatten(),\n",
    "            Dense(64),\n",
    "            Activation('relu'),\n",
    "            Dense(self.n_action)\n",
    "        ])\n",
    "        \n",
    "        # model.compile(sgd(lr=lr, decay=1e-4, momentum=0.0), 'mse')\n",
    "        model.compile(adam(lr=lr), 'mse')\n",
    "        self.model = model"
   ]
  },
  {
   "cell_type": "code",
   "execution_count": 15,
   "metadata": {
    "scrolled": true
   },
   "outputs": [
    {
     "name": "stdout",
     "output_type": "stream",
     "text": [
      "Epoch 000/051 | Loss 0.0591 | Win/lose count 6.5/10.0 (-3.5)\n",
      "Epoch 001/051 | Loss 0.0017 | Win/lose count 9.5/7.0 (2.5)\n",
      "Epoch 002/051 | Loss 0.0024 | Win/lose count 10.0/3.0 (7.0)\n",
      "Epoch 003/051 | Loss 0.0074 | Win/lose count 6.5/3.0 (3.5)\n",
      "Epoch 004/051 | Loss 0.0015 | Win/lose count 9.5/7.0 (2.5)\n",
      "Epoch 005/051 | Loss 0.0165 | Win/lose count 4.5/4.0 (0.5)\n",
      "Epoch 006/051 | Loss 0.0015 | Win/lose count 8.5/2.0 (6.5)\n",
      "Epoch 007/051 | Loss 0.0016 | Win/lose count 10.0/3.0 (7.0)\n",
      "Epoch 008/051 | Loss 0.0474 | Win/lose count 12.5/4.0 (8.5)\n",
      "Epoch 009/051 | Loss 0.0031 | Win/lose count 9.5/2.0 (7.5)\n",
      "Epoch 010/051 | Loss 0.0022 | Win/lose count 10.5/5.0 (5.5)\n",
      "Epoch 011/051 | Loss 0.0026 | Win/lose count 10.5/4.0 (6.5)\n",
      "Epoch 012/051 | Loss 0.0047 | Win/lose count 11.0/2.0 (9.0)\n",
      "Epoch 013/051 | Loss 0.0012 | Win/lose count 7.0/6.0 (1.0)\n",
      "Epoch 014/051 | Loss 0.0013 | Win/lose count 13.0/2.0 (11.0)\n",
      "Epoch 015/051 | Loss 0.0016 | Win/lose count 10.5/2.0 (8.5)\n",
      "Epoch 016/051 | Loss 0.0010 | Win/lose count 6.0/4.0 (2.0)\n",
      "Epoch 017/051 | Loss 0.0028 | Win/lose count 13.0/5.0 (8.0)\n",
      "Epoch 018/051 | Loss 0.0019 | Win/lose count 6.0/0 (6.0)\n",
      "Epoch 019/051 | Loss 0.0028 | Win/lose count 14.0/2.0 (12.0)\n",
      "Epoch 020/051 | Loss 0.0044 | Win/lose count 6.5/4.0 (2.5)\n",
      "Epoch 021/051 | Loss 0.0056 | Win/lose count 7.5/3.0 (4.5)\n",
      "Epoch 022/051 | Loss 0.0467 | Win/lose count 18.0/2.0 (16.0)\n",
      "Epoch 023/051 | Loss 0.0049 | Win/lose count 7.0/2.0 (5.0)\n",
      "Epoch 024/051 | Loss 0.0026 | Win/lose count 18.5/5.0 (13.5)\n",
      "Epoch 025/051 | Loss 0.0015 | Win/lose count 14.5/4.0 (10.5)\n",
      "Epoch 026/051 | Loss 0.0049 | Win/lose count 4.5/0 (4.5)\n",
      "Epoch 027/051 | Loss 0.0066 | Win/lose count 6.0/1.0 (5.0)\n",
      "Epoch 028/051 | Loss 0.0018 | Win/lose count 5.5/4.0 (1.5)\n",
      "Epoch 029/051 | Loss 0.0009 | Win/lose count 7.5/1.0 (6.5)\n",
      "Epoch 030/051 | Loss 0.0065 | Win/lose count 8.5/2.0 (6.5)\n",
      "Epoch 031/051 | Loss 0.0009 | Win/lose count 7.0/2.0 (5.0)\n",
      "Epoch 032/051 | Loss 0.0017 | Win/lose count 15.0/9.0 (6.0)\n",
      "Epoch 033/051 | Loss 0.0057 | Win/lose count 10.0/3.0 (7.0)\n",
      "Epoch 034/051 | Loss 0.0008 | Win/lose count 11.5/1.0 (10.5)\n",
      "Epoch 035/051 | Loss 0.0011 | Win/lose count 8.5/5.0 (3.5)\n",
      "Epoch 036/051 | Loss 0.0499 | Win/lose count 8.5/2.0 (6.5)\n",
      "Epoch 037/051 | Loss 0.0023 | Win/lose count 7.5/8.0 (-0.5)\n",
      "Epoch 038/051 | Loss 0.0039 | Win/lose count 17.0/3.0 (14.0)\n",
      "Epoch 039/051 | Loss 0.0028 | Win/lose count 11.5/4.0 (7.5)\n",
      "Epoch 040/051 | Loss 0.0034 | Win/lose count 13.0/5.0 (8.0)\n",
      "Epoch 041/051 | Loss 0.0021 | Win/lose count 7.0/4.0 (3.0)\n",
      "Epoch 042/051 | Loss 0.0014 | Win/lose count 7.0/2.0 (5.0)\n",
      "Epoch 043/051 | Loss 0.0017 | Win/lose count 11.5/3.0 (8.5)\n",
      "Epoch 044/051 | Loss 0.0024 | Win/lose count 8.0/0 (8.0)\n",
      "Epoch 045/051 | Loss 0.0039 | Win/lose count 5.5/1.0 (4.5)\n",
      "Epoch 046/051 | Loss 0.0018 | Win/lose count 10.0/1.0 (9.0)\n",
      "Epoch 047/051 | Loss 0.0009 | Win/lose count 7.5/3.0 (4.5)\n",
      "Epoch 048/051 | Loss 0.0054 | Win/lose count 10.0/3.0 (7.0)\n",
      "Epoch 049/051 | Loss 0.0020 | Win/lose count 11.0/4.0 (7.0)\n",
      "Epoch 050/051 | Loss 0.0016 | Win/lose count 9.5/3.0 (6.5)\n"
     ]
    },
    {
     "data": {
      "text/html": [
       "<video alt=\"test\" controls>\n",
       "                <source src=\"data:video/mp4;base64,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\" type=\"video/mp4\" />\n",
       "             </video>"
      ],
      "text/plain": [
       "<IPython.core.display.HTML object>"
      ]
     },
     "execution_count": 15,
     "metadata": {},
     "output_type": "execute_result"
    }
   ],
   "source": [
    "epochs_train = 51\n",
    "\n",
    "env = Environment(grid_size=size, max_time=T, temperature=0.3)\n",
    "agent = DQN_CNN(size, lr=1e-3, epsilon=0.1, memory_size=2000, batch_size=32)\n",
    "losses, scores = train(agent, env, epochs_train, prefix='cnn_train')\n",
    "HTML(display_videos('cnn_train{}.mp4'.format(epochs_train-1)))"
   ]
  },
  {
   "cell_type": "code",
   "execution_count": 16,
   "metadata": {},
   "outputs": [
    {
     "data": {
      "image/png": "[encoded data removed]",
      "text/plain": [
       "<Figure size 864x288 with 2 Axes>"
      ]
     },
     "metadata": {
      "needs_background": "light"
     },
     "output_type": "display_data"
    }
   ],
   "source": [
    "plot_performances(losses, scores)"
   ]
  },
  {
   "cell_type": "markdown",
   "metadata": {},
   "source": [
    "***\n",
    "***\n",
    "__Question 9__ Test both algorithms and compare their performances. Which issue(s) do you observe? Observe also different behaviors by changing the temperature."
   ]
  },
  {
   "cell_type": "code",
   "execution_count": 17,
   "metadata": {},
   "outputs": [
    {
     "name": "stdout",
     "output_type": "stream",
     "text": [
      "Test of the CNN\n",
      "Win/lose count 14.5/7.0. Average score (7.5)\n",
      "Win/lose count 7.5/2.0. Average score (6.5)\n",
      "Win/lose count 4.0/2.0. Average score (5.0)\n",
      "Win/lose count 3.5/3.0. Average score (3.875)\n",
      "Win/lose count 12.0/2.0. Average score (5.1)\n",
      "Win/lose count 14.0/6.0. Average score (5.583333333333333)\n",
      "Win/lose count 2.5/5.0. Average score (4.428571428571429)\n",
      "Win/lose count 5.0/3.0. Average score (4.125)\n",
      "Win/lose count 7.0/5.0. Average score (3.888888888888889)\n",
      "Win/lose count 8.0/4.0. Average score (3.9)\n",
      "Win/lose count 11.0/2.0. Average score (4.363636363636363)\n",
      "Final score: 4.363636363636363\n",
      "Test of the FC\n",
      "Win/lose count 2.5/3.0. Average score (-0.5)\n",
      "Win/lose count 13.5/6.0. Average score (3.5)\n",
      "Win/lose count 4.5/3.0. Average score (2.8333333333333335)\n",
      "Win/lose count 2.5/3.0. Average score (2.0)\n",
      "Win/lose count 10.0/4.0. Average score (2.8)\n",
      "Win/lose count 9.0/3.0. Average score (3.3333333333333335)\n",
      "Win/lose count 5.5/5.0. Average score (2.9285714285714284)\n",
      "Win/lose count 6.5/6.0. Average score (2.625)\n",
      "Win/lose count 3.5/4.0. Average score (2.2777777777777777)\n",
      "Win/lose count 5.0/3.0. Average score (2.25)\n",
      "Win/lose count 5.5/2.0. Average score (2.3636363636363638)\n",
      "Final score: 2.3636363636363638\n"
     ]
    }
   ],
   "source": [
    "epochs_test = 11\n",
    "\n",
    "env = Environment(grid_size=size, max_time=T, temperature=0.3)\n",
    "agent_cnn = DQN_CNN(size, lr=.1, epsilon=0.1, memory_size=2000, batch_size=32)\n",
    "agent_cnn.load(name_weights='cnn_trainmodel.h5', name_model='cnn_trainmodel.json')\n",
    "\n",
    "agent_fc = DQN_FC(size, lr=.1, epsilon=0.1, memory_size=2000, batch_size=32)\n",
    "agent_fc.load(name_weights='fc_trainmodel.h5', name_model='fc_trainmodel.json')\n",
    "print('Test of the CNN')\n",
    "test(agent_cnn, env, epochs_test, prefix='cnn_test')\n",
    "print('Test of the FC')\n",
    "test(agent_fc, env, epochs_test, prefix='fc_test')"
   ]
  },
  {
   "cell_type": "code",
   "execution_count": 18,
   "metadata": {},
   "outputs": [
    {
     "data": {
      "text/html": [
       "<video alt=\"test\" controls>\n",
       "                <source src=\"data:video/mp4;base64,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\" type=\"video/mp4\" />\n",
       "             </video>"
      ],
      "text/plain": [
       "<IPython.core.display.HTML object>"
      ]
     },
     "execution_count": 18,
     "metadata": {},
     "output_type": "execute_result"
    }
   ],
   "source": [
    "HTML(display_videos('cnn_test10.mp4'))"
   ]
  },
  {
   "cell_type": "code",
   "execution_count": 19,
   "metadata": {},
   "outputs": [
    {
     "data": {
      "text/html": [
       "<video alt=\"test\" controls>\n",
       "                <source src=\"data:video/mp4;base64,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\" type=\"video/mp4\" />\n",
       "             </video>"
      ],
      "text/plain": [
       "<IPython.core.display.HTML object>"
      ]
     },
     "execution_count": 19,
     "metadata": {},
     "output_type": "execute_result"
    }
   ],
   "source": [
    "HTML(display_videos('fc_test10.mp4'))"
   ]
  },
  {
   "cell_type": "markdown",
   "metadata": {},
   "source": [
    "__Solution 9__: When we increase the temperature, we increase both the probabilities of having a cheese or a poison on a given cell. However, as we first put the cheese and then the poison, increasing the temperature increases the number of cheese and reduces the number of poison on the board. Naturally, this yields better rewards but it does not mean the agent is better.\n",
    "\n",
    "Indeed, we notice that **there is an issue regarding the exploration**. When the temperature is low, there are a lot of empty cells and the agent is easily stuck in an empty part of the board. This seems to be a strategy to avoid the poison but at the same time, the agent also avoids the cheese. When the temperature is higher, the agent first cleans a part of the board and then is likely to get stuck in this now-empty part of the board. In other words, the agent gets easily stuck into a local minima.\n",
    "\n",
    "Besides, we notice that the CNN yields better performance than the MLP."
   ]
  },
  {
   "cell_type": "markdown",
   "metadata": {},
   "source": [
    "***\n",
    "\n",
    "The algorithm tends to not explore the map which can be an issue. We propose two ideas in order to encourage exploration:\n",
    "1. Incorporating a decreasing $\\epsilon$-greedy exploration. You can use the method ```set_epsilon```\n",
    "2. Append via the environment a new state that describes if a cell has been visited or not\n",
    "\n",
    "***\n",
    "__Question 10__ Design a new ```train_explore``` function and environment class ```EnvironmentExploring``` to tackle the issue of exploration.\n",
    "\n"
   ]
  },
  {
   "cell_type": "code",
   "execution_count": 20,
   "metadata": {},
   "outputs": [],
   "source": [
    "def train_explore(agent, env, epoch, prefix=''):\n",
    "    # Number of won games\n",
    "    score = 0\n",
    "    loss = 0\n",
    "    \n",
    "    # Decreasing epsilon factor\n",
    "    gamma = .95\n",
    "    \n",
    "    # To record the performances during the training\n",
    "    scores = []\n",
    "    losses = []\n",
    "\n",
    "    for e in range(epoch):\n",
    "        # At each epoch, we restart to a fresh game and get the initial state\n",
    "        state = env.reset()\n",
    "        # This assumes that the games will terminate\n",
    "        game_over = False\n",
    "\n",
    "        win = 0\n",
    "        lose = 0\n",
    "        average_loss = 0\n",
    "        \n",
    "        while not game_over:\n",
    "            # The agent performs an action\n",
    "            action = agent.act(state)\n",
    "\n",
    "            # Apply an action to the environment, get the next state, the reward\n",
    "            # and if the games end\n",
    "            prev_state = state\n",
    "            state, reward, game_over = env.act(action, train=True)\n",
    "\n",
    "            # Update the counters\n",
    "            # to avoid having very low scores because of the malus position, we only\n",
    "            # count the reward if the agent ate a cheese or a poison\n",
    "            if reward > 0:\n",
    "                win = win + reward\n",
    "            if reward < 0:\n",
    "                lose = lose - reward\n",
    "\n",
    "            # Apply the reinforcement strategy\n",
    "            loss = agent.reinforce(prev_state, state,  action, reward, game_over)\n",
    "            average_loss += loss\n",
    "            \n",
    "        losses.append(average_loss / env.max_time)\n",
    "\n",
    "        # Save as a mp4\n",
    "        if e % 10 == 0:\n",
    "            env.draw(prefix + str(e))\n",
    "\n",
    "        # Update stats\n",
    "        score += win - lose\n",
    "        scores.append(win - lose)\n",
    "\n",
    "        print(\"Epoch {:03d}/{:03d} | Loss {:.4f} | Win/lose count {:.4f}/{:.4f} ({:.4f}) | Epsilon {:.4f}\"\n",
    "              .format(e, epoch, loss, win, lose, win - lose, agent.epsilon))\n",
    "        agent.save(name_weights=prefix + 'model.h5', name_model=prefix + 'model.json')\n",
    "        \n",
    "        # decreasing epsilon-greedy exploration\n",
    "        agent.set_epsilon(max(0.1, gamma * agent.epsilon))\n",
    "        \n",
    "    return losses, scores\n",
    "\n",
    "\n",
    "class EnvironmentExploring(Environment):\n",
    "    def __init__(self, grid_size=10, max_time=500, temperature=0.1):\n",
    "        \n",
    "        # keep the previous environment\n",
    "        super(EnvironmentExploring, self).__init__(grid_size=grid_size, \n",
    "                                                   max_time=max_time, \n",
    "                                                   temperature=temperature)\n",
    "        \n",
    "        # new feature to encourage exploration\n",
    "        self.malus_position = np.zeros((self.grid_size, self.grid_size))\n",
    "    \n",
    "    def act(self, action, train=True):\n",
    "        \n",
    "        # act as before\n",
    "        _, reward, game_over = super(EnvironmentExploring, self).act(action)\n",
    "        \n",
    "        if train:\n",
    "            # if the position has already been visited, apply a malus\n",
    "            reward -= self.malus_position[self.x, self.y]\n",
    "            \n",
    "        # set up the malus after a cell has been visited\n",
    "        self.malus_position[self.x, self.y] = 0.1\n",
    "\n",
    "        # concatenate features\n",
    "        state = np.concatenate((\n",
    "            self.malus_position.reshape(self.grid_size, self.grid_size, 1), \n",
    "            self.board.reshape(self.grid_size, self.grid_size, 1), \n",
    "            self.position.reshape(self.grid_size, self.grid_size, 1)\n",
    "        ), axis=2)\n",
    "        \n",
    "        # keep 5x5 window around the agent\n",
    "        state = state[self.x - 2:self.x + 3, self.y - 2:self.y + 3, :]\n",
    "        \n",
    "        return state, reward, game_over\n",
    "\n",
    "    def reset(self):\n",
    "        \n",
    "        # reset everything as before\n",
    "        super(EnvironmentExploring, self).reset()\n",
    "        \n",
    "        # reset the malus_position grid\n",
    "        self.malus_position = np.zeros((self.grid_size, self.grid_size))\n",
    "\n",
    "        # concatenate features\n",
    "        state = np.concatenate((\n",
    "            self.malus_position.reshape(self.grid_size, self.grid_size, 1), \n",
    "            self.board.reshape(self.grid_size, self.grid_size, 1), \n",
    "            self.position.reshape(self.grid_size, self.grid_size, 1)\n",
    "        ), axis=2)\n",
    "        \n",
    "        # keep 5x5 window around the agent\n",
    "        state = state[self.x - 2:self.x + 3, self.y - 2:self.y + 3, :]\n",
    "        \n",
    "        return state"
   ]
  },
  {
   "cell_type": "code",
   "execution_count": 21,
   "metadata": {
    "scrolled": true
   },
   "outputs": [
    {
     "name": "stdout",
     "output_type": "stream",
     "text": [
      "Epoch 000/051 | Loss 0.0067 | Win/lose count 11.5000/22.5000 (-11.0000) | Epsilon 0.6000\n",
      "Epoch 001/051 | Loss 0.0738 | Win/lose count 13.5000/26.7000 (-13.2000) | Epsilon 0.5700\n",
      "Epoch 002/051 | Loss 0.0029 | Win/lose count 18.5000/21.1000 (-2.6000) | Epsilon 0.5415\n",
      "Epoch 003/051 | Loss 0.0046 | Win/lose count 15.0000/24.5000 (-9.5000) | Epsilon 0.5144\n",
      "Epoch 004/051 | Loss 0.0055 | Win/lose count 16.0000/24.8000 (-8.8000) | Epsilon 0.4887\n",
      "Epoch 005/051 | Loss 0.0421 | Win/lose count 13.5000/21.3000 (-7.8000) | Epsilon 0.4643\n",
      "Epoch 006/051 | Loss 0.0125 | Win/lose count 16.5000/18.6000 (-2.1000) | Epsilon 0.4411\n",
      "Epoch 007/051 | Loss 0.0059 | Win/lose count 21.0000/23.2000 (-2.2000) | Epsilon 0.4190\n",
      "Epoch 008/051 | Loss 0.0042 | Win/lose count 16.5000/18.5000 (-2.0000) | Epsilon 0.3981\n",
      "Epoch 009/051 | Loss 0.0035 | Win/lose count 17.5000/18.3000 (-0.8000) | Epsilon 0.3781\n",
      "Epoch 010/051 | Loss 0.0043 | Win/lose count 16.5000/20.3000 (-3.8000) | Epsilon 0.3592\n",
      "Epoch 011/051 | Loss 0.0023 | Win/lose count 19.5000/19.3000 (0.2000) | Epsilon 0.3413\n",
      "Epoch 012/051 | Loss 0.0065 | Win/lose count 19.0000/20.5000 (-1.5000) | Epsilon 0.3242\n",
      "Epoch 013/051 | Loss 0.0032 | Win/lose count 17.5000/18.6000 (-1.1000) | Epsilon 0.3080\n",
      "Epoch 014/051 | Loss 0.0033 | Win/lose count 21.0000/18.6000 (2.4000) | Epsilon 0.2926\n",
      "Epoch 015/051 | Loss 0.0159 | Win/lose count 22.0000/17.1000 (4.9000) | Epsilon 0.2780\n",
      "Epoch 016/051 | Loss 0.0039 | Win/lose count 22.5000/22.1000 (0.4000) | Epsilon 0.2641\n",
      "Epoch 017/051 | Loss 0.0031 | Win/lose count 20.0000/17.2000 (2.8000) | Epsilon 0.2509\n",
      "Epoch 018/051 | Loss 0.0068 | Win/lose count 12.5000/16.7000 (-4.2000) | Epsilon 0.2383\n",
      "Epoch 019/051 | Loss 0.0185 | Win/lose count 19.5000/19.0000 (0.5000) | Epsilon 0.2264\n",
      "Epoch 020/051 | Loss 0.0078 | Win/lose count 24.5000/15.1000 (9.4000) | Epsilon 0.2151\n",
      "Epoch 021/051 | Loss 0.0058 | Win/lose count 23.0000/16.4000 (6.6000) | Epsilon 0.2043\n",
      "Epoch 022/051 | Loss 0.0034 | Win/lose count 21.0000/12.7000 (8.3000) | Epsilon 0.1941\n",
      "Epoch 023/051 | Loss 0.0030 | Win/lose count 16.0000/15.8000 (0.2000) | Epsilon 0.1844\n",
      "Epoch 024/051 | Loss 0.0019 | Win/lose count 17.0000/13.6000 (3.4000) | Epsilon 0.1752\n",
      "Epoch 025/051 | Loss 0.0037 | Win/lose count 23.0000/10.2000 (12.8000) | Epsilon 0.1664\n",
      "Epoch 026/051 | Loss 0.0065 | Win/lose count 19.5000/13.9000 (5.6000) | Epsilon 0.1581\n",
      "Epoch 027/051 | Loss 0.0032 | Win/lose count 14.0000/13.1000 (0.9000) | Epsilon 0.1502\n",
      "Epoch 028/051 | Loss 0.0023 | Win/lose count 21.5000/13.7000 (7.8000) | Epsilon 0.1427\n",
      "Epoch 029/051 | Loss 0.0070 | Win/lose count 18.0000/16.7000 (1.3000) | Epsilon 0.1356\n",
      "Epoch 030/051 | Loss 0.0037 | Win/lose count 21.5000/13.4000 (8.1000) | Epsilon 0.1288\n",
      "Epoch 031/051 | Loss 0.0030 | Win/lose count 20.0000/13.8000 (6.2000) | Epsilon 0.1223\n",
      "Epoch 032/051 | Loss 0.0034 | Win/lose count 20.5000/15.6000 (4.9000) | Epsilon 0.1162\n",
      "Epoch 033/051 | Loss 0.0043 | Win/lose count 20.0000/16.0000 (4.0000) | Epsilon 0.1104\n",
      "Epoch 034/051 | Loss 0.0012 | Win/lose count 23.0000/13.4000 (9.6000) | Epsilon 0.1049\n",
      "Epoch 035/051 | Loss 0.0023 | Win/lose count 25.0000/15.7000 (9.3000) | Epsilon 0.1000\n",
      "Epoch 036/051 | Loss 0.0029 | Win/lose count 18.5000/14.1000 (4.4000) | Epsilon 0.1000\n",
      "Epoch 037/051 | Loss 0.0090 | Win/lose count 7.5000/19.2000 (-11.7000) | Epsilon 0.1000\n",
      "Epoch 038/051 | Loss 0.0041 | Win/lose count 20.5000/16.7000 (3.8000) | Epsilon 0.1000\n",
      "Epoch 039/051 | Loss 0.0050 | Win/lose count 20.5000/14.6000 (5.9000) | Epsilon 0.1000\n",
      "Epoch 040/051 | Loss 0.0045 | Win/lose count 24.5000/11.2000 (13.3000) | Epsilon 0.1000\n",
      "Epoch 041/051 | Loss 0.0032 | Win/lose count 15.0000/14.5000 (0.5000) | Epsilon 0.1000\n",
      "Epoch 042/051 | Loss 0.0024 | Win/lose count 24.5000/12.4000 (12.1000) | Epsilon 0.1000\n",
      "Epoch 043/051 | Loss 0.0033 | Win/lose count 16.5000/13.2000 (3.3000) | Epsilon 0.1000\n",
      "Epoch 044/051 | Loss 0.0033 | Win/lose count 26.0000/10.8000 (15.2000) | Epsilon 0.1000\n",
      "Epoch 045/051 | Loss 0.0023 | Win/lose count 19.5000/16.2000 (3.3000) | Epsilon 0.1000\n",
      "Epoch 046/051 | Loss 0.0045 | Win/lose count 18.5000/16.0000 (2.5000) | Epsilon 0.1000\n",
      "Epoch 047/051 | Loss 0.0049 | Win/lose count 23.5000/11.1000 (12.4000) | Epsilon 0.1000\n",
      "Epoch 048/051 | Loss 0.0078 | Win/lose count 19.0000/18.4000 (0.6000) | Epsilon 0.1000\n",
      "Epoch 049/051 | Loss 0.0024 | Win/lose count 13.5000/15.6000 (-2.1000) | Epsilon 0.1000\n",
      "Epoch 050/051 | Loss 0.0076 | Win/lose count 20.0000/18.3000 (1.7000) | Epsilon 0.1000\n"
     ]
    },
    {
     "data": {
      "text/html": [
       "<video alt=\"test\" controls>\n",
       "                <source src=\"data:video/mp4;base64,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\" type=\"video/mp4\" />\n",
       "             </video>"
      ],
      "text/plain": [
       "<IPython.core.display.HTML object>"
      ]
     },
     "execution_count": 21,
     "metadata": {},
     "output_type": "execute_result"
    }
   ],
   "source": [
    "# Training\n",
    "epochs_train = 51\n",
    "env = EnvironmentExploring(grid_size=size, max_time=T, temperature=0.3)\n",
    "agent = DQN_CNN(size, lr=1e-3, epsilon=.6, memory_size=2000, batch_size=32, n_state=3)\n",
    "losses, scores = train_explore(agent, env, epochs_train, prefix='cnn_train_explore')\n",
    "HTML(display_videos('cnn_train_explore10.mp4'))"
   ]
  },
  {
   "cell_type": "code",
   "execution_count": 22,
   "metadata": {},
   "outputs": [
    {
     "data": {
      "image/png": "[encoded data removed]",
      "text/plain": [
       "<Figure size 864x288 with 2 Axes>"
      ]
     },
     "metadata": {
      "needs_background": "light"
     },
     "output_type": "display_data"
    }
   ],
   "source": [
    "plot_performances(losses, scores)"
   ]
  },
  {
   "cell_type": "code",
   "execution_count": 23,
   "metadata": {},
   "outputs": [
    {
     "name": "stdout",
     "output_type": "stream",
     "text": [
      "Win/lose count 21.5/11.799999999999978. Average score (9.700000000000022)\n",
      "Win/lose count 17.0/16.299999999999965. Average score (5.2000000000000295)\n",
      "Win/lose count 14.5/20.600000000000005. Average score (1.4333333333333513)\n",
      "Win/lose count 23.5/12.199999999999976. Average score (3.9000000000000195)\n",
      "Win/lose count 23.0/12.599999999999975. Average score (5.2000000000000215)\n",
      "Win/lose count 20.5/14.99999999999997. Average score (5.250000000000022)\n",
      "Win/lose count 23.5/12.199999999999976. Average score (6.114285714285737)\n",
      "Win/lose count 21.0/12.399999999999977. Average score (6.425000000000023)\n",
      "Win/lose count 22.5/12.599999999999977. Average score (6.811111111111133)\n",
      "Win/lose count 21.5/10.899999999999979. Average score (7.190000000000022)\n",
      "Win/lose count 13.0/18.3. Average score (6.054545454545475)\n",
      "Final score: 6.054545454545475\n"
     ]
    },
    {
     "data": {
      "text/html": [
       "<video alt=\"test\" controls>\n",
       "                <source src=\"data:video/mp4;base64,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\" type=\"video/mp4\" />\n",
       "             </video>"
      ],
      "text/plain": [
       "<IPython.core.display.HTML object>"
      ]
     },
     "execution_count": 23,
     "metadata": {},
     "output_type": "execute_result"
    }
   ],
   "source": [
    "# Evaluation\n",
    "test(agent, env, epochs_test, prefix='cnn_test_explore')\n",
    "HTML(display_videos('cnn_test_explore10.mp4'))"
   ]
  },
  {
   "cell_type": "markdown",
   "metadata": {},
   "source": [
    "__Solution 10__: We can see that the agent is not stuck anymore and explore the board to retrieve the cheese. It results in better performances."
   ]
  },
  {
   "cell_type": "markdown",
   "metadata": {},
   "source": [
    "***\n",
    "***\n",
    "__BONUS question__ Use the expert DQN from the previous question to generate some winning games. Train a model that mimicks its behavior. Compare the performances."
   ]
  },
  {
   "cell_type": "markdown",
   "metadata": {},
   "source": []
  },
  {
   "cell_type": "markdown",
   "metadata": {},
   "source": [
    "***"
   ]
  }
 ],
 "metadata": {
  "kernelspec": {
   "display_name": "Python 3",
   "language": "python",
   "name": "python3"
  },
  "language_info": {
   "codemirror_mode": {
    "name": "ipython",
    "version": 3
   },
   "file_extension": ".py",
   "mimetype": "text/x-python",
   "name": "python",
   "nbconvert_exporter": "python",
   "pygments_lexer": "ipython3",
   "version": "3.6.8"
  }
 },
 "nbformat": 4,
 "nbformat_minor": 2
}
