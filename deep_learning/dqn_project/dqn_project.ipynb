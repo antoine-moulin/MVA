{
 "cells": [
  {
   "cell_type": "markdown",
   "metadata": {},
   "source": [
    "**You may need to install [OpenCV](https://pypi.python.org/pypi/opencv-python) and [scikit-video](http://www.scikit-video.org/stable/).**"
   ]
  },
  {
   "cell_type": "code",
   "execution_count": 1,
   "metadata": {},
   "outputs": [
    {
     "name": "stderr",
     "output_type": "stream",
     "text": [
      "Using TensorFlow backend.\n"
     ]
    }
   ],
   "source": [
    "import keras\n",
    "import numpy as np\n",
    "import matplotlib.pyplot as plt\n",
    "import io\n",
    "import base64\n",
    "from IPython.display import HTML\n",
    "import skvideo.io\n",
    "import cv2\n",
    "import json\n",
    "\n",
    "from keras.models import Sequential, model_from_json\n",
    "from keras.layers.core import Dense\n",
    "from keras.optimizers import sgd, adam\n",
    "from keras.layers import Flatten, Conv2D, MaxPooling2D, Activation, AveragePooling2D, Reshape, BatchNormalization, Dropout"
   ]
  },
  {
   "cell_type": "markdown",
   "metadata": {},
   "source": [
    "# MiniProject on Deep Reinforcement Learning"
   ]
  },
  {
   "cell_type": "markdown",
   "metadata": {},
   "source": [
    "__Notations__: $E_p$ is the expectation under probability $p$. Please justify each of your answer and widely comment your code."
   ]
  },
  {
   "cell_type": "markdown",
   "metadata": {},
   "source": [
    "# Context"
   ]
  },
  {
   "cell_type": "markdown",
   "metadata": {},
   "source": [
    "In a reinforcement learning algorithm, we modelize each step $t$ as an action $a_t$ obtained from a state $s_t$, i.e. $\\{(a_{t},s_{t})_{t\\leq T}\\}$ having the Markov property. We consider a discount factor $\\gamma \\in [0,1]$ that ensures convergence. The goal is to find among all the policies $\\pi$, one that maximizes the expected reward:\n",
    "\n",
    "\\begin{equation*}\n",
    "R(\\pi) = \\sum_{t \\leq T} E_{p^\\pi} \\left[ \\gamma^t r(s_t, a_t) \\right] \\> ,\n",
    "\\end{equation*}\n",
    "\n",
    "where: \n",
    "\\begin{equation*}\n",
    "p^\\pi \\left( a_0, a_1, s_1, \\dots, a_T, s_T \\right) = p(a_0) \\prod_{t=1}^T \\pi(a_t| s_t) p(s_{t+1} | s_t, a_t) \\> .\n",
    "\\end{equation*}\n",
    "\n",
    "We note the $Q$-function:\n",
    "\n",
    "\\begin{equation*}\n",
    "Q^\\pi (s, a) = E_{p^\\pi} \\left[ \\sum_{t \\leq T} \\gamma^t r(s_t, a_t) \\,\\middle\\vert\\, s_0 = s, a_0 = a \\right] \\> .\n",
    "\\end{equation*}\n",
    "\n",
    "Thus, the optimal $Q$-function is:\n",
    "\\begin{equation*}\n",
    "Q^* (s, a) = \\max_\\pi Q^\\pi (s, a) \\> .\n",
    "\\end{equation*}\n",
    "\n",
    "In this project, we will apply the deep reinforcement learning techniques to a simple game: an agent will have to learn from scratch a policy that will permit it maximizing a reward."
   ]
  },
  {
   "cell_type": "markdown",
   "metadata": {},
   "source": [
    "## The environment, the agent and the game"
   ]
  },
  {
   "cell_type": "markdown",
   "metadata": {},
   "source": [
    "### The environment"
   ]
  },
  {
   "cell_type": "markdown",
   "metadata": {},
   "source": [
    "```Environment``` is an abstract class that represents the states, rewards, and actions to obtain the new state."
   ]
  },
  {
   "cell_type": "code",
   "execution_count": 2,
   "metadata": {},
   "outputs": [],
   "source": [
    "class Environment(object):\n",
    "    def __init__(self):\n",
    "        pass\n",
    "\n",
    "    def act(self, act):\n",
    "        \"\"\"\n",
    "        One can act on the environment and obtain its reaction:\n",
    "        - the new state\n",
    "        - the reward of the new state\n",
    "        - should we continue the game?\n",
    "\n",
    "        :return: state, reward, game_over\n",
    "        \"\"\"\n",
    "        pass\n",
    "\n",
    "\n",
    "    def reset(self):\n",
    "        \"\"\"\n",
    "        Reinitialize the environment to a random state and returns\n",
    "        the original state\n",
    "\n",
    "        :return: state\n",
    "        \"\"\"\n",
    "        pass\n",
    "    \n",
    "    def draw(self):\n",
    "        \"\"\"\n",
    "        Visualize in the console or graphically the current state\n",
    "        \"\"\"\n",
    "        pass"
   ]
  },
  {
   "cell_type": "markdown",
   "metadata": {},
   "source": [
    "The method ```act``` allows to act on the environment at a given state $s_t$ (stored internally), via action $a_t$. The method will return the new state $s_{t+1}$, the reward $r(s_{t},a_{t})$ and determines if $t\\leq T$ (*game_over*).\n",
    "\n",
    "The method ```reset``` simply reinitializes the environment to a random state $s_0$.\n",
    "\n",
    "The method ```draw``` displays the current state $s_t$ (this is useful to check the behavior of the Agent).\n",
    "\n",
    "We modelize $s_t$ as a tensor, while $a_t$ is an integer."
   ]
  },
  {
   "cell_type": "markdown",
   "metadata": {},
   "source": [
    "### The Agent"
   ]
  },
  {
   "cell_type": "markdown",
   "metadata": {},
   "source": [
    "The goal of the ```Agent``` is to interact with the ```Environment``` by proposing actions $a_t$ obtained from a given state $s_t$ to attempt to maximize its __reward__ $r(s_t,a_t)$. We propose the following abstract class:"
   ]
  },
  {
   "cell_type": "code",
   "execution_count": 3,
   "metadata": {},
   "outputs": [],
   "source": [
    "class Agent(object):\n",
    "    def __init__(self, epsilon=0.1, n_action=4):\n",
    "        \"\"\"\n",
    "        The agent acts (uniformly) at random with probability epsilon and can choose \n",
    "        n_action different actions.\n",
    "        \"\"\"\n",
    "        self.epsilon = epsilon\n",
    "        self.n_action = n_action\n",
    "    \n",
    "    def set_epsilon(self, e):\n",
    "        \"\"\"\n",
    "        Change the random exploration parameter epsilon.\n",
    "        \"\"\"\n",
    "        self.epsilon = e\n",
    "\n",
    "    def act(self, s, train=True):\n",
    "        \"\"\"\n",
    "        This function should return the next action to do:\n",
    "        an integer between 0 and n_action (not included) with a random exploration of epsilon.\n",
    "        \n",
    "        :return: an action a\n",
    "        \"\"\"\n",
    "        if train:\n",
    "            if np.random.rand() <= self.epsilon:\n",
    "                a = np.random.randint(0, self.n_action, size=1)[0]\n",
    "            else:\n",
    "                a = self.learned_act(s)\n",
    "        else: # in some cases, this can improve the performance.. remove it if poor performances\n",
    "            a = self.learned_act(s)\n",
    "\n",
    "        return a\n",
    "\n",
    "    def learned_act(self,s):\n",
    "        \"\"\"\n",
    "        Act via the policy of the agent, from a given state s\n",
    "        it proposes an action a.\n",
    "        \"\"\"\n",
    "        pass\n",
    "\n",
    "    def reinforce(self, s, n_s, a, r, game_over_):\n",
    "        \"\"\"\n",
    "        This function is the core of the learning algorithm. \n",
    "        It takes as an input the current state s_, the next state n_s_\n",
    "        the action a_ used to move from s_ to n_s_ and the reward r_.\n",
    "        \n",
    "        Its goal is to learn a policy.\n",
    "        \"\"\"\n",
    "        pass\n",
    "\n",
    "    def save(self):\n",
    "        \"\"\"\n",
    "        This function returns basic stats if applicable: the\n",
    "        loss and/or the model\n",
    "        \"\"\"\n",
    "        pass\n",
    "\n",
    "    def load(self):\n",
    "        \"\"\"\n",
    "        This function allows to restore a model\n",
    "        \"\"\"\n",
    "        pass"
   ]
  },
  {
   "cell_type": "markdown",
   "metadata": {},
   "source": [
    "***\n",
    "__Question 1__:\n",
    "Explain the function act. Why is ```epsilon``` essential?"
   ]
  },
  {
   "cell_type": "markdown",
   "metadata": {},
   "source": [
    "__Solution 1__: ```epsilon``` is essential for exploration during the training. Indeed, with probability ```epsilon```, the agent chooses an action at random and follows the policy otherwise. Thus, the agent can try new possibilities during the training and obtain better rewards."
   ]
  },
  {
   "cell_type": "markdown",
   "metadata": {},
   "source": [
    "***\n",
    "### The Game"
   ]
  },
  {
   "cell_type": "markdown",
   "metadata": {},
   "source": [
    "The ```Agent``` and the ```Environment``` work in an interlaced way as in the following (take some time to understand this code as it is the core of the project)\n",
    "\n",
    "```python\n",
    "\n",
    "epoch = 300\n",
    "env = Environment()\n",
    "agent = Agent()\n",
    "\n",
    "\n",
    "# Number of won games\n",
    "score = 0\n",
    "loss = 0\n",
    "\n",
    "\n",
    "for e in range(epoch):\n",
    "    # At each epoch, we restart to a fresh game and get the initial state\n",
    "    state = env.reset()\n",
    "    # This assumes that the games will end\n",
    "    game_over = False\n",
    "\n",
    "    win = 0\n",
    "    lose = 0\n",
    "    \n",
    "    while not game_over:\n",
    "        # The agent performs an action\n",
    "        action = agent.act(state)\n",
    "\n",
    "        # Apply an action to the environment, get the next state, the reward\n",
    "        # and if the games end\n",
    "        prev_state = state\n",
    "        state, reward, game_over = env.act(action)\n",
    "\n",
    "        # Update the counters\n",
    "        if reward > 0:\n",
    "            win = win + reward\n",
    "        if reward < 0:\n",
    "            lose = lose -reward\n",
    "\n",
    "        # Apply the reinforcement strategy\n",
    "        loss = agent.reinforce(prev_state, state,  action, reward, game_over)\n",
    "\n",
    "    # Save as a mp4\n",
    "    if e % 10 == 0:\n",
    "        env.draw(e)\n",
    "\n",
    "    # Update stats\n",
    "    score += win-lose\n",
    "\n",
    "    print(\"Epoch {:03d}/{:03d} | Loss {:.4f} | Win/lose count {}/{} ({})\"\n",
    "          .format(e, epoch, loss, win, lose, win-lose))\n",
    "    agent.save()\n",
    "```"
   ]
  },
  {
   "cell_type": "markdown",
   "metadata": {},
   "source": [
    "# The game, *eat cheese*"
   ]
  },
  {
   "cell_type": "markdown",
   "metadata": {},
   "source": [
    "A rat runs on an island and tries to eat as much as possible. The island is subdivided into $N\\times N$ cells, in which there are cheese (+0.5) and poisonous cells (-1). The rat has a visibility of 2 cells (thus it can see $5^2$ cells). The rat is given a time $T$ to accumulate as much food as possible. It can perform 4 actions: going up, down, left, right. \n",
    "\n",
    "The goal is to code an agent to solve this task that will learn by trial and error. We propose the following environment:"
   ]
  },
  {
   "cell_type": "code",
   "execution_count": 4,
   "metadata": {},
   "outputs": [],
   "source": [
    "class Environment(object):\n",
    "    def __init__(self, grid_size=10, max_time=500, temperature=0.1):\n",
    "        grid_size = grid_size + 4\n",
    "        self.grid_size = grid_size\n",
    "        self.max_time = max_time\n",
    "        self.temperature = temperature\n",
    "\n",
    "        # board on which one plays\n",
    "        self.board = np.zeros((grid_size, grid_size))\n",
    "        self.position = np.zeros((grid_size, grid_size))\n",
    "\n",
    "        # coordinate of the cat\n",
    "        self.x = 0\n",
    "        self.y = 1\n",
    "\n",
    "        # self time\n",
    "        self.t = 0\n",
    "\n",
    "        self.scale = 16\n",
    "\n",
    "        self.to_draw = np.zeros((max_time + 2, grid_size * self.scale, grid_size * self.scale, 3))\n",
    "\n",
    "    def draw(self, e):\n",
    "        skvideo.io.vwrite(str(e) + '.mp4', self.to_draw)\n",
    "\n",
    "    def get_frame(self, t):\n",
    "        b = np.zeros((self.grid_size, self.grid_size, 3)) + 128\n",
    "        b[self.board > 0, 0] = 256\n",
    "        b[self.board < 0, 2] = 256\n",
    "        b[self.x, self.y, :] = 256\n",
    "        b[-2:, :, :] = 0\n",
    "        b[:, -2:, :] = 0\n",
    "        b[:2, :, :] = 0\n",
    "        b[:, :2, :] = 0\n",
    "        \n",
    "        b =  cv2.resize(b, None, fx=self.scale, fy=self.scale, interpolation=cv2.INTER_NEAREST)\n",
    "\n",
    "        self.to_draw[t, :, :, :] = b\n",
    "\n",
    "    def act(self, action):\n",
    "        \"\"\"This function returns the new state, reward and decides if the\n",
    "        game ends.\"\"\"\n",
    "\n",
    "        self.get_frame(int(self.t))\n",
    "\n",
    "        self.position = np.zeros((self.grid_size, self.grid_size))\n",
    "\n",
    "        self.position[0:2, :] = -1\n",
    "        self.position[:, 0:2] = -1\n",
    "        self.position[-2:, :] = -1\n",
    "        self.position[:, -2:] = -1\n",
    "\n",
    "        self.position[self.x, self.y] = 1\n",
    "        if action == 0:\n",
    "            if self.x == self.grid_size - 3:\n",
    "                self.x = self.x - 1\n",
    "            else:\n",
    "                self.x = self.x + 1\n",
    "        elif action == 1:\n",
    "            if self.x == 2:\n",
    "                self.x = self.x + 1\n",
    "            else:\n",
    "                self.x = self.x - 1\n",
    "        elif action == 2:\n",
    "            if self.y == self.grid_size - 3:\n",
    "                self.y = self.y - 1\n",
    "            else:\n",
    "                self.y = self.y + 1\n",
    "        elif action == 3:\n",
    "            if self.y == 2:\n",
    "                self.y = self.y + 1\n",
    "            else:\n",
    "                self.y = self.y - 1\n",
    "        else:\n",
    "            RuntimeError('Error: action not recognized')\n",
    "\n",
    "        self.t = self.t + 1\n",
    "        reward = self.board[self.x, self.y]\n",
    "        self.board[self.x, self.y] = 0\n",
    "        game_over = self.t > self.max_time\n",
    "        state = np.concatenate(\n",
    "            (self.board.reshape(self.grid_size, self.grid_size, 1), \n",
    "             self.position.reshape(self.grid_size, self.grid_size, 1)\n",
    "            ), axis=2)\n",
    "        state = state[self.x - 2:self.x + 3, self.y - 2:self.y + 3, :]\n",
    "\n",
    "        return state, reward, game_over\n",
    "\n",
    "    def reset(self):\n",
    "        \"\"\"This function resets the game and returns the initial state\"\"\"\n",
    "\n",
    "        self.x = np.random.randint(3, self.grid_size - 3, size=1)[0]\n",
    "        self.y = np.random.randint(3, self.grid_size - 3, size=1)[0]\n",
    "\n",
    "\n",
    "        bonus = 0.5 * np.random.binomial(1, self.temperature, size=self.grid_size ** 2)\n",
    "        bonus = bonus.reshape(self.grid_size, self.grid_size)\n",
    "\n",
    "        malus = -1.0 * np.random.binomial(1, self.temperature, size=self.grid_size ** 2)\n",
    "        malus = malus.reshape(self.grid_size, self.grid_size)\n",
    "\n",
    "        self.to_draw = np.zeros((self.max_time + 2, self.grid_size * self.scale, self.grid_size * self.scale, 3))\n",
    "\n",
    "\n",
    "        malus[bonus > 0] = 0\n",
    "\n",
    "        self.board = bonus + malus\n",
    "\n",
    "        self.position = np.zeros((self.grid_size, self.grid_size))\n",
    "        self.position[0:2, :] = -1\n",
    "        self.position[:, 0:2] = -1\n",
    "        self.position[-2:, :] = -1\n",
    "        self.position[:, -2:] = -1\n",
    "        self.board[self.x, self.y] = 0\n",
    "        self.t = 0\n",
    "\n",
    "        state = np.concatenate(\n",
    "            (self.board.reshape(self.grid_size, self.grid_size, 1),\n",
    "             self.position.reshape(self.grid_size, self.grid_size, 1)\n",
    "            ), axis=2)\n",
    "\n",
    "        state = state[self.x - 2:self.x + 3, self.y - 2:self.y + 3, :]\n",
    "        return state"
   ]
  },
  {
   "cell_type": "markdown",
   "metadata": {},
   "source": [
    "The following elements are important because they correspond to the hyper parameters for this project:"
   ]
  },
  {
   "cell_type": "code",
   "execution_count": 5,
   "metadata": {},
   "outputs": [],
   "source": [
    "# parameters\n",
    "size = 13\n",
    "T = 200\n",
    "temperature = 0.3\n",
    "epochs_train = 10 # set small when debugging\n",
    "epochs_test = 10 # set small when debugging\n",
    "\n",
    "# display videos\n",
    "def display_videos(name):\n",
    "    video = io.open(name, 'r+b').read()\n",
    "    encoded = base64.b64encode(video)\n",
    "    return '''<video alt=\"test\" controls>\n",
    "                <source src=\"data:video/mp4;base64,{0}\" type=\"video/mp4\" />\n",
    "             </video>'''.format(encoded.decode('ascii'))"
   ]
  },
  {
   "cell_type": "markdown",
   "metadata": {},
   "source": [
    "__Question 2__ Explain the use of the arrays ```position``` and ```board```."
   ]
  },
  {
   "cell_type": "markdown",
   "metadata": {},
   "source": [
    "__Solution 2__: The array ```position``` indicates the position of the agent. ```position[i, j]``` is $1$ if the agent is at the position $(i, j)$.\n",
    "\n",
    "The array ```board``` indicates the elements present on the board. ```board[i, j]``` indicates if there is cheese, poison, or nothing at the position $(i, j)$."
   ]
  },
  {
   "cell_type": "markdown",
   "metadata": {},
   "source": [
    "## Random Agent"
   ]
  },
  {
   "cell_type": "markdown",
   "metadata": {},
   "source": [
    "***\n",
    "__Question 3__ Implement a random Agent (only ```learned_act``` needs to be implemented):"
   ]
  },
  {
   "cell_type": "code",
   "execution_count": 6,
   "metadata": {},
   "outputs": [],
   "source": [
    "class RandomAgent(Agent):\n",
    "    def __init__(self):\n",
    "        super(RandomAgent, self).__init__()\n",
    "        pass\n",
    "\n",
    "    def learned_act(self, s):\n",
    "        \"\"\"\n",
    "        Choose randomly an action.\n",
    "        \n",
    "        :return: an action\n",
    "        \"\"\"\n",
    "        \n",
    "        return np.random.randint(self.n_action)"
   ]
  },
  {
   "cell_type": "markdown",
   "metadata": {},
   "source": [
    "***\n",
    "***\n",
    "__Question 4__ Visualize the game moves. You need to fill in the following function for the evaluation:"
   ]
  },
  {
   "cell_type": "code",
   "execution_count": 7,
   "metadata": {},
   "outputs": [],
   "source": [
    "def test(agent, env, epochs, prefix=''):\n",
    "    # Number of won games\n",
    "    score = 0\n",
    "        \n",
    "    for e in range(epochs):\n",
    "        \n",
    "        ##### FILL IN HERE\n",
    "        state = env.reset()\n",
    "        game_over = False\n",
    "        win, lose = 0, 0\n",
    "        \n",
    "        while not game_over:\n",
    "            previous_state = state\n",
    "            \n",
    "            # given a state, the agent chooses an action...\n",
    "            action = agent.act(previous_state)\n",
    "            \n",
    "            # ... and the environment returns a new state and a reward\n",
    "            state, reward, game_over = env.act(action)\n",
    "            \n",
    "            if reward > 0:\n",
    "                win += reward\n",
    "            else:\n",
    "                lose -= reward\n",
    "        \n",
    "        # Save as a mp4\n",
    "        env.draw(prefix + str(e))\n",
    "\n",
    "        # Update stats\n",
    "        score = score + win - lose\n",
    "\n",
    "        print(\"Win/lose count {}/{}. Average score ({})\"\n",
    "              .format(win, lose, score / (1 + e)))\n",
    "    print('Final score: ' + str(score / epochs))"
   ]
  },
  {
   "cell_type": "code",
   "execution_count": 8,
   "metadata": {},
   "outputs": [
    {
     "name": "stdout",
     "output_type": "stream",
     "text": [
      "Win/lose count 15.5/13.0. Average score (2.5)\n",
      "Win/lose count 11.5/10.0. Average score (2.0)\n",
      "Win/lose count 9.0/13.0. Average score (0.0)\n",
      "Win/lose count 10.0/19.0. Average score (-2.25)\n",
      "Win/lose count 9.5/23.0. Average score (-4.5)\n",
      "Win/lose count 5.0/10.0. Average score (-4.583333333333333)\n",
      "Win/lose count 11.0/12.0. Average score (-4.071428571428571)\n",
      "Win/lose count 15.0/15.0. Average score (-3.5625)\n",
      "Win/lose count 11.5/12.0. Average score (-3.2222222222222223)\n",
      "Win/lose count 14.5/17.0. Average score (-3.15)\n",
      "Final score: -3.15\n"
     ]
    },
    {
     "data": {
      "text/html": [
       "<video alt=\"test\" controls>\n",
       "                <source src=\"data:video/mp4;base64,AAAAIGZ0eXBpc29tAAACAGlzb21pc28yYXZjMW1wNDEAAAAIZnJlZQAAGLVtZGF0AAACrQYF//+p3EXpvebZSLeWLNgg2SPu73gyNjQgLSBjb3JlIDE1OCByMjk4NCAzNzU5ZmNiIC0gSC4yNjQvTVBFRy00IEFWQyBjb2RlYyAtIENvcHlsZWZ0IDIwMDMtMjAxOSAtIGh0dHA6Ly93d3cudmlkZW9sYW4ub3JnL3gyNjQuaHRtbCAtIG9wdGlvbnM6IGNhYmFjPTEgcmVmPTMgZGVibG9jaz0xOjA6MCBhbmFseXNlPTB4MzoweDExMyBtZT1oZXggc3VibWU9NyBwc3k9MSBwc3lfcmQ9MS4wMDowLjAwIG1peGVkX3JlZj0xIG1lX3JhbmdlPTE2IGNocm9tYV9tZT0xIHRyZWxsaXM9MSA4eDhkY3Q9MSBjcW09MCBkZWFkem9uZT0yMSwxMSBmYXN0X3Bza2lwPTEgY2hyb21hX3FwX29mZnNldD00IHRocmVhZHM9OCBsb29rYWhlYWRfdGhyZWFkcz0xIHNsaWNlZF90aHJlYWRzPTAgbnI9MCBkZWNpbWF0ZT0xIGludGVybGFjZWQ9MCBibHVyYXlfY29tcGF0PTAgY29uc3RyYWluZWRfaW50cmE9MCBiZnJhbWVzPTMgYl9weXJhbWlkPTIgYl9hZGFwdD0xIGJfYmlhcz0wIGRpcmVjdD0xIHdlaWdodGI9MSBvcGVuX2dvcD0wIHdlaWdodHA9MiBrZXlpbnQ9MjUwIGtleWludF9taW49MjUgc2NlbmVjdXQ9NDAgaW50cmFfcmVmcmVzaD0wIHJjX2xvb2thaGVhZD00MCByYz1jcmYgbWJ0cmVlPTEgY3JmPTIzLjAgcWNvbXA9MC42MCBxcG1pbj0wIHFwbWF4PTY5IHFwc3RlcD00IGlwX3JhdGlvPTEuNDAgYXE9MToxLjAwAIAAAAKzZYiEADf//vaH+BTZWBO6f/0/4LrOnzl/nbABNNgBSG5gp/rE//5OwP7/7L/9pNGYRdmfApcAk/AppM3uD/iv6Z90s89pMuU/CkpT+srqyud8qcAecLzA7akQcGLTMxLKnfroK/3XpJFEv9BmIULGagj8waIlIAQczsvW0Oat2f1suscwegt8mtNR4RHB77dFMwWi0rfQVVhspXl8w7uP//cXpKj3UxJqy37JSWRTkOkdZcUZ3ZEh0Q1Ro1gkeo4SeNfOrB/lRkNSRFQ9xwKAocyQKpOsvBCYDkRfAZvYJ/FEUShoGtyyMRMXDglZ4W+cZVeo5TUF8ziY485KcLbLsgAmu40jgycI+NKav3jIarQwGrXw5Dh6S9xW/iZHstnkb4U3qBiZnHCSudepGyR3HwgitdIZTm8bywOnvMpheIJZjPggHvbN3x0uPiZcFbaaSS36frdqymIye7UTcSegIUXqS1OGYYMUAJ/twkCB8pmHhifP/kDM9FNqzE3uhuNApoapQ7HNzLKwgA0aUpDxL/RNsfXS2zbCDwvSpouorEp483p0cRTh/8LBSDSR0oT4MH5dIMsvK+tHDKfM264bvHwnBTfwRJL1Cx35lpGkiV+mY6iNeSg4fGwF5Fodj9bItjR+DVwe0+xw96zcNR2AnSFKJ+Mc1iEEqFCUgB6kZPZupwwwz80k7dpDXBEelVjnfCPV3OomLthgIkKqzwgOWYcJQzjt0PDdtgCEOH1F2TwezpN8UDbVA6NIC18ZiQF2mz6nPUMR9b2s+S3fVTVSrMqeDmwQupc4gaw/lcHFKfChabHhrkE7slXklD9MnnJ+uA30414lDLIzMWADLeVBwSPfTud7oYw1DSui0VE1R66fO05q81dMBrZbMTWDVCLJ3jEtKj3YRm8qGGZu88gBMACiQwAAABRBmiFsQ3/+p4QBNHXNFEdcppRJwAAAABtBmkU8IZMphDf//qeEAMj7B/lrpBq2YoSKDWUAAAAPQZ5jalPC/wB2v2VRXSkgAAAADwGegnRCvwCjpyhSbZKpSQAAAA8BnoRqQr8An0bXd93vBMEAAAAaQZqGSahBaJlMCG///qeEAH7B4U6zp91t3oEAAAAbQZqpSeEKUmUwIb/+p4QAx9In+q3zH4Zst6JpAAAAEkGex0U0TCv/AKPY8CEjH7eBgAAAAA4BnuhqQr8Ao9j10/UsDAAAAB5BmutJqEFomUwU8N/+p4QBLB81TWbc15HAP7+rxtUAAAAQAZ8KakK/APfzhr3mlZs/wAAAABFBmw9J4QpSZTAhn/6eEAAEfAAAAAxBny1FNEwv/wAAsoEAAAAPAZ9MdEK/APg2Boec8ulBAAAAEAGfTmpCvwDwKG9itH26gYEAAAAZQZtQSahBaJlMCGf//p4QBJfiH9shj6whdwAAABhBm3FJ4QpSZTAhv/6nhADD+wevZnwRXWUAAAAhQZuTSeEOiZTBTRMM//6eEARQQ502C9Ed/ftC4DL+1ZqZAAAAEAGfsmpCvwDns+Y3Q5IOKHgAAAAZQZu0SeEPJlMCG//+p4QCBQBZtb1uXNKygAAAABhBm9VJ4Q8mUwIb//6nhAewgs2pDblwAWcAAAAVQZv5SeEPJlMCGf/+nhAfvOb61gjYAAAADkGeF0URPC//AcMioVBBAAAADwGeNnRCvwJe2BogudGxZQAAABABnjhqQr8CPrANyPX7952AAAAAGUGaOkmoQWiZTAhn//6eEBx85vqTiPqshwUAAAAZQZpbSeEKUmUwIb/+p4QCC+On0dChIUjugAAAABlBmnxJ4Q6JlMCG//6nhAEd+On1HGhIcF3BAAAAEUGagEnhDyZTAhn//p4QAAR9AAAADEGevkURPC//AACygAAAAA8Bnt10Qr8AlSpHEdl2VTcAAAAPAZ7fakK/AJsEoNfd20/xAAAAGUGawUmoQWiZTAhv//6nhAC6e6nH+H1bbQsAAAAdQZrjSeEKUmUwURLDf/6nhAC1/Gn8RbLc4JonyOMAAAAQAZ8CakK/AJLK5FXgCf0wgAAAABhBmwRJ4Q6JlMCG//6nhABNR8x5GJ/lt0MAAAAXQZslSeEPJlMCG//+p4QAT3FaOqhttzsAAAAZQZtISeEPJlMCG//+p4QAT/3U5jhuPN4XswAAABJBn2ZFETwr/wA/gMAgFMA5JSEAAAAOAZ+HakK/AD+V+ke59/MAAAAcQZuKSahBaJlMFPDv/qmWACc/Rz8uz2oWQpc+gQAAAA8Bn6lqQr8APiD+qRQJVakAAAARQZuuSeEKUmUwIb/+p4QAAScAAAAMQZ/MRTRML/8AALKAAAAADwGf63RCvwAnX/yWoD8uoQAAABABn+1qQr8APMahz/Mt4ApBAAAAHkGb8kmoQWiZTAhv//6nhABJR81TWbc146fCGc4bHQAAABFBnhBFESwv/wAsVAitEdXWYAAAAA8Bni90Qr8AJ9GEBklzE4AAAAAQAZ4xakK/ADts+Y3Q5IOQOQAAABlBmjVJqEFsmUwIZ//+nhABHvnNnW6Bkh1UAAAAEkGeU0UVLCv/ADtgwCAUwDko4AAAABABnnRqQr8AOgz5jdDkg5B5AAAAGUGadkmoQWyZTAhn//6eEAGvkMc/hzm+s20AAAAYQZqXSeEKUmUwIb/+p4QAbv2D17M+CK83AAAAHEGauUnhDomUwU0TDP/+nhABp/f39Q4/WN2mO/kAAAAQAZ7YakK/AFibkMPoCQcbaAAAABlBmtpJ4Q8mUwIb//6nhABHvjp9RxoSHF3BAAAAGEGa/UnhDyZTAhn//p4QALZzKvLdDMt7cAAAABJBnxtFETwr/wAlsoAgFMA5S0EAAAAOAZ88akK/ACXBpV1OnLMAAAAZQZs+SahBaJlMCGf//p4QAQ04Rz+HOb60PgAAABhBm19J4QpSZTAhv/6nhABFum1xZn/23ZwAAAAeQZthSeEOiZTBTRMN//6nhABDum3GcE8fNU1vtG/JAAAAEAGfgGpCvwA3RLfwH1/AdnAAAAAZQZuCSeEPJlMCG//+p4QAK18adBWsymv5gQAAAB1Bm6VJ4Q8mUwIZ//6eEACkfE7467waEfU+jqVygAAAABJBn8NFETwr/wAhsnznWT2zFDcAAAAQAZ/kakK/ACCyyGH0BIOW6QAAABlBm+ZJqEFomUwIZ//+nhAAa9fcaF033XD9AAAAGUGaB0nhClJlMCG//qeEABxAeFOs6fdcOYEAAAAZQZooSeEOiZTAhv/+p4QAHG9g/wnBboTlQAAAADpBmkxJ4Q8mUwIb//6nhAATafoFwRVqh//8QkH03DbMrg//4gO3OGqhR//xB9F/DaMgjUW+vqqlR3VKAAAAFEGeakURPC//AAuk+XoWBosuRmYjAAAAEAGeiXRCvwAPM2BraZQ9dEAAAAAQAZ6LakK/AA+LMHkwPXwEgAAAABlBmo1JqEFomUwIb//+p4QAE9xWkEIn+W67AAAAHUGasUnhClJlMCG//qeEABSPdT7vN2KNZSpW5/87AAAAEUGez0U0TC//AAxAfWMtHicbAAAADgGe7nRCvwAQXcd55xevAAAADwGe8GpCvwAP4D+qRQJWnwAAABpBmvJJqEFomUwIb//+p4QAE1QBZttn2fOJwQAAABlBmxNJ4QpSZTAh3/6plgAO6mQk3Dgo+bgQAAAAFkGbN0nhDomUwId//qmWAA6ntL+rpcAAAAAUQZ9VRRE8L/8AGv9csZtxOl99ArMAAAAQAZ90dEK/ACS+okT4sxR+UAAAABABn3ZqQr8AJbmjeaYq2nrBAAAAEkGbe0moQWiZTAhv//6nhAABJwAAAAxBn5lFESwv/wAAsoAAAAAPAZ+4dEK/ABhCvgWwH5ftAAAADwGfumpCvwAYQr4Ebr/BTgAAABlBm75JqEFsmUwIb//+p4QAHc4TMrkFvTaPAAAAD0Gf3EUVLCv/ABiCWs1pwQAAAA8Bn/1qQr8AD4180OtGFoAAAAAdQZvgSahBbJlMFEwz//6eEABLum3Uol5zpsWQu4AAAAAPAZ4fakK/AA+IP6pFAlapAAAAGEGaAUnhClJlMCG//qeEAAxPCYo+DCDc9AAAAB1BmiNJ4Q6JlMFNEwz//p4QAC68yupiu5G7OC67gQAAABABnkJqQr8ACayyGH0BIO74AAAAGUGaREnhDyZTAhv//qeEAAfsHhTrOn3XroEAAAAYQZplSeEPJlMCG//+p4QAB/eEzK5Bb08HAAAAHkGaiUnhDyZTAhn//p4QABSPeAAmv8idgastgs6EgQAAABBBnqdFETwv/wADJKtSeGeXAAAADwGexnRCvwAENtCAyS79gAAAAA8BnshqQr8ABDZW6UaQ82YAAAAaQZrKSahBaJlMCG///qeEAANe6tIIRP8ulYEAAAAWQZrrSeEKUmUwIb/+p4QABUBDKdQh+AAAABpBmwxJ4Q6JlMCHf/6plgACqfARK+FqCf2KaAAAABtBmzBJ4Q8mUwIb//6nhAAFI5lcAD0rdF/6u5EAAAAQQZ9ORRE8L/8AAxAefSuN4QAAAA8Bn210Qr8ABBXVoyQ8nMMAAAAPAZ9vakK/AAP3zhsDlVTAAAAAHkGbckmoQWiZTBTw7/6plgAD0DqBaJHcmaPX9GPnfQAAABABn5FqQr8ABknVPJgevn+BAAAAGUGblUnhClJlMCHf/qmWAAPmOn5TRj9ah8AAAAASQZ+zRTRMK/8ACa9Ou8xg7VvMAAAADwGf1GpCvwAJrLIYjSpeYQAAACNBm9hJqEFomUwId//+qZYABEeMnL4hBt/+EqoZv//y+nNwzgAAABJBn/ZFESwr/wAG6d6DeGyzcx0AAAAQAZ4XakK/AAbp1TyXM+U2gQAAABJBmhxJqEFsmUwIb//+p4QAAScAAAAcQZ46RRUsL/8ADCEMDviD3P/8Qgvif/plUIdH9QAAAA8Bnll0Qr8AEF9KeB0ynJMAAAAPAZ5bakK/ABBZXIq8AUCTAAAAEkGaQEmoQWyZTAhv//6nhAABJwAAABNBnn5FFSwv/wAHl3b6LFdxaPy6AAAAEAGenXRCvwAKz0A52xxpxiAAAAAQAZ6fakK/AAqDchh9ASDuCQAAABpBmoFJqEFsmUwIb//+p4QACHfHT6jjQkPiwAAAABlBmqJJ4QpSZTAh3/6plgAC26WVxml/bEzBAAAAHUGaxknhDomUwIb//qeEAAWzmVxyG+HFkOQT+OA4AAAAEEGe5EURPC//AANgI4zjk9EAAAAQAZ8DdEK/AASV2pPK/JTvUQAAAA8BnwVqQr8AAyTNzYJAJzEAAAAZQZsKSahBaJlMCGf//p4QABYgfvkdff09aQAAABBBnyhFESwv/wADYKvG9hE4AAAADwGfR3RCvwAEuEAdCcm+wAAAABABn0lqQr8ABLXmiZE0rUTBAAAAGUGbS0moQWyZTAhn//6eEAAWPmV0shj80TgAAAAYQZtsSeEKUmUwIb/+p4QAA6PCYo+DCDtMAAAAGEGbjUnhDomUwIb//qeEAAON7B69mfBGnwAAAB5Bm69J4Q8mUwURPDf//qeEAAVrmVcWaprPTmNBxKkAAAAQAZ/OakK/AARV5omRNK1MwQAAABlBm9BJ4Q8mUwId//6plgACqc8wmWZ8+f6AAAAAEkGb9EnhDyZTAh3//qmWAACVgAAAAAxBnhJFETwv/wAAsoEAAAAPAZ4xdEK/AAQKh4o0SWM8AAAADwGeM2pCvwAENeaILUeZjgAAABJBmjhJqEFomUwIb//+p4QAAScAAAAUQZ5WRREsL/8AAwhv1mfBH0WVYlAAAAAQAZ51dEK/AAQV1aMkt/tzgQAAAA8BnndqQr8ABBdnluGza4sAAAAZQZp8SahBbJlMCG///qeEAAUjmVxv5+c38AAAABBBnppFFSwv/wADEKu7/O+xAAAADwGeuXRCvwAEFtGLgPz7wAAAAA8BnrtqQr8ABBZW6UaQ83cAAAAdQZq+SahBbJlMFEwz//6eEAAS0Q502C9Edff0/sEAAAAQAZ7dakK/AAPiz5jdDkhARAAAABhBmt9J4QpSZTAhv/6nhAAE26bXFmf/cowAAAAZQZrgSeEOiZTAhv/+p4QABzzjP9VvmPx44QAAABlBmwFJ4Q8mUwId//6plgAFt+QZoA9JfZkwAAAAIEGbJUnhDyZTAhv//qeEABFum1xZqms9PErBj/rt/UzTAAAAEUGfQ0URPC//AAqE+vWnUSowAAAADwGfYnRCvwAJLaEBkl1AgQAAABABn2RqQr8ADic4a95pWffBAAAAHEGbaUmoQWiZTAhv//6nhAAa91apj/Vu32D9dVUAAAAQQZ+HRREsL/8AD+J07/ODqQAAAA8Bn6Z0Qr8ADitga6+L8oAAAAAQAZ+oakK/ABYrHluGzapfgAAAABpBm6pJqEFsmUwIb//+p4QAG5dWkEIn+W5fgQAAABlBm8tJ4QpSZTAhv/6nhAAcQHhTrOn3XDmAAAAAGUGb7knhDomUwIb//qeEACw+if6rfMfiS8AAAAASQZ4MRRE8K/8AI7tELsN9Lz9pAAAADwGeLWpCvwAju0QnBA5XoQAAABxBmjJJqEFomUwIb//+p4QARUfM1Nm3Gb3U+LqlAAAAEEGeUEURLC//ACoUCClDEugAAAAPAZ5vdEK/ADdWVd3m7YfAAAAAEAGecWpCvwA4rMHkwPXuNoEAAAAdQZp0SahBbJlMFEw3//6nhABFum3HIb4cWQ63uqAAAAAQAZ6TakK/ADoK4NceKtpgYAAAABhBmpVJ4QpSZTAhv/6nhAAuvMrimRQnwSkAAAAYQZq4SeEOiZTAhv/+p4QAHc4TMrkFvTaOAAAAD0Ge1kURPCv/ABiCWs1pwQAAAA8BnvdqQr8AD4180OtGFoEAAAAZQZr7SahBaJlMCG///qeEABNum3FMihPhswAAAA9BnxlFESwr/wAPiD/mx+EAAAANAZ86akK/AA+NgUDUxgAAABlBmz5JqEFsmUwIb//+p4QADJ8JmVyC3pzDAAAAD0GfXEUVLCv/AAo7bgTkQQAAAA8Bn31qQr8ABsAWNgcqR4AAAAAZQZt/SahBbJlMCG///qeEAAf3hMyuQW9PBwAAABhBm4JJ4QpSZTAhv/6nhAAFR5lXFmf/ci0AAAASQZ+gRTRMK/8ABDZQBAKYB4NAAAAADgGfwWpCvwAEODSrqdU9AAAAHEGbxEmoQWiZTBTwz/6eEAAdn1y62OGz8Q/xweAAAAAQAZ/jakK/AAZJ24TcZ9eueQAAABhBm+VJ4QpSZTAhn/6eEAAdz193ac3cXucAAAAaQZoJS+EIQ6JEYIKAfyAf2HgCFf/+OEAAEXEAAAAoQZ4nRRE8L/8CAdzqS9szCrmA6Bq1qFwJQBlok8Lfbdu/Gc/lkDy9kwAAABABnkZ0Qr8ACa+aoHTtRCuAAAAAJQGeSGpCvwKvY+1BxN2qw0km5aqGByy1u80qIKGLx0wRA6L/TUAAAAuBbW9vdgAAAGxtdmhkAAAAAAAAAAAAAAAAAAAD6AAAH5AAAQAAAQAAAAAAAAAAAAAAAAEAAAAAAAAAAAAAAAAAAAABAAAAAAAAAAAAAAAAAABAAAAAAAAAAAAAAAAAAAAAAAAAAAAAAAAAAAAAAAAAAgAACqt0cmFrAAAAXHRraGQAAAADAAAAAAAAAAAAAAABAAAAAAAAH5AAAAAAAAAAAAAAAAAAAAAAAAEAAAAAAAAAAAAAAAAAAAABAAAAAAAAAAAAAAAAAABAAAAAARAAAAEQAAAAAAAkZWR0cwAAABxlbHN0AAAAAAAAAAEAAB+QAAAEAAABAAAAAAojbWRpYQAAACBtZGhkAAAAAAAAAAAAAAAAAAAyAAABlABVxAAAAAAALWhkbHIAAAAAAAAAAHZpZGUAAAAAAAAAAAAAAABWaWRlb0hhbmRsZXIAAAAJzm1pbmYAAAAUdm1oZAAAAAEAAAAAAAAAAAAAACRkaW5mAAAAHGRyZWYAAAAAAAAAAQAAAAx1cmwgAAAAAQAACY5zdGJsAAAAlnN0c2QAAAAAAAAAAQAAAIZhdmMxAAAAAAAAAAEAAAAAAAAAAAAAAAAAAAAAARABEABIAAAASAAAAAAAAAABAAAAAAAAAAAAAAAAAAAAAAAAAAAAAAAAAAAAAAAAAAAAGP//AAAAMGF2Y0MB9AAN/+EAF2f0AA2RmygiEdCAAAADAIAAABkHihTLAQAGaOvjxEhEAAAAGHN0dHMAAAAAAAAAAQAAAMoAAAIAAAAAFHN0c3MAAAAAAAAAAQAAAAEAAAVYY3R0cwAAAAAAAACpAAAAAgAABAAAAAABAAAKAAAAAAEAAAQAAAAAAQAAAAAAAAABAAACAAAAAAEAAAQAAAAAAQAACAAAAAACAAACAAAAAAEAAAYAAAAAAQAAAgAAAAABAAAKAAAAAAEAAAQAAAAAAQAAAAAAAAABAAACAAAAAAIAAAQAAAAAAQAABgAAAAABAAACAAAAAAIAAAQAAAAAAQAACgAAAAABAAAEAAAAAAEAAAAAAAAAAQAAAgAAAAADAAAEAAAAAAEAAAoAAAAAAQAABAAAAAABAAAAAAAAAAEAAAIAAAAAAQAABAAAAAABAAAGAAAAAAEAAAIAAAAAAgAABAAAAAABAAAIAAAAAAIAAAIAAAAAAQAABgAAAAABAAACAAAAAAEAAAoAAAAAAQAABAAAAAABAAAAAAAAAAEAAAIAAAAAAQAACgAAAAABAAAEAAAAAAEAAAAAAAAAAQAAAgAAAAABAAAIAAAAAAIAAAIAAAAAAgAABAAAAAABAAAGAAAAAAEAAAIAAAAAAQAABAAAAAABAAAIAAAAAAIAAAIAAAAAAgAABAAAAAABAAAGAAAAAAEAAAIAAAAAAQAABAAAAAABAAAIAAAAAAIAAAIAAAAAAwAABAAAAAABAAAKAAAAAAEAAAQAAAAAAQAAAAAAAAABAAACAAAAAAEAAAQAAAAAAQAACgAAAAABAAAEAAAAAAEAAAAAAAAAAQAAAgAAAAACAAAEAAAAAAEAAAoAAAAAAQAABAAAAAABAAAAAAAAAAEAAAIAAAAAAQAACgAAAAABAAAEAAAAAAEAAAAAAAAAAQAAAgAAAAABAAAIAAAAAAIAAAIAAAAAAQAABgAAAAABAAACAAAAAAEAAAQAAAAAAQAABgAAAAABAAACAAAAAAIAAAQAAAAAAQAACgAAAAABAAAEAAAAAAEAAAAAAAAAAQAAAgAAAAADAAAEAAAAAAEAAAoAAAAAAQAABAAAAAABAAAAAAAAAAEAAAIAAAAAAQAABgAAAAABAAACAAAAAAEAAAgAAAAAAgAAAgAAAAABAAAIAAAAAAIAAAIAAAAAAQAACgAAAAABAAAEAAAAAAEAAAAAAAAAAQAAAgAAAAABAAAKAAAAAAEAAAQAAAAAAQAAAAAAAAABAAACAAAAAAIAAAQAAAAAAQAACgAAAAABAAAEAAAAAAEAAAAAAAAAAQAAAgAAAAABAAAKAAAAAAEAAAQAAAAAAQAAAAAAAAABAAACAAAAAAMAAAQAAAAAAQAABgAAAAABAAACAAAAAAEAAAQAAAAAAQAACgAAAAABAAAEAAAAAAEAAAAAAAAAAQAAAgAAAAABAAAKAAAAAAEAAAQAAAAAAQAAAAAAAAABAAACAAAAAAEAAAoAAAAAAQAABAAAAAABAAAAAAAAAAEAAAIAAAAAAQAABgAAAAABAAACAAAAAAMAAAQAAAAAAQAACgAAAAABAAAEAAAAAAEAAAAAAAAAAQAAAgAAAAABAAAKAAAAAAEAAAQAAAAAAQAAAAAAAAABAAACAAAAAAIAAAQAAAAAAQAACAAAAAACAAACAAAAAAEAAAoAAAAAAQAABAAAAAABAAAAAAAAAAEAAAIAAAAAAQAABgAAAAABAAACAAAAAAEAAAQAAAAAAQAACAAAAAACAAACAAAAAAEAAAgAAAAAAgAAAgAAAAABAAAIAAAAAAIAAAIAAAAAAQAABAAAAAABAAAIAAAAAAIAAAIAAAAAAQAABgAAAAABAAACAAAAAAEAAAQAAAAAAQAACgAAAAABAAAEAAAAAAEAAAAAAAAAAQAAAgAAAAAcc3RzYwAAAAAAAAABAAAAAQAAAMoAAAABAAADPHN0c3oAAAAAAAAAAAAAAMoAAAVoAAAAGAAAAB8AAAATAAAAEwAAABMAAAAeAAAAHwAAABYAAAASAAAAIgAAABQAAAAVAAAAEAAAABMAAAAUAAAAHQAAABwAAAAlAAAAFAAAAB0AAAAcAAAAGQAAABIAAAATAAAAFAAAAB0AAAAdAAAAHQAAABUAAAAQAAAAEwAAABMAAAAdAAAAIQAAABQAAAAcAAAAGwAAAB0AAAAWAAAAEgAAACAAAAATAAAAFQAAABAAAAATAAAAFAAAACIAAAAVAAAAEwAAABQAAAAdAAAAFgAAABQAAAAdAAAAHAAAACAAAAAUAAAAHQAAABwAAAAWAAAAEgAAAB0AAAAcAAAAIgAAABQAAAAdAAAAIQAAABYAAAAUAAAAHQAAAB0AAAAdAAAAPgAAABgAAAAUAAAAFAAAAB0AAAAhAAAAFQAAABIAAAATAAAAHgAAAB0AAAAaAAAAGAAAABQAAAAUAAAAFgAAABAAAAATAAAAEwAAAB0AAAATAAAAEwAAACEAAAATAAAAHAAAACEAAAAUAAAAHQAAABwAAAAiAAAAFAAAABMAAAATAAAAHgAAABoAAAAeAAAAHwAAABQAAAATAAAAEwAAACIAAAAUAAAAHQAAABYAAAATAAAAJwAAABYAAAAUAAAAFgAAACAAAAATAAAAEwAAABYAAAAXAAAAFAAAABQAAAAeAAAAHQAAACEAAAAUAAAAFAAAABMAAAAdAAAAFAAAABMAAAAUAAAAHQAAABwAAAAcAAAAIgAAABQAAAAdAAAAFgAAABAAAAATAAAAEwAAABYAAAAYAAAAFAAAABMAAAAdAAAAFAAAABMAAAATAAAAIQAAABQAAAAcAAAAHQAAAB0AAAAkAAAAFQAAABMAAAAUAAAAIAAAABQAAAATAAAAFAAAAB4AAAAdAAAAHQAAABYAAAATAAAAIAAAABQAAAATAAAAFAAAACEAAAAUAAAAHAAAABwAAAATAAAAEwAAAB0AAAATAAAAEQAAAB0AAAATAAAAEwAAAB0AAAAcAAAAFgAAABIAAAAgAAAAFAAAABwAAAAeAAAALAAAABQAAAApAAAAFHN0Y28AAAAAAAAAAQAAADAAAABidWR0YQAAAFptZXRhAAAAAAAAACFoZGxyAAAAAAAAAABtZGlyYXBwbAAAAAAAAAAAAAAAAC1pbHN0AAAAJal0b28AAAAdZGF0YQAAAAEAAAAATGF2ZjU4LjI5LjEwMA==\" type=\"video/mp4\" />\n",
       "             </video>"
      ],
      "text/plain": [
       "<IPython.core.display.HTML object>"
      ]
     },
     "execution_count": 8,
     "metadata": {},
     "output_type": "execute_result"
    }
   ],
   "source": [
    "# Initialize the game\n",
    "env = Environment(grid_size=size, max_time=T,temperature=temperature)\n",
    "\n",
    "# Initialize the agent!\n",
    "agent = RandomAgent()\n",
    "\n",
    "test(agent,env,epochs_test,prefix='random')\n",
    "HTML(display_videos('random0.mp4'))"
   ]
  },
  {
   "cell_type": "markdown",
   "metadata": {},
   "source": [
    "***\n",
    "## DQN"
   ]
  },
  {
   "cell_type": "markdown",
   "metadata": {},
   "source": [
    "Let us assume here that $T=\\infty$.\n",
    "\n",
    "***\n",
    "__Question 5__ Let $\\pi$ be a policy, show that:\n",
    "\n",
    "\\begin{equation*}\n",
    "Q^\\pi(s, a) = E_{(s', a') \\sim p^\\pi(\\cdot | s, a)} \\left[ r(s, a) + \\gamma Q^\\pi(s', a') \\right]\n",
    "\\end{equation*}\n",
    "\n",
    "Then, show that for the optimal policy $\\pi^*$ (we assume its existence), the following holds: \n",
    "\n",
    "\\begin{equation*}\n",
    "Q^* (s, a) = E_{s' \\sim \\pi^* (\\cdot| s, a)} \\left[ r(s, a) + \\gamma \\max_{a'} Q^*(s', a') \\right]\n",
    "\\end{equation*}\n",
    "Finally, deduce that a plausible objective is:\n",
    "\n",
    "\\begin{equation*}\n",
    "\\mathcal{L} \\left( \\theta \\right) = E_{s' \\sim \\pi^* (\\cdot | s, a)} \\left( \\left|\\left| r + \\gamma \\max_{a'} Q(s', a', \\theta) - Q(s, a, \\theta) \\right|\\right|^{2} \\right)\n",
    "\\end{equation*}"
   ]
  },
  {
   "cell_type": "markdown",
   "metadata": {},
   "source": [
    "__Solution 5__:\n",
    "\n",
    "We have:\n",
    "\\begin{equation*}\n",
    "\\begin{aligned}\n",
    "Q^\\pi(s,a) &= E_{p^{\\pi}} \\left[ \\sum_{0 \\leq t \\leq T} \\gamma^t r(s_t, a_t) \\,\\middle\\vert\\, s_0 = s, a_0 = a \\right] & \\text{(definition)} \\\\\n",
    "&= E_{p^{\\pi}} \\left[ r(s_0, a_0) + \\sum_{1 \\leq t \\leq T} \\gamma^t r(s_t, a_t) \\,\\middle\\vert\\, s_0 = s, a_0 = a \\right] \\\\\n",
    "&= r(s, a) + \\gamma E_{p^{\\pi}} \\left[ \\sum_{1 \\leq t \\leq T} \\gamma^{t-1} r(s_t, a_t) \\,\\middle\\vert\\, s_0 = s, a_0 = a \\right] \\\\\n",
    "&= r(s, a) + \\gamma E_{p^\\pi(a_1, s_1, \\dots, a_T, s_T | s_0 = s, a_0 = a)} \\left[ \\sum_{1 \\leq t \\leq T} \\gamma^{t-1} r(s_t, a_t) \\right] \\\\\n",
    "&= r(s, a) + \\gamma E_{p^{\\pi}(a_1, s_1 | s_0 = s, a_0 = a)} \\left( E_{p^{\\pi}(a_2, s_2, \\dots, a_T, s_T | a_1, s_1)} \\left[ \\sum_{1 \\leq t \\leq T} \\gamma^{t-1} r(s_t, a_t) \\right] \\right) & \\text{(Markov property)} \\\\\n",
    "&= r(s, a) + \\gamma E_{p^{\\pi}(a_1, s_1 | s_0 = s, a_0 = a)} \\left[ Q^\\pi(s_1, a_1) \\right] \\\\\n",
    "&= E_{p^{\\pi}(a_1, s_1 | s_0 = s, a_0 = a)} \\left[ r(s, a) + \\gamma Q^\\pi(s_1, a_1) \\right]\n",
    "\\end{aligned}\n",
    "\\end{equation*}\n",
    "\n",
    "Hence,\n",
    "\\begin{equation*}\n",
    "\\boxed{Q^\\pi(s, a) = E_{(s', a') \\sim p^\\pi(\\cdot | s, a)} \\left[ r(s, a) + \\gamma Q^\\pi(s', a') \\right]}\n",
    "\\end{equation*}\n",
    "\n",
    "For the optimal Q-function, we have:\n",
    "\\begin{equation*}\n",
    "\\begin{aligned}\n",
    "Q^* (s, a) &= \\max_\\pi Q^\\pi(s, a) \\\\\n",
    "&= r(s, a) + \\max_\\pi E_{(s', a') \\sim p^\\pi (\\cdot | s, a)} \\left[ \\gamma Q^\\pi(s', a') \\right] \\\\\n",
    "&= r(s, a) + \\gamma E_{(s', a') \\sim p^{\\pi^*} (\\cdot | s, a)} \\left[ Q^{\\pi^*} (s', a') \\right]\n",
    "\\end{aligned}\n",
    "\\end{equation*}\n",
    "\n",
    "The optimal policy is given, for a state $s$, by $\\pi^* (s) = \\arg\\max_a Q^* (s, a)$. Hence,\n",
    "\n",
    "\\begin{equation*}\n",
    "Q^* (s, a) = r(s, a) + \\gamma E_{s' \\sim \\pi^* (\\cdot | s, a)} \\left[ \\max_{a'} Q^* (s, a') \\right]\n",
    "\\end{equation*}\n",
    "\n",
    "and\n",
    "\n",
    "\\begin{equation*}\n",
    "\\boxed{Q^* (s, a) = E_{s' \\sim \\pi^* (\\cdot| s, a)} \\left[ r(s, a) + \\gamma \\max_{a'} Q^*(s', a') \\right]}\n",
    "\\end{equation*}\n",
    "\n",
    "The goal is to find a policy $\\pi$, or equivalently a Q-function $Q^\\pi$, such that the optimal Bellman equation is satisfied (or in practice, almost satisfied):\n",
    "\n",
    "\\begin{equation*}\n",
    "Q^\\pi(s,a) = E_{s' \\sim p(.|s,a)}[r(s,a) + \\gamma \\max_{a'} Q^\\pi(s',a')]\n",
    "\\end{equation*}\n",
    "\n",
    "This means that in expectation (w.r.t. $s'$), we want $Q^\\pi (s, a) - r(s, a) + \\gamma \\max_{a'} Q^\\pi (s', a')$ to be close to $0$. Hence, it is natural to consider the loss $\\mathcal{L}$ given by:\n",
    "\\begin{equation*}\n",
    "\\boxed{\\mathcal{L} \\left( \\theta \\right) = E_{s' \\sim \\pi^* (\\cdot | s, a)} \\left( \\left|\\left| r + \\gamma \\max_{a'} Q(s', a', \\theta) - Q(s, a, \\theta) \\right|\\right|^{2} \\right)}\n",
    "\\end{equation*}"
   ]
  },
  {
   "cell_type": "markdown",
   "metadata": {},
   "source": [
    "***\n",
    "The DQN-learning algorithm relies on these derivations to train the parameters $\\theta$ of a Deep Neural Network:\n",
    "\n",
    "1. At the state $s_t$, select the action $a_t$ with best reward using $Q_t$ and store the results;\n",
    "\n",
    "2. Obtain the new state $s_{t+1}$ from the environment $p$;\n",
    "\n",
    "3. Store $(s_t,a_t,s_{t+1})$;\n",
    "\n",
    "4. Obtain $Q_{t+1}$ by minimizing  $\\mathcal{L}$ from a recovered batch from the previously stored results.\n",
    "\n",
    "***\n",
    "__Question 6__ Implement the class ```Memory``` that stores moves (in a replay buffer) via ```remember``` and provides a ```random_access``` to these. Specify a maximum memory size to avoid side effects. You can for example use a ```list()``` and set by default ```max_memory=100```."
   ]
  },
  {
   "cell_type": "code",
   "execution_count": 9,
   "metadata": {},
   "outputs": [],
   "source": [
    "import random\n",
    "\n",
    "class Memory(object):\n",
    "    def __init__(self, max_memory=100):\n",
    "        self.max_memory = max_memory\n",
    "        self.memory = list()\n",
    "\n",
    "    def remember(self, m):\n",
    "        \"\"\"\n",
    "        Remember the move m. If the memory is full, forget the oldest move and add the most recent one.\n",
    "        \"\"\"\n",
    "        if len(self.memory) > self.max_memory:\n",
    "            del self.memory[0]\n",
    "        \n",
    "        self.memory.append(m)\n",
    "\n",
    "    def random_access(self):\n",
    "        \"\"\"\n",
    "        Choose randomly an element from the list of saved moves.\n",
    "        \"\"\"\n",
    "        return random.choice(self.memory)"
   ]
  },
  {
   "cell_type": "markdown",
   "metadata": {},
   "source": [
    "***\n",
    "The pipeline we will use for training is given below:"
   ]
  },
  {
   "cell_type": "code",
   "execution_count": 10,
   "metadata": {},
   "outputs": [],
   "source": [
    "def train(agent, env, epoch, prefix=''):\n",
    "    # Number of won games\n",
    "    score = 0\n",
    "    loss = 0\n",
    "    \n",
    "    scores = []\n",
    "    losses = []\n",
    "\n",
    "    for e in range(epoch):\n",
    "        # At each epoch, we restart to a fresh game and get the initial state\n",
    "        state = env.reset()\n",
    "        # This assumes that the games will terminate\n",
    "        game_over = False\n",
    "\n",
    "        win = 0\n",
    "        lose = 0\n",
    "        average_loss = 0\n",
    "        \n",
    "        while not game_over:\n",
    "            # The agent performs an action\n",
    "            action = agent.act(state)\n",
    "\n",
    "            # Apply an action to the environment, get the next state, the reward\n",
    "            # and if the games end\n",
    "            prev_state = state\n",
    "            state, reward, game_over = env.act(action)\n",
    "\n",
    "            # Update the counters\n",
    "            if reward > 0:\n",
    "                win = win + reward\n",
    "            if reward < 0:\n",
    "                lose = lose - reward\n",
    "\n",
    "            # Apply the reinforcement strategy\n",
    "            loss = agent.reinforce(prev_state, state,  action, reward, game_over)\n",
    "            average_loss += loss\n",
    "            \n",
    "        losses.append(average_loss / env.max_time)\n",
    "\n",
    "        # Save as a mp4\n",
    "        if e % 10 == 0:\n",
    "            env.draw(prefix + str(e))\n",
    "\n",
    "        # Update stats\n",
    "        score += win - lose\n",
    "        scores.append(win - lose)\n",
    "\n",
    "        print(\"Epoch {:03d}/{:03d} | Loss {:.4f} | Win/lose count {}/{} ({})\"\n",
    "              .format(e, epoch, loss, win, lose, win - lose))\n",
    "        agent.save(name_weights=prefix + 'model.h5', name_model=prefix + 'model.json')\n",
    "        \n",
    "    return losses, scores"
   ]
  },
  {
   "cell_type": "markdown",
   "metadata": {},
   "source": [
    "***\n",
    "__Question 7__ Implement the DQN training algorithm using a cascade of fully connected layers. You can use different learning rate, batch size or memory size parameters. In particular, the loss might oscillate while the player will start to win the games. You have to find a good criterium."
   ]
  },
  {
   "cell_type": "code",
   "execution_count": 66,
   "metadata": {},
   "outputs": [],
   "source": [
    "class DQN(Agent):\n",
    "    def __init__(self, grid_size,  epsilon=0.1, memory_size=100, batch_size=16, n_state=2):\n",
    "        super(DQN, self).__init__(epsilon=epsilon)\n",
    "\n",
    "        # Discount for Q learning\n",
    "        self.discount = 0.99\n",
    "        \n",
    "        self.grid_size = grid_size\n",
    "        \n",
    "        # number of state\n",
    "        self.n_state = n_state\n",
    "\n",
    "        # Memory\n",
    "        self.memory = Memory(memory_size)\n",
    "        \n",
    "        # Batch size when learning\n",
    "        self.batch_size = batch_size\n",
    "\n",
    "    def learned_act(self, s):\n",
    "        return np.argmax(self.model.predict(np.array([s])))\n",
    "\n",
    "    def reinforce(self, s_, n_s_, a_, r_, game_over_):\n",
    "        # Two steps: first memorize the states, second learn from the pool\n",
    "\n",
    "        self.memory.remember([s_, n_s_, a_, r_, game_over_])\n",
    "        \n",
    "        input_states = np.zeros((self.batch_size, 5, 5, self.n_state))\n",
    "        target_q = np.zeros((self.batch_size, 4))\n",
    "        \n",
    "        for i in range(self.batch_size):\n",
    "            ######## FILL IN\n",
    "            s_, n_s_, a_, r_, game_over_ = self.memory.random_access()\n",
    "            target_q[i] = self.model.predict(np.array([n_s_]))\n",
    "            \n",
    "            if game_over_:\n",
    "                ######## FILL IN\n",
    "                target_q[i, a_] = r_\n",
    "            else:\n",
    "                ######## FILL IN\n",
    "                target_q[i, a_] = r_ + self.discount * np.max(target_q[i])\n",
    "            \n",
    "            ######## FILL IN\n",
    "            input_states[i] = s_\n",
    "        \n",
    "        # HINT: Clip the target to avoid exploiding gradients.. -- clipping is a bit tighter\n",
    "        target_q = np.clip(target_q, -3, 3)\n",
    "\n",
    "        l = self.model.train_on_batch(input_states, target_q)\n",
    "\n",
    "        return l\n",
    "\n",
    "    def save(self, name_weights='model.h5', name_model='model.json'):\n",
    "        self.model.save_weights(name_weights, overwrite=True)\n",
    "        with open(name_model, \"w\") as outfile:\n",
    "            json.dump(self.model.to_json(), outfile)\n",
    "            \n",
    "    def load(self, name_weights='model.h5', name_model='model.json'):\n",
    "        with open(name_model, \"r\") as jfile:\n",
    "            model = model_from_json(json.load(jfile))\n",
    "        model.load_weights(name_weights)\n",
    "        model.compile(\"sgd\", \"mse\")\n",
    "        self.model = model\n",
    "\n",
    "            \n",
    "class DQN_FC(DQN):\n",
    "    def __init__(self, *args, lr=0.1, **kwargs):\n",
    "        super(DQN_FC, self).__init__(*args, **kwargs)\n",
    "        \n",
    "        # NN Model\n",
    "        ####### FILL IN\n",
    "        hidden_size = 64\n",
    "        \n",
    "        model = Sequential([\n",
    "            Flatten(),\n",
    "            Dense(hidden_size),\n",
    "            Activation('relu'),\n",
    "            Dense(self.n_action)\n",
    "        ])\n",
    "        \n",
    "        model.compile(sgd(lr=lr, decay=1e-4, momentum=0.0), 'mse')\n",
    "        # model.compile(adam(lr=lr), 'mse')\n",
    "        self.model = model"
   ]
  },
  {
   "cell_type": "code",
   "execution_count": 67,
   "metadata": {},
   "outputs": [
    {
     "name": "stdout",
     "output_type": "stream",
     "text": [
      "Epoch 000/101 | Loss 0.0118 | Win/lose count 6.0/3.0 (3.0)\n",
      "Epoch 001/101 | Loss 0.0216 | Win/lose count 5.5/6.0 (-0.5)\n",
      "Epoch 002/101 | Loss 0.0727 | Win/lose count 3.0/2.0 (1.0)\n",
      "Epoch 003/101 | Loss 0.0153 | Win/lose count 6.5/5.0 (1.5)\n",
      "Epoch 004/101 | Loss 0.0230 | Win/lose count 6.0/6.0 (0.0)\n",
      "Epoch 005/101 | Loss 0.0156 | Win/lose count 3.5/6.0 (-2.5)\n",
      "Epoch 006/101 | Loss 0.0254 | Win/lose count 3.5/2.0 (1.5)\n",
      "Epoch 007/101 | Loss 0.0095 | Win/lose count 3.5/7.0 (-3.5)\n",
      "Epoch 008/101 | Loss 0.0099 | Win/lose count 1.0/4.0 (-3.0)\n",
      "Epoch 009/101 | Loss 0.0071 | Win/lose count 6.5/1.0 (5.5)\n",
      "Epoch 010/101 | Loss 0.0109 | Win/lose count 9.5/3.0 (6.5)\n",
      "Epoch 011/101 | Loss 0.0044 | Win/lose count 3.5/8.0 (-4.5)\n",
      "Epoch 012/101 | Loss 0.0061 | Win/lose count 8.0/5.0 (3.0)\n",
      "Epoch 013/101 | Loss 0.0135 | Win/lose count 5.5/5.0 (0.5)\n",
      "Epoch 014/101 | Loss 0.0146 | Win/lose count 8.0/7.0 (1.0)\n",
      "Epoch 015/101 | Loss 0.0163 | Win/lose count 4.0/3.0 (1.0)\n",
      "Epoch 016/101 | Loss 0.0072 | Win/lose count 4.0/1.0 (3.0)\n",
      "Epoch 017/101 | Loss 0.0098 | Win/lose count 18.5/9.0 (9.5)\n",
      "Epoch 018/101 | Loss 0.0623 | Win/lose count 4.0/4.0 (0.0)\n",
      "Epoch 019/101 | Loss 0.0067 | Win/lose count 7.0/5.0 (2.0)\n",
      "Epoch 020/101 | Loss 0.0192 | Win/lose count 10.0/5.0 (5.0)\n",
      "Epoch 021/101 | Loss 0.0093 | Win/lose count 6.5/6.0 (0.5)\n",
      "Epoch 022/101 | Loss 0.0111 | Win/lose count 8.5/5.0 (3.5)\n",
      "Epoch 023/101 | Loss 0.0122 | Win/lose count 6.5/5.0 (1.5)\n",
      "Epoch 024/101 | Loss 0.0044 | Win/lose count 2.5/2.0 (0.5)\n",
      "Epoch 025/101 | Loss 0.0658 | Win/lose count 7.0/1.0 (6.0)\n",
      "Epoch 026/101 | Loss 0.0080 | Win/lose count 2.5/0 (2.5)\n",
      "Epoch 027/101 | Loss 0.0139 | Win/lose count 5.5/2.0 (3.5)\n",
      "Epoch 028/101 | Loss 0.0121 | Win/lose count 5.0/4.0 (1.0)\n",
      "Epoch 029/101 | Loss 0.0612 | Win/lose count 3.0/2.0 (1.0)\n",
      "Epoch 030/101 | Loss 0.0079 | Win/lose count 14.0/5.0 (9.0)\n",
      "Epoch 031/101 | Loss 0.0081 | Win/lose count 6.0/4.0 (2.0)\n",
      "Epoch 032/101 | Loss 0.0066 | Win/lose count 0.5/2.0 (-1.5)\n",
      "Epoch 033/101 | Loss 0.0027 | Win/lose count 8.5/0 (8.5)\n",
      "Epoch 034/101 | Loss 0.0043 | Win/lose count 5.0/3.0 (2.0)\n",
      "Epoch 035/101 | Loss 0.0024 | Win/lose count 10.5/3.0 (7.5)\n",
      "Epoch 036/101 | Loss 0.0668 | Win/lose count 3.5/3.0 (0.5)\n",
      "Epoch 037/101 | Loss 0.0636 | Win/lose count 6.5/2.0 (4.5)\n",
      "Epoch 038/101 | Loss 0.0108 | Win/lose count 8.0/5.0 (3.0)\n",
      "Epoch 039/101 | Loss 0.0057 | Win/lose count 8.5/8.0 (0.5)\n",
      "Epoch 040/101 | Loss 0.0691 | Win/lose count 9.5/2.0 (7.5)\n",
      "Epoch 041/101 | Loss 0.0134 | Win/lose count 8.0/4.0 (4.0)\n",
      "Epoch 042/101 | Loss 0.0114 | Win/lose count 4.5/5.0 (-0.5)\n",
      "Epoch 043/101 | Loss 0.0121 | Win/lose count 7.0/3.0 (4.0)\n",
      "Epoch 044/101 | Loss 0.0040 | Win/lose count 5.0/1.0 (4.0)\n",
      "Epoch 045/101 | Loss 0.0126 | Win/lose count 4.0/2.0 (2.0)\n",
      "Epoch 046/101 | Loss 0.0192 | Win/lose count 4.5/4.0 (0.5)\n",
      "Epoch 047/101 | Loss 0.0042 | Win/lose count 8.0/2.0 (6.0)\n",
      "Epoch 048/101 | Loss 0.0101 | Win/lose count 3.5/1.0 (2.5)\n",
      "Epoch 049/101 | Loss 0.0044 | Win/lose count 9.0/6.0 (3.0)\n",
      "Epoch 050/101 | Loss 0.0091 | Win/lose count 11.5/5.0 (6.5)\n",
      "Epoch 051/101 | Loss 0.0043 | Win/lose count 6.5/3.0 (3.5)\n",
      "Epoch 052/101 | Loss 0.0050 | Win/lose count 11.5/4.0 (7.5)\n",
      "Epoch 053/101 | Loss 0.0026 | Win/lose count 9.5/6.0 (3.5)\n",
      "Epoch 054/101 | Loss 0.0115 | Win/lose count 8.0/4.0 (4.0)\n",
      "Epoch 055/101 | Loss 0.0032 | Win/lose count 7.5/2.0 (5.5)\n",
      "Epoch 056/101 | Loss 0.0037 | Win/lose count 14.0/3.0 (11.0)\n",
      "Epoch 057/101 | Loss 0.0092 | Win/lose count 8.5/5.0 (3.5)\n",
      "Epoch 058/101 | Loss 0.0095 | Win/lose count 15.5/1.0 (14.5)\n",
      "Epoch 059/101 | Loss 0.0035 | Win/lose count 4.0/2.0 (2.0)\n",
      "Epoch 060/101 | Loss 0.0090 | Win/lose count 12.0/4.0 (8.0)\n",
      "Epoch 061/101 | Loss 0.0031 | Win/lose count 10.5/4.0 (6.5)\n",
      "Epoch 062/101 | Loss 0.0179 | Win/lose count 13.0/5.0 (8.0)\n",
      "Epoch 063/101 | Loss 0.0101 | Win/lose count 9.0/4.0 (5.0)\n",
      "Epoch 064/101 | Loss 0.0100 | Win/lose count 7.0/4.0 (3.0)\n",
      "Epoch 065/101 | Loss 0.0570 | Win/lose count 9.0/1.0 (8.0)\n",
      "Epoch 066/101 | Loss 0.0089 | Win/lose count 13.5/5.0 (8.5)\n",
      "Epoch 067/101 | Loss 0.0034 | Win/lose count 7.5/5.0 (2.5)\n",
      "Epoch 068/101 | Loss 0.0573 | Win/lose count 11.0/3.0 (8.0)\n",
      "Epoch 069/101 | Loss 0.0038 | Win/lose count 13.5/4.0 (9.5)\n",
      "Epoch 070/101 | Loss 0.0143 | Win/lose count 10.5/1.0 (9.5)\n",
      "Epoch 071/101 | Loss 0.0730 | Win/lose count 16.5/7.0 (9.5)\n",
      "Epoch 072/101 | Loss 0.0048 | Win/lose count 12.0/7.0 (5.0)\n",
      "Epoch 073/101 | Loss 0.0036 | Win/lose count 6.0/2.0 (4.0)\n",
      "Epoch 074/101 | Loss 0.0557 | Win/lose count 7.5/5.0 (2.5)\n",
      "Epoch 075/101 | Loss 0.0021 | Win/lose count 4.5/2.0 (2.5)\n",
      "Epoch 076/101 | Loss 0.0037 | Win/lose count 8.0/2.0 (6.0)\n",
      "Epoch 077/101 | Loss 0.0033 | Win/lose count 5.0/1.0 (4.0)\n",
      "Epoch 078/101 | Loss 0.0031 | Win/lose count 13.5/4.0 (9.5)\n",
      "Epoch 079/101 | Loss 0.0050 | Win/lose count 10.0/3.0 (7.0)\n",
      "Epoch 080/101 | Loss 0.0643 | Win/lose count 11.5/4.0 (7.5)\n",
      "Epoch 081/101 | Loss 0.0046 | Win/lose count 7.5/1.0 (6.5)\n",
      "Epoch 082/101 | Loss 0.0107 | Win/lose count 9.5/2.0 (7.5)\n",
      "Epoch 083/101 | Loss 0.0099 | Win/lose count 7.5/2.0 (5.5)\n",
      "Epoch 084/101 | Loss 0.0092 | Win/lose count 9.0/3.0 (6.0)\n",
      "Epoch 085/101 | Loss 0.0024 | Win/lose count 14.0/0 (14.0)\n",
      "Epoch 086/101 | Loss 0.0650 | Win/lose count 14.0/9.0 (5.0)\n",
      "Epoch 087/101 | Loss 0.0106 | Win/lose count 6.5/2.0 (4.5)\n",
      "Epoch 088/101 | Loss 0.0090 | Win/lose count 8.0/3.0 (5.0)\n",
      "Epoch 089/101 | Loss 0.0089 | Win/lose count 8.0/2.0 (6.0)\n",
      "Epoch 090/101 | Loss 0.0172 | Win/lose count 2.0/4.0 (-2.0)\n",
      "Epoch 091/101 | Loss 0.0049 | Win/lose count 7.0/3.0 (4.0)\n",
      "Epoch 092/101 | Loss 0.0041 | Win/lose count 9.0/2.0 (7.0)\n",
      "Epoch 093/101 | Loss 0.0046 | Win/lose count 3.0/4.0 (-1.0)\n",
      "Epoch 094/101 | Loss 0.0915 | Win/lose count 2.0/2.0 (0.0)\n",
      "Epoch 095/101 | Loss 0.0071 | Win/lose count 3.0/1.0 (2.0)\n",
      "Epoch 096/101 | Loss 0.0533 | Win/lose count 10.0/3.0 (7.0)\n",
      "Epoch 097/101 | Loss 0.0130 | Win/lose count 5.5/4.0 (1.5)\n",
      "Epoch 098/101 | Loss 0.0033 | Win/lose count 6.0/4.0 (2.0)\n",
      "Epoch 099/101 | Loss 0.0078 | Win/lose count 7.5/2.0 (5.5)\n",
      "Epoch 100/101 | Loss 0.0163 | Win/lose count 15.5/6.0 (9.5)\n"
     ]
    },
    {
     "data": {
      "text/html": [
       "<video alt=\"test\" controls>\n",
       "                <source src=\"data:video/mp4;base64,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\" type=\"video/mp4\" />\n",
       "             </video>"
      ],
      "text/plain": [
       "<IPython.core.display.HTML object>"
      ]
     },
     "execution_count": 67,
     "metadata": {},
     "output_type": "execute_result"
    }
   ],
   "source": [
    "epochs_train = 101\n",
    "\n",
    "env = Environment(grid_size=size, max_time=T, temperature=.3)\n",
    "agent = DQN_FC(size, lr=1e-1, epsilon=.1, memory_size=2000, batch_size=32)\n",
    "\n",
    "losses, scores = train(agent, env, epochs_train, prefix='fc_train')\n",
    "HTML(display_videos('fc_train{}.mp4'.format(epochs_train-1)))"
   ]
  },
  {
   "cell_type": "code",
   "execution_count": 68,
   "metadata": {},
   "outputs": [
    {
     "data": {
      "image/png": "[encoded data removed]",
      "text/plain": [
       "<Figure size 864x288 with 2 Axes>"
      ]
     },
     "metadata": {
      "needs_background": "light"
     },
     "output_type": "display_data"
    }
   ],
   "source": [
    "def plot_performances(losses, scores, window_size=4):\n",
    "    plt.figure(figsize=(12, 4))\n",
    "\n",
    "    plt.subplot(121)\n",
    "    plt.title('Average Loss per epoch')\n",
    "    plt.xlabel('Epochs')\n",
    "    plt.ylabel('Loss')\n",
    "    plt.plot(losses, alpha=.3, c='b', label='loss')\n",
    "    plt.plot(np.arange(window_size//2, epochs_train - window_size//2 + 1),\n",
    "             np.convolve(losses, np.ones((window_size,)) / window_size, mode='valid'),\n",
    "             c='b', label='smoothed loss')\n",
    "    plt.legend(loc='best')\n",
    "\n",
    "    plt.subplot(122)\n",
    "    plt.title('Smoothed score')\n",
    "    plt.xlabel('Epochs')\n",
    "    plt.ylabel('Score')\n",
    "    plt.plot(scores, alpha=.3, c='g', label='score')\n",
    "    plt.plot(np.arange(window_size//2, epochs_train - window_size//2 + 1), \n",
    "             np.convolve(scores, np.ones((window_size,)) / window_size , mode='valid'),\n",
    "             c='g', label='smoothed score')\n",
    "    plt.legend(loc='best')\n",
    "\n",
    "    plt.show()\n",
    "\n",
    "plot_performances(losses, scores)"
   ]
  },
  {
   "cell_type": "markdown",
   "metadata": {},
   "source": [
    "***\n",
    "***\n",
    "__Question 8__ Implement the DQN training algorithm using a CNN (for example, 2 convolutional layers and one final fully connected layer)."
   ]
  },
  {
   "cell_type": "code",
   "execution_count": 69,
   "metadata": {},
   "outputs": [],
   "source": [
    "class DQN_CNN(DQN):\n",
    "    def __init__(self, *args, lr=0.1, **kwargs):\n",
    "        super(DQN_CNN, self).__init__(*args, **kwargs)\n",
    "        \n",
    "        ###### FILL IN\n",
    "        model = Sequential([\n",
    "            Conv2D(16, 3, padding='same'),\n",
    "            Activation('relu'),\n",
    "            Conv2D(32, 3, padding='same'),\n",
    "            Activation('relu'),\n",
    "            Flatten(),\n",
    "            Dense(64),\n",
    "            Activation('relu'),\n",
    "            Dense(self.n_action)\n",
    "        ])\n",
    "        \n",
    "        model.compile(sgd(lr=lr, decay=1e-4, momentum=0.0), 'mse')\n",
    "        # model.compile(adam(lr=lr), 'mse')\n",
    "        self.model = model"
   ]
  },
  {
   "cell_type": "code",
   "execution_count": 70,
   "metadata": {
    "scrolled": true
   },
   "outputs": [
    {
     "name": "stdout",
     "output_type": "stream",
     "text": [
      "Epoch 000/101 | Loss 0.0091 | Win/lose count 4.5/5.0 (-0.5)\n",
      "Epoch 001/101 | Loss 0.0607 | Win/lose count 13.5/11.0 (2.5)\n",
      "Epoch 002/101 | Loss 0.0086 | Win/lose count 17.5/5.0 (12.5)\n",
      "Epoch 003/101 | Loss 0.0041 | Win/lose count 5.0/3.0 (2.0)\n",
      "Epoch 004/101 | Loss 0.0188 | Win/lose count 11.0/7.0 (4.0)\n",
      "Epoch 005/101 | Loss 0.0468 | Win/lose count 6.5/2.0 (4.5)\n",
      "Epoch 006/101 | Loss 0.0038 | Win/lose count 10.0/6.0 (4.0)\n",
      "Epoch 007/101 | Loss 0.0136 | Win/lose count 7.0/4.0 (3.0)\n",
      "Epoch 008/101 | Loss 0.0105 | Win/lose count 9.5/3.0 (6.5)\n",
      "Epoch 009/101 | Loss 0.0085 | Win/lose count 15.0/3.0 (12.0)\n",
      "Epoch 010/101 | Loss 0.0043 | Win/lose count 12.0/4.0 (8.0)\n",
      "Epoch 011/101 | Loss 0.0088 | Win/lose count 4.0/5.0 (-1.0)\n",
      "Epoch 012/101 | Loss 0.0045 | Win/lose count 9.0/4.0 (5.0)\n",
      "Epoch 013/101 | Loss 0.0311 | Win/lose count 3.5/0 (3.5)\n",
      "Epoch 014/101 | Loss 0.0041 | Win/lose count 12.0/3.0 (9.0)\n",
      "Epoch 015/101 | Loss 0.0605 | Win/lose count 10.5/3.0 (7.5)\n",
      "Epoch 016/101 | Loss 0.0051 | Win/lose count 4.0/4.0 (0.0)\n",
      "Epoch 017/101 | Loss 0.0163 | Win/lose count 9.5/2.0 (7.5)\n",
      "Epoch 018/101 | Loss 0.0033 | Win/lose count 14.0/2.0 (12.0)\n",
      "Epoch 019/101 | Loss 0.0075 | Win/lose count 15.0/8.0 (7.0)\n",
      "Epoch 020/101 | Loss 0.0156 | Win/lose count 13.5/4.0 (9.5)\n",
      "Epoch 021/101 | Loss 0.0024 | Win/lose count 6.5/5.0 (1.5)\n",
      "Epoch 022/101 | Loss 0.0029 | Win/lose count 15.0/8.0 (7.0)\n",
      "Epoch 023/101 | Loss 0.0019 | Win/lose count 10.0/6.0 (4.0)\n",
      "Epoch 024/101 | Loss 0.0032 | Win/lose count 14.5/4.0 (10.5)\n",
      "Epoch 025/101 | Loss 0.0092 | Win/lose count 14.5/6.0 (8.5)\n",
      "Epoch 026/101 | Loss 0.0057 | Win/lose count 18.0/3.0 (15.0)\n",
      "Epoch 027/101 | Loss 0.0076 | Win/lose count 13.0/2.0 (11.0)\n",
      "Epoch 028/101 | Loss 0.0161 | Win/lose count 13.0/6.0 (7.0)\n",
      "Epoch 029/101 | Loss 0.0162 | Win/lose count 7.0/3.0 (4.0)\n",
      "Epoch 030/101 | Loss 0.0689 | Win/lose count 15.5/7.0 (8.5)\n",
      "Epoch 031/101 | Loss 0.0098 | Win/lose count 7.5/4.0 (3.5)\n",
      "Epoch 032/101 | Loss 0.0036 | Win/lose count 11.5/3.0 (8.5)\n",
      "Epoch 033/101 | Loss 0.0713 | Win/lose count 16.0/4.0 (12.0)\n",
      "Epoch 034/101 | Loss 0.0020 | Win/lose count 9.0/6.0 (3.0)\n",
      "Epoch 035/101 | Loss 0.0139 | Win/lose count 10.5/2.0 (8.5)\n",
      "Epoch 036/101 | Loss 0.0608 | Win/lose count 12.0/1.0 (11.0)\n",
      "Epoch 037/101 | Loss 0.0027 | Win/lose count 12.0/1.0 (11.0)\n",
      "Epoch 038/101 | Loss 0.0029 | Win/lose count 6.0/8.0 (-2.0)\n",
      "Epoch 039/101 | Loss 0.0018 | Win/lose count 9.5/3.0 (6.5)\n",
      "Epoch 040/101 | Loss 0.0454 | Win/lose count 8.5/2.0 (6.5)\n",
      "Epoch 041/101 | Loss 0.0088 | Win/lose count 15.5/4.0 (11.5)\n",
      "Epoch 042/101 | Loss 0.0031 | Win/lose count 11.0/7.0 (4.0)\n",
      "Epoch 043/101 | Loss 0.0037 | Win/lose count 5.0/3.0 (2.0)\n",
      "Epoch 044/101 | Loss 0.0107 | Win/lose count 12.0/2.0 (10.0)\n",
      "Epoch 045/101 | Loss 0.0097 | Win/lose count 3.0/2.0 (1.0)\n",
      "Epoch 046/101 | Loss 0.0045 | Win/lose count 15.5/8.0 (7.5)\n",
      "Epoch 047/101 | Loss 0.0033 | Win/lose count 15.5/6.0 (9.5)\n",
      "Epoch 048/101 | Loss 0.0095 | Win/lose count 15.0/5.0 (10.0)\n",
      "Epoch 049/101 | Loss 0.0093 | Win/lose count 15.0/6.0 (9.0)\n",
      "Epoch 050/101 | Loss 0.0237 | Win/lose count 16.0/7.0 (9.0)\n",
      "Epoch 051/101 | Loss 0.0058 | Win/lose count 10.0/5.0 (5.0)\n",
      "Epoch 052/101 | Loss 0.0692 | Win/lose count 14.0/6.0 (8.0)\n",
      "Epoch 053/101 | Loss 0.0030 | Win/lose count 6.5/8.0 (-1.5)\n",
      "Epoch 054/101 | Loss 0.0046 | Win/lose count 13.5/5.0 (8.5)\n",
      "Epoch 055/101 | Loss 0.0035 | Win/lose count 11.5/4.0 (7.5)\n",
      "Epoch 056/101 | Loss 0.0700 | Win/lose count 14.5/7.0 (7.5)\n",
      "Epoch 057/101 | Loss 0.0201 | Win/lose count 9.5/2.0 (7.5)\n",
      "Epoch 058/101 | Loss 0.0097 | Win/lose count 17.0/6.0 (11.0)\n",
      "Epoch 059/101 | Loss 0.0160 | Win/lose count 14.5/5.0 (9.5)\n",
      "Epoch 060/101 | Loss 0.0039 | Win/lose count 16.5/3.0 (13.5)\n",
      "Epoch 061/101 | Loss 0.0059 | Win/lose count 16.0/3.0 (13.0)\n",
      "Epoch 062/101 | Loss 0.0098 | Win/lose count 15.0/4.0 (11.0)\n",
      "Epoch 063/101 | Loss 0.0026 | Win/lose count 11.0/0 (11.0)\n",
      "Epoch 064/101 | Loss 0.0023 | Win/lose count 17.0/1.0 (16.0)\n",
      "Epoch 065/101 | Loss 0.0185 | Win/lose count 14.5/2.0 (12.5)\n",
      "Epoch 066/101 | Loss 0.0615 | Win/lose count 21.0/4.0 (17.0)\n",
      "Epoch 067/101 | Loss 0.0086 | Win/lose count 8.5/5.0 (3.5)\n",
      "Epoch 068/101 | Loss 0.0102 | Win/lose count 16.0/4.0 (12.0)\n",
      "Epoch 069/101 | Loss 0.0026 | Win/lose count 14.5/3.0 (11.5)\n",
      "Epoch 070/101 | Loss 0.0018 | Win/lose count 13.0/7.0 (6.0)\n",
      "Epoch 071/101 | Loss 0.0021 | Win/lose count 19.0/5.0 (14.0)\n",
      "Epoch 072/101 | Loss 0.0022 | Win/lose count 15.0/3.0 (12.0)\n",
      "Epoch 073/101 | Loss 0.0035 | Win/lose count 17.0/3.0 (14.0)\n",
      "Epoch 074/101 | Loss 0.0646 | Win/lose count 23.5/3.0 (20.5)\n",
      "Epoch 075/101 | Loss 0.0097 | Win/lose count 14.0/2.0 (12.0)\n",
      "Epoch 076/101 | Loss 0.0093 | Win/lose count 18.5/8.0 (10.5)\n",
      "Epoch 077/101 | Loss 0.0157 | Win/lose count 12.0/3.0 (9.0)\n",
      "Epoch 078/101 | Loss 0.0086 | Win/lose count 18.5/2.0 (16.5)\n",
      "Epoch 079/101 | Loss 0.0098 | Win/lose count 21.0/1.0 (20.0)\n",
      "Epoch 080/101 | Loss 0.0020 | Win/lose count 14.0/4.0 (10.0)\n",
      "Epoch 081/101 | Loss 0.0024 | Win/lose count 12.5/3.0 (9.5)\n",
      "Epoch 082/101 | Loss 0.0087 | Win/lose count 14.0/3.0 (11.0)\n",
      "Epoch 083/101 | Loss 0.0100 | Win/lose count 22.5/5.0 (17.5)\n",
      "Epoch 084/101 | Loss 0.0088 | Win/lose count 16.0/4.0 (12.0)\n",
      "Epoch 085/101 | Loss 0.0033 | Win/lose count 8.5/4.0 (4.5)\n",
      "Epoch 086/101 | Loss 0.0095 | Win/lose count 16.0/0 (16.0)\n",
      "Epoch 087/101 | Loss 0.0013 | Win/lose count 17.5/4.0 (13.5)\n",
      "Epoch 088/101 | Loss 0.0078 | Win/lose count 11.0/6.0 (5.0)\n",
      "Epoch 089/101 | Loss 0.0092 | Win/lose count 20.5/7.0 (13.5)\n",
      "Epoch 090/101 | Loss 0.0038 | Win/lose count 9.0/3.0 (6.0)\n",
      "Epoch 091/101 | Loss 0.0022 | Win/lose count 3.5/1.0 (2.5)\n",
      "Epoch 092/101 | Loss 0.0062 | Win/lose count 7.5/1.0 (6.5)\n",
      "Epoch 093/101 | Loss 0.0597 | Win/lose count 21.0/4.0 (17.0)\n",
      "Epoch 094/101 | Loss 0.0022 | Win/lose count 2.5/6.0 (-3.5)\n",
      "Epoch 095/101 | Loss 0.0027 | Win/lose count 7.0/1.0 (6.0)\n",
      "Epoch 096/101 | Loss 0.0094 | Win/lose count 8.0/4.0 (4.0)\n",
      "Epoch 097/101 | Loss 0.0035 | Win/lose count 7.5/2.0 (5.5)\n",
      "Epoch 098/101 | Loss 0.0538 | Win/lose count 13.0/2.0 (11.0)\n",
      "Epoch 099/101 | Loss 0.0047 | Win/lose count 6.5/6.0 (0.5)\n",
      "Epoch 100/101 | Loss 0.0109 | Win/lose count 6.5/7.0 (-0.5)\n"
     ]
    },
    {
     "data": {
      "text/html": [
       "<video alt=\"test\" controls>\n",
       "                <source src=\"data:video/mp4;base64,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\" type=\"video/mp4\" />\n",
       "             </video>"
      ],
      "text/plain": [
       "<IPython.core.display.HTML object>"
      ]
     },
     "execution_count": 70,
     "metadata": {},
     "output_type": "execute_result"
    }
   ],
   "source": [
    "epochs_train = 101\n",
    "\n",
    "env = Environment(grid_size=size, max_time=T, temperature=0.3)\n",
    "agent = DQN_CNN(size, lr=1e-1, epsilon=0.1, memory_size=2000, batch_size=32)\n",
    "losses, scores = train(agent, env, epochs_train, prefix='cnn_train')\n",
    "HTML(display_videos('cnn_train{}.mp4'.format(epochs_train-1)))"
   ]
  },
  {
   "cell_type": "code",
   "execution_count": 71,
   "metadata": {},
   "outputs": [
    {
     "data": {
      "image/png": "[encoded data removed]",
      "text/plain": [
       "<Figure size 864x288 with 2 Axes>"
      ]
     },
     "metadata": {
      "needs_background": "light"
     },
     "output_type": "display_data"
    }
   ],
   "source": [
    "plot_performances(losses, scores)"
   ]
  },
  {
   "cell_type": "markdown",
   "metadata": {},
   "source": [
    "***\n",
    "***\n",
    "__Question 9__ Test both algorithms and compare their performances. Which issue(s) do you observe? Observe also different behaviors by changing the temperature."
   ]
  },
  {
   "cell_type": "code",
   "execution_count": 72,
   "metadata": {},
   "outputs": [
    {
     "name": "stdout",
     "output_type": "stream",
     "text": [
      "Test of the CNN\n",
      "Win/lose count 3.0/5.0. Average score (-2.0)\n",
      "Win/lose count 5.0/6.0. Average score (-1.5)\n",
      "Win/lose count 5.0/1.0. Average score (0.3333333333333333)\n",
      "Win/lose count 5.0/3.0. Average score (0.75)\n",
      "Win/lose count 7.5/3.0. Average score (1.5)\n",
      "Win/lose count 5.5/5.0. Average score (1.3333333333333333)\n",
      "Win/lose count 8.0/2.0. Average score (2.0)\n",
      "Win/lose count 5.5/3.0. Average score (2.0625)\n",
      "Win/lose count 3.5/1.0. Average score (2.111111111111111)\n",
      "Win/lose count 5.0/0.0. Average score (2.4)\n",
      "Win/lose count 9.0/1.0. Average score (2.909090909090909)\n",
      "Final score: 2.909090909090909\n",
      "Test of the FC\n",
      "Win/lose count 4.5/3.0. Average score (1.5)\n",
      "Win/lose count 2.5/1.0. Average score (1.5)\n",
      "Win/lose count 4.0/3.0. Average score (1.3333333333333333)\n",
      "Win/lose count 6.5/3.0. Average score (1.875)\n",
      "Win/lose count 4.5/2.0. Average score (2.0)\n",
      "Win/lose count 8.0/6.0. Average score (2.0)\n",
      "Win/lose count 4.5/2.0. Average score (2.0714285714285716)\n",
      "Win/lose count 2.0/0.0. Average score (2.0625)\n",
      "Win/lose count 6.0/6.0. Average score (1.8333333333333333)\n",
      "Win/lose count 5.0/2.0. Average score (1.95)\n",
      "Win/lose count 3.5/2.0. Average score (1.9090909090909092)\n",
      "Final score: 1.9090909090909092\n"
     ]
    }
   ],
   "source": [
    "epochs_test = 11\n",
    "\n",
    "env = Environment(grid_size=size, max_time=T, temperature=0.3)\n",
    "agent_cnn = DQN_CNN(size, lr=.1, epsilon=0.1, memory_size=2000, batch_size=32)\n",
    "agent_cnn.load(name_weights='cnn_trainmodel.h5', name_model='cnn_trainmodel.json')\n",
    "\n",
    "agent_fc = DQN_FC(size, lr=.1, epsilon=0.1, memory_size=2000, batch_size=32)\n",
    "agent_fc.load(name_weights='fc_trainmodel.h5', name_model='fc_trainmodel.json')\n",
    "print('Test of the CNN')\n",
    "test(agent_cnn, env, epochs_test, prefix='cnn_test')\n",
    "print('Test of the FC')\n",
    "test(agent_fc, env, epochs_test, prefix='fc_test')"
   ]
  },
  {
   "cell_type": "code",
   "execution_count": 73,
   "metadata": {},
   "outputs": [
    {
     "data": {
      "text/html": [
       "<video alt=\"test\" controls>\n",
       "                <source src=\"data:video/mp4;base64,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\" type=\"video/mp4\" />\n",
       "             </video>"
      ],
      "text/plain": [
       "<IPython.core.display.HTML object>"
      ]
     },
     "execution_count": 73,
     "metadata": {},
     "output_type": "execute_result"
    }
   ],
   "source": [
    "HTML(display_videos('cnn_test10.mp4'))"
   ]
  },
  {
   "cell_type": "code",
   "execution_count": 74,
   "metadata": {},
   "outputs": [
    {
     "data": {
      "text/html": [
       "<video alt=\"test\" controls>\n",
       "                <source src=\"data:video/mp4;base64,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\" type=\"video/mp4\" />\n",
       "             </video>"
      ],
      "text/plain": [
       "<IPython.core.display.HTML object>"
      ]
     },
     "execution_count": 74,
     "metadata": {},
     "output_type": "execute_result"
    }
   ],
   "source": [
    "HTML(display_videos('fc_test10.mp4'))"
   ]
  },
  {
   "cell_type": "markdown",
   "metadata": {},
   "source": [
    "__Solution 9__: When we increase the temperature, we increase both the probabilities of having a cheese or a poison on a given cell. However, as we first put the cheese and then the poison, increasing the temperature increases the number of cheese and reduces the number of poison on the board. Naturally, this yields better rewards but it does not mean the agent is better.\n",
    "\n",
    "Indeed, we notice that **there is an issue regarding the exploration**. When the temperature is low, there are a lot of empty cells and the agent is easily stuck in an empty part of the board. This seems to be a strategy to avoid the poison but at the same time, the agent also avoids the cheese. When the temperature is higher, the agent first cleans a part of the board and then is likely to get stuck in this now-empty part of the board. In other words, the agent gets easily stuck into a local minima.\n",
    "\n",
    "Besides, we notice that the CNN yields better performance than the MLP."
   ]
  },
  {
   "cell_type": "markdown",
   "metadata": {},
   "source": [
    "***\n",
    "\n",
    "The algorithm tends to not explore the map which can be an issue. We propose two ideas in order to encourage exploration:\n",
    "1. Incorporating a decreasing $\\epsilon$-greedy exploration. You can use the method ```set_epsilon```\n",
    "2. Append via the environment a new state that describes if a cell has been visited or not\n",
    "\n",
    "***\n",
    "__Question 10__ Design a new ```train_explore``` function and environment class ```EnvironmentExploring``` to tackle the issue of exploration.\n",
    "\n"
   ]
  },
  {
   "cell_type": "code",
   "execution_count": 84,
   "metadata": {},
   "outputs": [],
   "source": [
    "def train_explore(agent, env, epoch, prefix=''):\n",
    "    # Number of won games\n",
    "    score = 0\n",
    "    loss = 0\n",
    "    \n",
    "    # Decreasing epsilon factor\n",
    "    gamma = .95\n",
    "    \n",
    "    # To record the performances during the training\n",
    "    scores = []\n",
    "    losses = []\n",
    "\n",
    "    for e in range(epoch):\n",
    "        # At each epoch, we restart to a fresh game and get the initial state\n",
    "        state = env.reset()\n",
    "        # This assumes that the games will terminate\n",
    "        game_over = False\n",
    "\n",
    "        win = 0\n",
    "        lose = 0\n",
    "        average_loss = 0\n",
    "        \n",
    "        while not game_over:\n",
    "            # The agent performs an action\n",
    "            action = agent.act(state)\n",
    "\n",
    "            # Apply an action to the environment, get the next state, the reward\n",
    "            # and if the games end\n",
    "            prev_state = state\n",
    "            state, reward, game_over = env.act(action, train=True)\n",
    "\n",
    "            # Update the counters\n",
    "            # to avoid having very low scores because of the malus position, we only\n",
    "            # count the reward if the agent ate a cheese or a poison\n",
    "            if reward > 0:\n",
    "                win = win + reward\n",
    "            if reward < 0:\n",
    "                lose = lose - reward\n",
    "\n",
    "            # Apply the reinforcement strategy\n",
    "            loss = agent.reinforce(prev_state, state,  action, reward, game_over)\n",
    "            average_loss += loss\n",
    "            \n",
    "        losses.append(average_loss / env.max_time)\n",
    "\n",
    "        # Save as a mp4\n",
    "        if e % 10 == 0:\n",
    "            env.draw(prefix + str(e))\n",
    "\n",
    "        # Update stats\n",
    "        score += win - lose\n",
    "        scores.append(win - lose)\n",
    "\n",
    "        print(\"Epoch {:03d}/{:03d} | Loss {:.4f} | Win/lose count {:.4f}/{:.4f} ({:.4f}) | Epsilon {:.4f}\"\n",
    "              .format(e, epoch, loss, win, lose, win - lose, agent.epsilon))\n",
    "        agent.save(name_weights=prefix + 'model.h5', name_model=prefix + 'model.json')\n",
    "        \n",
    "        # decreasing epsilon-greedy exploration\n",
    "        agent.set_epsilon(max(0.1, gamma * agent.epsilon))\n",
    "        \n",
    "    return losses, scores\n",
    "\n",
    "\n",
    "class EnvironmentExploring(Environment):\n",
    "    def __init__(self, grid_size=10, max_time=500, temperature=0.1):\n",
    "        \n",
    "        # keep the previous environment\n",
    "        super(EnvironmentExploring, self).__init__(grid_size=grid_size, \n",
    "                                                   max_time=max_time, \n",
    "                                                   temperature=temperature)\n",
    "        \n",
    "        # new feature to encourage exploration\n",
    "        self.malus_position = np.zeros((self.grid_size, self.grid_size))\n",
    "    \n",
    "    def act(self, action, train=True):\n",
    "        \n",
    "        # act as before\n",
    "        _, reward, game_over = super(EnvironmentExploring, self).act(action)\n",
    "        \n",
    "        if train:\n",
    "            # if the position has already been visited, apply a malus\n",
    "            reward -= self.malus_position[self.x, self.y]\n",
    "            \n",
    "        # set up the malus after a cell has been visited\n",
    "        self.malus_position[self.x, self.y] = 0.1\n",
    "\n",
    "        # concatenate features\n",
    "        state = np.concatenate((\n",
    "            self.malus_position.reshape(self.grid_size, self.grid_size, 1), \n",
    "            self.board.reshape(self.grid_size, self.grid_size, 1), \n",
    "            self.position.reshape(self.grid_size, self.grid_size, 1)\n",
    "        ), axis=2)\n",
    "        \n",
    "        # keep 5x5 window around the agent\n",
    "        state = state[self.x - 2:self.x + 3, self.y - 2:self.y + 3, :]\n",
    "        \n",
    "        return state, reward, game_over\n",
    "\n",
    "    def reset(self):\n",
    "        \n",
    "        # reset everything as before\n",
    "        super(EnvironmentExploring, self).reset()\n",
    "        \n",
    "        # reset the malus_position grid\n",
    "        self.malus_position = np.zeros((self.grid_size, self.grid_size))\n",
    "\n",
    "        # concatenate features\n",
    "        state = np.concatenate((\n",
    "            self.malus_position.reshape(self.grid_size, self.grid_size, 1), \n",
    "            self.board.reshape(self.grid_size, self.grid_size, 1), \n",
    "            self.position.reshape(self.grid_size, self.grid_size, 1)\n",
    "        ), axis=2)\n",
    "        \n",
    "        # keep 5x5 window around the agent\n",
    "        state = state[self.x - 2:self.x + 3, self.y - 2:self.y + 3, :]\n",
    "        \n",
    "        return state"
   ]
  },
  {
   "cell_type": "code",
   "execution_count": 89,
   "metadata": {
    "scrolled": true
   },
   "outputs": [
    {
     "name": "stdout",
     "output_type": "stream",
     "text": [
      "Epoch 000/101 | Loss 0.0185 | Win/lose count 5.5000/30.9000 (-25.4000) | Epsilon 1.0000\n",
      "Epoch 001/101 | Loss 0.0137 | Win/lose count 11.0000/31.8000 (-20.8000) | Epsilon 0.9500\n",
      "Epoch 002/101 | Loss 0.0157 | Win/lose count 11.0000/29.2000 (-18.2000) | Epsilon 0.9025\n",
      "Epoch 003/101 | Loss 0.0262 | Win/lose count 10.5000/30.4000 (-19.9000) | Epsilon 0.8574\n",
      "Epoch 004/101 | Loss 0.0148 | Win/lose count 6.5000/28.3000 (-21.8000) | Epsilon 0.8145\n",
      "Epoch 005/101 | Loss 0.0191 | Win/lose count 3.0000/20.5000 (-17.5000) | Epsilon 0.7738\n",
      "Epoch 006/101 | Loss 0.0249 | Win/lose count 11.0000/33.4000 (-22.4000) | Epsilon 0.7351\n",
      "Epoch 007/101 | Loss 0.0351 | Win/lose count 14.0000/21.7000 (-7.7000) | Epsilon 0.6983\n",
      "Epoch 008/101 | Loss 0.0159 | Win/lose count 15.5000/21.7000 (-6.2000) | Epsilon 0.6634\n",
      "Epoch 009/101 | Loss 0.0262 | Win/lose count 4.5000/24.8000 (-20.3000) | Epsilon 0.6302\n",
      "Epoch 010/101 | Loss 0.0206 | Win/lose count 14.0000/24.1000 (-10.1000) | Epsilon 0.5987\n",
      "Epoch 011/101 | Loss 0.0131 | Win/lose count 13.0000/23.4000 (-10.4000) | Epsilon 0.5688\n",
      "Epoch 012/101 | Loss 0.0208 | Win/lose count 16.0000/22.2000 (-6.2000) | Epsilon 0.5404\n",
      "Epoch 013/101 | Loss 0.0181 | Win/lose count 5.5000/23.1000 (-17.6000) | Epsilon 0.5133\n",
      "Epoch 014/101 | Loss 0.0219 | Win/lose count 3.5000/21.3000 (-17.8000) | Epsilon 0.4877\n",
      "Epoch 015/101 | Loss 0.0211 | Win/lose count 11.5000/21.4000 (-9.9000) | Epsilon 0.4633\n",
      "Epoch 016/101 | Loss 0.0217 | Win/lose count 17.0000/18.8000 (-1.8000) | Epsilon 0.4401\n",
      "Epoch 017/101 | Loss 0.0219 | Win/lose count 8.5000/19.7000 (-11.2000) | Epsilon 0.4181\n",
      "Epoch 018/101 | Loss 0.0075 | Win/lose count 13.5000/16.6000 (-3.1000) | Epsilon 0.3972\n",
      "Epoch 019/101 | Loss 0.0189 | Win/lose count 14.5000/19.6000 (-5.1000) | Epsilon 0.3774\n",
      "Epoch 020/101 | Loss 0.0137 | Win/lose count 12.5000/19.2000 (-6.7000) | Epsilon 0.3585\n",
      "Epoch 021/101 | Loss 0.0150 | Win/lose count 8.0000/23.1000 (-15.1000) | Epsilon 0.3406\n",
      "Epoch 022/101 | Loss 0.0295 | Win/lose count 18.0000/20.0000 (-2.0000) | Epsilon 0.3235\n",
      "Epoch 023/101 | Loss 0.0596 | Win/lose count 12.0000/21.5000 (-9.5000) | Epsilon 0.3074\n",
      "Epoch 024/101 | Loss 0.0170 | Win/lose count 13.5000/23.4000 (-9.9000) | Epsilon 0.2920\n",
      "Epoch 025/101 | Loss 0.0188 | Win/lose count 15.5000/21.8000 (-6.3000) | Epsilon 0.2774\n",
      "Epoch 026/101 | Loss 0.0161 | Win/lose count 17.0000/23.0000 (-6.0000) | Epsilon 0.2635\n",
      "Epoch 027/101 | Loss 0.0187 | Win/lose count 14.0000/26.5000 (-12.5000) | Epsilon 0.2503\n",
      "Epoch 028/101 | Loss 0.0288 | Win/lose count 14.0000/18.1000 (-4.1000) | Epsilon 0.2378\n",
      "Epoch 029/101 | Loss 0.0215 | Win/lose count 16.0000/18.8000 (-2.8000) | Epsilon 0.2259\n",
      "Epoch 030/101 | Loss 0.0263 | Win/lose count 16.0000/18.6000 (-2.6000) | Epsilon 0.2146\n",
      "Epoch 031/101 | Loss 0.0544 | Win/lose count 22.0000/20.9000 (1.1000) | Epsilon 0.2039\n",
      "Epoch 032/101 | Loss 0.0739 | Win/lose count 16.5000/17.1000 (-0.6000) | Epsilon 0.1937\n",
      "Epoch 033/101 | Loss 0.0236 | Win/lose count 17.0000/17.0000 (0.0000) | Epsilon 0.1840\n",
      "Epoch 034/101 | Loss 0.0224 | Win/lose count 18.0000/20.4000 (-2.4000) | Epsilon 0.1748\n",
      "Epoch 035/101 | Loss 0.0261 | Win/lose count 16.0000/16.7000 (-0.7000) | Epsilon 0.1661\n",
      "Epoch 036/101 | Loss 0.0236 | Win/lose count 17.0000/19.4000 (-2.4000) | Epsilon 0.1578\n",
      "Epoch 037/101 | Loss 0.0129 | Win/lose count 16.0000/20.0000 (-4.0000) | Epsilon 0.1499\n",
      "Epoch 038/101 | Loss 0.0750 | Win/lose count 20.5000/19.1000 (1.4000) | Epsilon 0.1424\n",
      "Epoch 039/101 | Loss 0.0211 | Win/lose count 24.0000/19.7000 (4.3000) | Epsilon 0.1353\n",
      "Epoch 040/101 | Loss 0.0294 | Win/lose count 23.0000/18.2000 (4.8000) | Epsilon 0.1285\n",
      "Epoch 041/101 | Loss 0.0140 | Win/lose count 15.5000/17.3000 (-1.8000) | Epsilon 0.1221\n",
      "Epoch 042/101 | Loss 0.0237 | Win/lose count 17.0000/19.8000 (-2.8000) | Epsilon 0.1160\n",
      "Epoch 043/101 | Loss 0.0242 | Win/lose count 17.5000/17.0000 (0.5000) | Epsilon 0.1102\n",
      "Epoch 044/101 | Loss 0.0154 | Win/lose count 14.0000/14.4000 (-0.4000) | Epsilon 0.1047\n",
      "Epoch 045/101 | Loss 0.0550 | Win/lose count 14.5000/16.2000 (-1.7000) | Epsilon 0.1000\n",
      "Epoch 046/101 | Loss 0.0262 | Win/lose count 20.5000/17.3000 (3.2000) | Epsilon 0.1000\n",
      "Epoch 047/101 | Loss 0.0094 | Win/lose count 7.5000/19.4000 (-11.9000) | Epsilon 0.1000\n",
      "Epoch 048/101 | Loss 0.0165 | Win/lose count 21.5000/16.1000 (5.4000) | Epsilon 0.1000\n",
      "Epoch 049/101 | Loss 0.0676 | Win/lose count 25.5000/17.4000 (8.1000) | Epsilon 0.1000\n",
      "Epoch 050/101 | Loss 0.0152 | Win/lose count 23.5000/18.1000 (5.4000) | Epsilon 0.1000\n",
      "Epoch 051/101 | Loss 0.0148 | Win/lose count 24.5000/19.8000 (4.7000) | Epsilon 0.1000\n",
      "Epoch 052/101 | Loss 0.0183 | Win/lose count 19.5000/19.1000 (0.4000) | Epsilon 0.1000\n",
      "Epoch 053/101 | Loss 0.0227 | Win/lose count 24.5000/18.7000 (5.8000) | Epsilon 0.1000\n",
      "Epoch 054/101 | Loss 0.0267 | Win/lose count 28.0000/12.5000 (15.5000) | Epsilon 0.1000\n",
      "Epoch 055/101 | Loss 0.0200 | Win/lose count 16.5000/24.0000 (-7.5000) | Epsilon 0.1000\n",
      "Epoch 056/101 | Loss 0.0208 | Win/lose count 23.0000/19.5000 (3.5000) | Epsilon 0.1000\n",
      "Epoch 057/101 | Loss 0.0278 | Win/lose count 22.0000/14.8000 (7.2000) | Epsilon 0.1000\n",
      "Epoch 058/101 | Loss 0.0146 | Win/lose count 16.5000/17.5000 (-1.0000) | Epsilon 0.1000\n",
      "Epoch 059/101 | Loss 0.0183 | Win/lose count 18.5000/17.5000 (1.0000) | Epsilon 0.1000\n",
      "Epoch 060/101 | Loss 0.0247 | Win/lose count 21.0000/15.0000 (6.0000) | Epsilon 0.1000\n",
      "Epoch 061/101 | Loss 0.0310 | Win/lose count 27.0000/15.6000 (11.4000) | Epsilon 0.1000\n",
      "Epoch 062/101 | Loss 0.0204 | Win/lose count 18.5000/16.3000 (2.2000) | Epsilon 0.1000\n",
      "Epoch 063/101 | Loss 0.0252 | Win/lose count 18.0000/18.3000 (-0.3000) | Epsilon 0.1000\n",
      "Epoch 064/101 | Loss 0.0277 | Win/lose count 22.0000/16.0000 (6.0000) | Epsilon 0.1000\n",
      "Epoch 065/101 | Loss 0.0220 | Win/lose count 24.0000/14.9000 (9.1000) | Epsilon 0.1000\n",
      "Epoch 066/101 | Loss 0.0175 | Win/lose count 17.0000/16.0000 (1.0000) | Epsilon 0.1000\n",
      "Epoch 067/101 | Loss 0.0188 | Win/lose count 21.5000/19.1000 (2.4000) | Epsilon 0.1000\n",
      "Epoch 068/101 | Loss 0.0114 | Win/lose count 24.5000/16.8000 (7.7000) | Epsilon 0.1000\n",
      "Epoch 069/101 | Loss 0.0225 | Win/lose count 27.0000/13.7000 (13.3000) | Epsilon 0.1000\n",
      "Epoch 070/101 | Loss 0.0170 | Win/lose count 16.0000/19.9000 (-3.9000) | Epsilon 0.1000\n",
      "Epoch 071/101 | Loss 0.0519 | Win/lose count 17.5000/16.8000 (0.7000) | Epsilon 0.1000\n",
      "Epoch 072/101 | Loss 0.0590 | Win/lose count 18.0000/16.7000 (1.3000) | Epsilon 0.1000\n",
      "Epoch 073/101 | Loss 0.0350 | Win/lose count 24.0000/15.8000 (8.2000) | Epsilon 0.1000\n",
      "Epoch 074/101 | Loss 0.0582 | Win/lose count 17.0000/20.5000 (-3.5000) | Epsilon 0.1000\n",
      "Epoch 075/101 | Loss 0.0160 | Win/lose count 14.0000/17.3000 (-3.3000) | Epsilon 0.1000\n",
      "Epoch 076/101 | Loss 0.0160 | Win/lose count 29.0000/13.0000 (16.0000) | Epsilon 0.1000\n",
      "Epoch 077/101 | Loss 0.0322 | Win/lose count 23.0000/16.8000 (6.2000) | Epsilon 0.1000\n",
      "Epoch 078/101 | Loss 0.0263 | Win/lose count 14.5000/17.2000 (-2.7000) | Epsilon 0.1000\n",
      "Epoch 079/101 | Loss 0.0209 | Win/lose count 25.5000/19.7000 (5.8000) | Epsilon 0.1000\n",
      "Epoch 080/101 | Loss 0.0155 | Win/lose count 22.5000/16.1000 (6.4000) | Epsilon 0.1000\n",
      "Epoch 081/101 | Loss 0.0246 | Win/lose count 25.5000/16.5000 (9.0000) | Epsilon 0.1000\n",
      "Epoch 082/101 | Loss 0.0098 | Win/lose count 20.0000/24.0000 (-4.0000) | Epsilon 0.1000\n",
      "Epoch 083/101 | Loss 0.0246 | Win/lose count 21.0000/16.7000 (4.3000) | Epsilon 0.1000\n",
      "Epoch 084/101 | Loss 0.0266 | Win/lose count 19.5000/14.1000 (5.4000) | Epsilon 0.1000\n",
      "Epoch 085/101 | Loss 0.0210 | Win/lose count 21.5000/17.0000 (4.5000) | Epsilon 0.1000\n",
      "Epoch 086/101 | Loss 0.0193 | Win/lose count 18.0000/18.6000 (-0.6000) | Epsilon 0.1000\n",
      "Epoch 087/101 | Loss 0.0192 | Win/lose count 25.0000/13.7000 (11.3000) | Epsilon 0.1000\n",
      "Epoch 088/101 | Loss 0.0207 | Win/lose count 20.0000/17.7000 (2.3000) | Epsilon 0.1000\n",
      "Epoch 089/101 | Loss 0.0118 | Win/lose count 19.0000/14.3000 (4.7000) | Epsilon 0.1000\n",
      "Epoch 090/101 | Loss 0.0215 | Win/lose count 17.5000/19.9000 (-2.4000) | Epsilon 0.1000\n",
      "Epoch 091/101 | Loss 0.0522 | Win/lose count 17.0000/16.9000 (0.1000) | Epsilon 0.1000\n",
      "Epoch 092/101 | Loss 0.0268 | Win/lose count 28.5000/13.8000 (14.7000) | Epsilon 0.1000\n",
      "Epoch 093/101 | Loss 0.0139 | Win/lose count 21.0000/18.3000 (2.7000) | Epsilon 0.1000\n"
     ]
    },
    {
     "name": "stdout",
     "output_type": "stream",
     "text": [
      "Epoch 094/101 | Loss 0.0247 | Win/lose count 23.5000/15.9000 (7.6000) | Epsilon 0.1000\n",
      "Epoch 095/101 | Loss 0.0182 | Win/lose count 15.5000/15.4000 (0.1000) | Epsilon 0.1000\n",
      "Epoch 096/101 | Loss 0.0210 | Win/lose count 19.5000/20.4000 (-0.9000) | Epsilon 0.1000\n",
      "Epoch 097/101 | Loss 0.0273 | Win/lose count 27.0000/18.9000 (8.1000) | Epsilon 0.1000\n",
      "Epoch 098/101 | Loss 0.0592 | Win/lose count 21.5000/15.4000 (6.1000) | Epsilon 0.1000\n",
      "Epoch 099/101 | Loss 0.0263 | Win/lose count 15.5000/17.1000 (-1.6000) | Epsilon 0.1000\n",
      "Epoch 100/101 | Loss 0.0264 | Win/lose count 17.5000/17.2000 (0.3000) | Epsilon 0.1000\n"
     ]
    },
    {
     "data": {
      "text/html": [
       "<video alt=\"test\" controls>\n",
       "                <source src=\"data:video/mp4;base64,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\" type=\"video/mp4\" />\n",
       "             </video>"
      ],
      "text/plain": [
       "<IPython.core.display.HTML object>"
      ]
     },
     "execution_count": 89,
     "metadata": {},
     "output_type": "execute_result"
    }
   ],
   "source": [
    "# Training\n",
    "epochs_train = 101\n",
    "env = EnvironmentExploring(grid_size=size, max_time=T, temperature=0.3)\n",
    "agent = DQN_CNN(size, lr=5e-2, epsilon=1, memory_size=2000, batch_size=32, n_state=3)\n",
    "losses, scores = train_explore(agent, env, epochs_train, prefix='cnn_train_explore')\n",
    "HTML(display_videos('cnn_train_explore10.mp4'))"
   ]
  },
  {
   "cell_type": "code",
   "execution_count": 90,
   "metadata": {},
   "outputs": [
    {
     "data": {
      "image/png": "[encoded data removed]",
      "text/plain": [
       "<Figure size 864x288 with 2 Axes>"
      ]
     },
     "metadata": {
      "needs_background": "light"
     },
     "output_type": "display_data"
    }
   ],
   "source": [
    "plot_performances(losses, scores)"
   ]
  },
  {
   "cell_type": "code",
   "execution_count": 91,
   "metadata": {},
   "outputs": [
    {
     "name": "stdout",
     "output_type": "stream",
     "text": [
      "Win/lose count 23.0/22.300000000000026. Average score (0.6999999999999744)\n",
      "Win/lose count 13.5/16.699999999999978. Average score (-1.2500000000000018)\n",
      "Win/lose count 24.5/13.69999999999998. Average score (2.7666666666666724)\n",
      "Win/lose count 21.5/15.099999999999973. Average score (3.6750000000000114)\n",
      "Win/lose count 20.5/15.399999999999979. Average score (3.9600000000000137)\n",
      "Win/lose count 21.0/13.399999999999977. Average score (4.5666666666666815)\n",
      "Win/lose count 24.5/16.799999999999983. Average score (5.014285714285729)\n",
      "Win/lose count 26.5/13.299999999999981. Average score (6.037500000000016)\n",
      "Win/lose count 26.0/12.299999999999972. Average score (6.888888888888906)\n",
      "Win/lose count 20.0/13.199999999999973. Average score (6.8800000000000185)\n",
      "Win/lose count 26.0/13.19999999999998. Average score (7.418181818181837)\n",
      "Final score: 7.418181818181837\n"
     ]
    },
    {
     "data": {
      "text/html": [
       "<video alt=\"test\" controls>\n",
       "                <source src=\"data:video/mp4;base64,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\" type=\"video/mp4\" />\n",
       "             </video>"
      ],
      "text/plain": [
       "<IPython.core.display.HTML object>"
      ]
     },
     "execution_count": 91,
     "metadata": {},
     "output_type": "execute_result"
    }
   ],
   "source": [
    "# Evaluation\n",
    "test(agent, env, epochs_test, prefix='cnn_test_explore')\n",
    "HTML(display_videos('cnn_test_explore10.mp4'))"
   ]
  },
  {
   "cell_type": "markdown",
   "metadata": {},
   "source": [
    "__Solution 10__: We can see that the agent is not stuck anymore and explore the board to retrieve the cheese. It results in better performances."
   ]
  },
  {
   "cell_type": "markdown",
   "metadata": {},
   "source": [
    "***\n",
    "***\n",
    "__BONUS question__ Use the expert DQN from the previous question to generate some winning games. Train a model that mimicks its behavior. Compare the performances."
   ]
  },
  {
   "cell_type": "markdown",
   "metadata": {},
   "source": []
  },
  {
   "cell_type": "markdown",
   "metadata": {},
   "source": [
    "***"
   ]
  }
 ],
 "metadata": {
  "kernelspec": {
   "display_name": "Python 3",
   "language": "python",
   "name": "python3"
  },
  "language_info": {
   "codemirror_mode": {
    "name": "ipython",
    "version": 3
   },
   "file_extension": ".py",
   "mimetype": "text/x-python",
   "name": "python",
   "nbconvert_exporter": "python",
   "pygments_lexer": "ipython3",
   "version": "3.6.8"
  }
 },
 "nbformat": 4,
 "nbformat_minor": 2
}
