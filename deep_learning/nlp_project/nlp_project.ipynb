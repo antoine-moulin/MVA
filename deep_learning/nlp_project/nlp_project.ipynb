{
 "cells": [
  {
   "cell_type": "markdown",
   "metadata": {},
   "source": [
    "# Deep Learning for NLP - Project"
   ]
  },
  {
   "cell_type": "markdown",
   "metadata": {},
   "source": [
    "RULES:\n",
    "\n",
    "* Do not create any additional cell\n",
    "\n",
    "* Fill in the blanks\n",
    "\n",
    "* All cells should be runnable (modulo trivial compatibility bugs that we'd fix)\n",
    "\n",
    "* 4 / 20 points will be allocated to the clarity of your code\n",
    "\n",
    "* Efficient code will have a bonus\n",
    "\n",
    "DELIVERABLE:\n",
    "\n",
    "* the pdf with your answers\n",
    "* this notebook\n",
    "* the predictions of the SST test set\n",
    "\n",
    "DO NOT INCLUDE THE DATASETS IN THE DELIVERABLE.."
   ]
  },
  {
   "cell_type": "code",
   "execution_count": 1,
   "metadata": {
    "jupyter": {
     "outputs_hidden": false
    }
   },
   "outputs": [],
   "source": [
    "# Python 3.6 or above is required\n",
    "from collections import defaultdict\n",
    "import gzip\n",
    "import numpy as np\n",
    "from pathlib import Path\n",
    "from urllib.request import urlretrieve"
   ]
  },
  {
   "cell_type": "code",
   "execution_count": 2,
   "metadata": {},
   "outputs": [],
   "source": [
    "PATH_TO_DATA = Path('data/')\n",
    "# Download word vectors, might take a few minutes and about ~3GB of storage space\n",
    "en_embeddings_path = PATH_TO_DATA / 'cc.en.300.vec.gz'\n",
    "if not en_embeddings_path.exists():\n",
    "    urlretrieve('https://dl.fbaipublicfiles.com/fasttext/vectors-crawl/cc.en.300.vec.gz', en_embeddings_path)\n",
    "fr_embeddings_path = PATH_TO_DATA / 'cc.fr.300.vec.gz'\n",
    "if not fr_embeddings_path.exists():\n",
    "    urlretrieve('https://dl.fbaipublicfiles.com/fasttext/vectors-crawl/cc.fr.300.vec.gz', fr_embeddings_path)"
   ]
  },
  {
   "cell_type": "markdown",
   "metadata": {},
   "source": [
    "# 1) Monolingual (English) word embeddings "
   ]
  },
  {
   "cell_type": "code",
   "execution_count": 3,
   "metadata": {},
   "outputs": [],
   "source": [
    "class Word2Vec():\n",
    "\n",
    "    def __init__(self, filepath, vocab_size=50000):\n",
    "        self.words, self.embeddings = self.load_wordvec(filepath, vocab_size)\n",
    "        # Mappings for O(1) retrieval:\n",
    "        self.word2id = {word: idx for idx, word in enumerate(self.words)}\n",
    "        self.id2word = {idx: word for idx, word in enumerate(self.words)}\n",
    "    \n",
    "    def load_wordvec(self, filepath, vocab_size):\n",
    "        assert str(filepath).endswith('.gz')\n",
    "        words = []\n",
    "        embeddings = []\n",
    "        with gzip.open(filepath, 'rt', encoding='utf8') as f:  # Read compressed file directly\n",
    "            next(f)  # Skip header\n",
    "            for i, line in enumerate(f):\n",
    "                word, vec = line.split(' ', 1)\n",
    "                words.append(word)\n",
    "                embeddings.append(np.fromstring(vec, sep=' '))\n",
    "                if i == (vocab_size - 1):\n",
    "                    break\n",
    "        print('Loaded %s pretrained word vectors' % (len(words)))\n",
    "        return words, np.vstack(embeddings)\n",
    "    \n",
    "    def encode(self, word):\n",
    "        # Returns the 1D embedding of a given word\n",
    "        return self.embeddings[self.word2id[word]]\n",
    "    \n",
    "    def score(self, word1, word2):\n",
    "        # Return the cosine similarity: use np.dot & np.linalg.norm\n",
    "        w1, w2 = self.encode(word1), self.encode(word2)\n",
    "        return w1 @ w2 / (np.linalg.norm(w1) * np.linalg.norm(w2))\n",
    "    \n",
    "    def most_similar(self, word, k=5):\n",
    "        # Returns the k most similar words: self.score & np.argsort\n",
    "        similarities = list(map(lambda x: (x, self.score(word, x)), self.words))\n",
    "        top_k = sorted(similarities, key=lambda x: x[1], reverse=True)[1:k+1]\n",
    "        \n",
    "        return top_k"
   ]
  },
  {
   "cell_type": "code",
   "execution_count": 4,
   "metadata": {
    "jupyter": {
     "outputs_hidden": false
    }
   },
   "outputs": [
    {
     "name": "stdout",
     "output_type": "stream",
     "text": [
      "Loaded 50000 pretrained word vectors\n",
      "\n",
      "A few word similarities:\n",
      "cat tree 0.26449754661654756\n",
      "cat dog 0.7078641298542564\n",
      "cat pet 0.6753313359976382\n",
      "Paris France 0.6892958925806543\n",
      "Paris Germany 0.4051242286737549\n",
      "Paris baguette 0.29399958277802224\n",
      "Paris donut -0.006588507552348003\n",
      "\n",
      "k most similar words:\n",
      "cat\n",
      "[('cats', 0.8350197226384365),\n",
      " ('kitty', 0.8233399968187781),\n",
      " ('kitten', 0.8082815099576771),\n",
      " ('feline', 0.7533785551165829),\n",
      " ('dog', 0.7078641298542564)]\n",
      "dog\n",
      "[('dogs', 0.8463550976711899),\n",
      " ('puppy', 0.7873139069340451),\n",
      " ('pup', 0.7692395715695702),\n",
      " ('canine', 0.7435156195681728),\n",
      " ('pet', 0.7333897457373171)]\n",
      "dogs\n",
      "[('dog', 0.8463550976711899),\n",
      " ('cats', 0.7548146151613192),\n",
      " ('puppies', 0.7393920521595102),\n",
      " ('Dogs', 0.7033621979701274),\n",
      " ('pets', 0.6778314127464548)]\n",
      "Paris\n",
      "[('France', 0.6892958925806543),\n",
      " ('Parisian', 0.6863845504588244),\n",
      " ('Marseille', 0.6731069551350876),\n",
      " ('Brussels', 0.6674311464893566),\n",
      " ('Strasbourg', 0.6576519658835766)]\n",
      "Germany\n",
      "[('Austria', 0.7433367764745998),\n",
      " ('Europe', 0.7044229579623618),\n",
      " ('Berlin', 0.6951382129957144),\n",
      " ('Hamburg', 0.6891282601374347),\n",
      " ('Bavaria', 0.6821346540462115)]\n"
     ]
    }
   ],
   "source": [
    "from pprint import pprint\n",
    "\n",
    "word2vec = Word2Vec(en_embeddings_path, vocab_size=50000)\n",
    "\n",
    "# You will be evaluated on the output of the following:\n",
    "print('\\nA few word similarities:')\n",
    "for word1, word2 in zip(('cat', 'cat', 'cat', 'Paris', 'Paris', 'Paris', 'Paris'), \n",
    "                        ('tree', 'dog', 'pet', 'France', 'Germany', 'baguette', 'donut')):\n",
    "    print(word1, word2, word2vec.score(word1, word2))\n",
    "\n",
    "print('\\nk most similar words:')\n",
    "for word in ['cat', 'dog', 'dogs', 'Paris', 'Germany']:\n",
    "    print(word)\n",
    "    pprint(word2vec.most_similar(word))"
   ]
  },
  {
   "cell_type": "code",
   "execution_count": 5,
   "metadata": {
    "jupyter": {
     "outputs_hidden": false
    }
   },
   "outputs": [],
   "source": [
    "class BagOfWords():\n",
    "    \n",
    "    def __init__(self, word2vec):\n",
    "        self.word2vec = word2vec\n",
    "        self.idf = dict()\n",
    "    \n",
    "    def build_idf(self, sentences):\n",
    "        # build the idf dictionary: associate each word to its idf value\n",
    "        # -> idf = {word: idf_value, ...}\n",
    "        for sentence in sentences:\n",
    "            words = set(sentence.split(' '))  # to count words only once in the sentence\n",
    "            for word in words:\n",
    "                if word in self.idf.keys():\n",
    "                    self.idf[word] += 1\n",
    "                else:\n",
    "                    self.idf[word] = 1  # create the key if it does not already exist\n",
    "        \n",
    "        n_sentences = len(sentences)\n",
    "        for word in self.idf.keys():\n",
    "            self.idf[word] = np.log(n_sentences / self.idf[word])\n",
    "        \n",
    "        return self.idf\n",
    "    \n",
    "    def encode(self, sentence, idf=None):\n",
    "        # Takes a sentence as input, returns the sentence embedding\n",
    "        words = self.word2vec.words\n",
    "        sentence_w = [w for w in sentence.split(' ') if w in words]\n",
    "        if idf is None:\n",
    "            # mean of word vectors\n",
    "            sentence_embedding = np.vstack([\n",
    "                self.word2vec.embeddings[self.word2vec.word2id[word]] for word in sentence_w\n",
    "            ])\n",
    "            sentence_embedding = np.mean(sentence_embedding, axis=0)\n",
    "        else:\n",
    "            # idf-weighted mean of word vectors\n",
    "            sentence_embedding = np.vstack([\n",
    "                idf[word] * self.word2vec.embeddings[self.word2vec.word2id[word]] for word in sentence_w\n",
    "            ])\n",
    "            sentence_embedding = np.sum(sentence_embedding, axis=0)\n",
    "        \n",
    "        return sentence_embedding\n",
    "\n",
    "    def score(self, sentence1, sentence2, idf=None):\n",
    "        # cosine similarity: use np.dot & np.linalg.norm \n",
    "        s1, s2 = self.encode(sentence1, idf), self.encode(sentence2, idf)\n",
    "        return s1 @ s2 / (np.linalg.norm(s1) * np.linalg.norm(s2))\n",
    "    \n",
    "    def most_similar(self, sentence, sentences, idf=None, k=5):\n",
    "        # Return most similar sentences\n",
    "        keys = [(x, self.score(x, sentence, idf)) for x in sentences]\n",
    "        top_k = sorted(keys, key=lambda x: x[1], reverse=True)\n",
    "        top_k = list(map(lambda x: x[0], top_k))[1:k+1]\n",
    "        \n",
    "        return top_k"
   ]
  },
  {
   "cell_type": "code",
   "execution_count": 6,
   "metadata": {
    "jupyter": {
     "outputs_hidden": false
    }
   },
   "outputs": [
    {
     "name": "stdout",
     "output_type": "stream",
     "text": [
      "Loaded 50000 pretrained word vectors\n",
      "\n",
      "\tAverage of word embeddings\n",
      "1 man singing and 1 man playing a saxophone in a concert . \n",
      "10 people venture out to go crosscountry skiing . \n",
      "0.7065220648251475\n",
      "1 smiling african american boy . \n",
      "1) 2 woman dancing while pointing . \n",
      "2) 5 women and 1 man are smiling for the camera . \n",
      "3) a small boy following 4 geese . \n",
      "4) 2 female babies eating chips . \n",
      "5) a young boy and 2 girls open christmas presents . \n",
      "\n",
      "\tidf weighted average of word embeddings\n",
      "1 man singing and 1 man playing a saxophone in a concert . \n",
      "10 people venture out to go crosscountry skiing . \n",
      "0.6400799939346387\n",
      "a young boy and 2 girls open christmas presents . \n",
      "1) 3 girls and one boy playing in the street . \n",
      "2) a group of friends , 3 boys and 2 girls , jump in the air holding hands for a photo . \n",
      "3) five children , 3 boys and 2 girls playing soccer in a grass field . \n",
      "4) 2 young indian girls dressed in colorful dresses walking . \n",
      "5) 2 kids holding hands and smiling . \n"
     ]
    }
   ],
   "source": [
    "word2vec = Word2Vec(en_embeddings_path, vocab_size=50000)\n",
    "sentence2vec = BagOfWords(word2vec)\n",
    "\n",
    "# Load sentences in \"PATH_TO_DATA/sentences.txt\"\n",
    "filepath = PATH_TO_DATA / 'sentences.txt'\n",
    "with open(filepath, 'r') as f:\n",
    "    sentences = [line.strip('\\n') for line in f]\n",
    "\n",
    "\n",
    "# You will be evaluated on the output of the following:\n",
    "print('\\n\\tAverage of word embeddings')\n",
    "sentence1 = sentences[7]\n",
    "sentence2 = sentences[13]\n",
    "print(sentence1)\n",
    "print(sentence2)\n",
    "print(sentence2vec.score(sentence1, sentence2))\n",
    "sentence = sentences[10]\n",
    "similar_sentences = sentence2vec.most_similar(sentence, sentences)  # BagOfWords-mean\n",
    "print(sentence)\n",
    "for i, sentence in enumerate(similar_sentences):\n",
    "    print(str(i+1) + ')', sentence)\n",
    "\n",
    "# Build idf scores for each word\n",
    "idf = sentence2vec.build_idf(sentences)\n",
    "\n",
    "print('\\n\\tidf weighted average of word embeddings')\n",
    "print(sentence1)\n",
    "print(sentence2)\n",
    "print(sentence2vec.score(sentence1, sentence2, idf))\n",
    "similar_sentences = sentence2vec.most_similar(sentence, sentences, idf)  # BagOfWords-idf\n",
    "print(sentence)\n",
    "for i, sentence in enumerate(similar_sentences):\n",
    "    print(str(i+1) + ')', sentence)"
   ]
  },
  {
   "cell_type": "markdown",
   "metadata": {},
   "source": [
    "# 2) Multilingual (English-French) word embeddings"
   ]
  },
  {
   "cell_type": "markdown",
   "metadata": {},
   "source": [
    "Let's consider a bilingual dictionary of size V_a (e.g French-English).\n",
    "\n",
    "Let's define **X** and **Y** the **French** and **English** matrices.\n",
    "\n",
    "They contain the embeddings associated to the words in the bilingual dictionary.\n",
    "\n",
    "We want to find a **mapping W** that will project the source word space (e.g French) to the target word space (e.g English).\n",
    "\n",
    "Procrustes : **W\\* = argmin || W.X - Y ||  s.t  W^T.W = Id**\n",
    "has a closed form solution:\n",
    "**W = U.V^T  where  U.Sig.V^T = SVD(Y.X^T)**\n",
    "\n",
    "In what follows, you are asked to: "
   ]
  },
  {
   "cell_type": "code",
   "execution_count": 7,
   "metadata": {},
   "outputs": [],
   "source": [
    "class MultilingualWordAligner:\n",
    "    \n",
    "    def __init__(self, fr_word2vec, en_word2vec):\n",
    "        self.fr_word2vec = fr_word2vec\n",
    "        self.en_word2vec = en_word2vec\n",
    "        self.aligned_fr_embeddings = self.get_aligned_fr_embeddings()\n",
    "        \n",
    "    def get_aligned_fr_embeddings(self):\n",
    "        # 1 - Get words that appear in both vocabs (= identical character strings)\n",
    "        #     Use it to create the matrix X (emb_dim, vocab_size) and Y (emb_dim, vocab_size) (of embeddings for these words)\n",
    "        common_words = list(set(self.fr_word2vec.words) & set(self.en_word2vec.words))\n",
    "        X = np.vstack(\n",
    "            [self.fr_word2vec.encode(word) for word in common_words]\n",
    "        ).T\n",
    "        Y = np.vstack(\n",
    "            [self.en_word2vec.encode(word) for word in common_words]\n",
    "        ).T\n",
    "        \n",
    "        assert X.shape[0] == 300 and Y.shape[0] == 300\n",
    "        \n",
    "        # 2 - Solve the Procrustes using the numpy package and: np.linalg.svd() and get the optimal W\n",
    "        #     Now self.fr_word2vec.embeddings * W.transpose() is in the same space as en_word2vec.embeddings\n",
    "        U, _, Vt = np.linalg.svd(Y @ X.T)\n",
    "        W = U @ Vt\n",
    "        \n",
    "        assert W.shape == (300, 300)\n",
    "        return self.fr_word2vec.embeddings @ W.T\n",
    "        \n",
    "    def get_closest_english_words(self, fr_word, k=3):\n",
    "        # 3 - Return the top k English nearest neighbors to the input French word\n",
    "        def cos_similarity(x, y):\n",
    "            return x @ y / (np.linalg.norm(x) * np.linalg.norm(y))\n",
    "        \n",
    "        fr_word_emb = self.aligned_fr_embeddings[self.fr_word2vec.word2id[fr_word]]\n",
    "        ranking = sorted(\n",
    "            [(self.en_word2vec.id2word[k], cos_similarity(fr_word_emb, en_emb))\n",
    "             for k, en_emb in enumerate(self.en_word2vec.embeddings)],\n",
    "            key=lambda x: x[1],\n",
    "            reverse=True\n",
    "        )\n",
    "        top_k = list(map(lambda x: x[0], ranking))[:k]\n",
    "        \n",
    "        return top_k"
   ]
  },
  {
   "cell_type": "code",
   "execution_count": 8,
   "metadata": {},
   "outputs": [
    {
     "name": "stdout",
     "output_type": "stream",
     "text": [
      "Loaded 50000 pretrained word vectors\n",
      "Loaded 50000 pretrained word vectors\n",
      "----------\n",
      "fr: \"chat\"\n",
      "en: \"cat\"\n",
      "en: \"kitten\"\n",
      "en: \"kitty\"\n",
      "----------\n",
      "fr: \"chien\"\n",
      "en: \"dog\"\n",
      "en: \"cat\"\n",
      "en: \"pet\"\n",
      "----------\n",
      "fr: \"voiture\"\n",
      "en: \"car\"\n",
      "en: \"vehicle\"\n",
      "en: \"automobile\"\n",
      "----------\n",
      "fr: \"zut\"\n",
      "en: \"oops\"\n",
      "en: \"Ah\"\n",
      "en: \"ah\"\n"
     ]
    }
   ],
   "source": [
    "fr_word2vec = Word2Vec(fr_embeddings_path, vocab_size=50000)\n",
    "en_word2vec = Word2Vec(en_embeddings_path, vocab_size=50000)\n",
    "multilingual_word_aligner = MultilingualWordAligner(fr_word2vec, en_word2vec)\n",
    "\n",
    "# You will be evaluated on the output of the following:\n",
    "fr_words = ['chat', 'chien', 'voiture', 'zut']\n",
    "k = 3\n",
    "for fr_word in fr_words:\n",
    "    print('-' * 10)\n",
    "    print(f'fr: \"{fr_word}\"')\n",
    "    en_words = multilingual_word_aligner.get_closest_english_words(fr_word, k=3)\n",
    "    for en_word in en_words:\n",
    "        print(f'en: \"{en_word}\"')"
   ]
  },
  {
   "cell_type": "markdown",
   "metadata": {},
   "source": [
    "If you want to dive deeper on this subject: https://github.com/facebookresearch/MUSE"
   ]
  },
  {
   "cell_type": "markdown",
   "metadata": {},
   "source": [
    "# 3) Sentence classification with BoV and scikit-learn"
   ]
  },
  {
   "cell_type": "code",
   "execution_count": 9,
   "metadata": {},
   "outputs": [],
   "source": [
    "# 1 - Load train/dev/test of Stanford Sentiment TreeBank (SST)\n",
    "#     (https://nlp.stanford.edu/~socherr/EMNLP2013_RNTN.pdf)\n",
    "train_filepath = PATH_TO_DATA / 'SST/stsa.fine.train'\n",
    "dev_filepath = PATH_TO_DATA / 'SST/stsa.fine.dev'\n",
    "test_filepath = PATH_TO_DATA / 'SST/stsa.fine.test.X'\n",
    "\n",
    "def load_data(filepath, test_set=False):\n",
    "    if not test_set:\n",
    "        with open(filepath, 'r') as f:\n",
    "            dataset = map(lambda x: x.split(' ', 1), f.readlines())\n",
    "            y, X = zip(*dataset)\n",
    "\n",
    "        X = [sentence[:-1] for sentence in list(X)]  # remove the '\\n'\n",
    "        y = np.array(list(y)).astype(int)\n",
    "\n",
    "        return X, y\n",
    "    \n",
    "    if test_set:\n",
    "        with open(filepath) as f:\n",
    "            X = [sentence[:-1] for sentence in f.readlines()]  # remove the '\\n'\n",
    "        \n",
    "        return X\n",
    "\n",
    "X_train, y_train = load_data(train_filepath)\n",
    "X_dev, y_dev = load_data(dev_filepath)\n",
    "X_test = load_data(test_filepath, test_set=True)"
   ]
  },
  {
   "cell_type": "code",
   "execution_count": 10,
   "metadata": {},
   "outputs": [
    {
     "name": "stderr",
     "output_type": "stream",
     "text": [
      "C:\\Users\\User\\Anaconda3\\envs\\tfenv\\lib\\site-packages\\ipykernel_launcher.py:20: RuntimeWarning: divide by zero encountered in double_scalars\n",
      "C:\\Users\\User\\Anaconda3\\envs\\tfenv\\lib\\site-packages\\ipykernel_launcher.py:20: RuntimeWarning: divide by zero encountered in log\n"
     ]
    }
   ],
   "source": [
    "# 2 - Encode sentences with the BoV model above\n",
    "idf = sentence2vec.build_idf(X_train)\n",
    "X_train_e = np.vstack(\n",
    "    [sentence2vec.encode(sentence, idf) for sentence in X_train]\n",
    ")\n",
    "idf = sentence2vec.build_idf(X_dev)\n",
    "X_dev_e = np.vstack(\n",
    "    [sentence2vec.encode(sentence, idf) for sentence in X_dev]\n",
    ")\n",
    "idf = sentence2vec.build_idf(X_test)\n",
    "X_test_e = np.vstack(\n",
    "    [sentence2vec.encode(sentence, idf) for sentence in X_test]\n",
    ")"
   ]
  },
  {
   "cell_type": "code",
   "execution_count": 11,
   "metadata": {},
   "outputs": [
    {
     "name": "stdout",
     "output_type": "stream",
     "text": [
      "C: 0.01, train score: 0.4829119850187266, dev score: 0.4187102633969119\n",
      "C: 0.1, train score: 0.48314606741573035, dev score: 0.4150772025431426\n",
      "C: 0.5, train score: 0.48220973782771537, dev score: 0.4196185286103542\n",
      "C: 0.7, train score: 0.48232677902621723, dev score: 0.4196185286103542\n",
      "C: 1, train score: 0.48197565543071164, dev score: 0.42052679382379654\n",
      "C: 2, train score: 0.4820926966292135, dev score: 0.4187102633969119\n",
      "C: 5, train score: 0.48232677902621723, dev score: 0.4196185286103542\n",
      "C: 10, train score: 0.4818586142322097, dev score: 0.4196185286103542\n",
      "C: 20, train score: 0.48197565543071164, dev score: 0.4196185286103542\n",
      "\n",
      "On the dev set, the best score is 0.42052679382379654, obtained with C = 1. The train accuracy is: 0.48197565543071164\n"
     ]
    }
   ],
   "source": [
    "# 3 - Learn Logistic Regression on top of sentence embeddings using scikit-learn\n",
    "#     (consider tuning the L2 regularization on the dev set)\n",
    "#     In the paper, the accuracy for average of word vectors is 32.7%\n",
    "#     (VecAvg, table 1, https://nlp.stanford.edu/~socherr/EMNLP2013_RNTN.pdf)\n",
    "\n",
    "from sklearn.linear_model import LogisticRegression\n",
    "\n",
    "C_values = [1e-2, 1e-1, 5e-1, 7e-1, 1, 2, 5, 10, 20]\n",
    "log_reg = None\n",
    "dev_score = 0\n",
    "\n",
    "for C in C_values:\n",
    "    clf = LogisticRegression(solver='lbfgs', multi_class='auto', C=C, max_iter=1000).fit(X_train_e, y_train)\n",
    "    d_score = clf.score(X_dev_e, y_dev)\n",
    "    if d_score > dev_score:\n",
    "        dev_score = d_score\n",
    "        log_reg = clf\n",
    "\n",
    "    print('C: {}, train score: {}, dev score: {}'.format(C, clf.score(X_train_e, y_train), d_score))\n",
    "        \n",
    "print('\\nOn the dev set, the best score is {}, obtained with C = {}. The train accuracy is: {}'.format(dev_score, log_reg.C, log_reg.score(X_train_e, y_train)))"
   ]
  },
  {
   "cell_type": "code",
   "execution_count": 12,
   "metadata": {},
   "outputs": [],
   "source": [
    "# 4 - Produce 2210 predictions for the test set (in the same order). One line = one prediction (=0,1,2,3,4).\n",
    "#     Attach the output file \"logreg_bov_y_test_sst.txt\" to your deliverable.\n",
    "#     You will be evaluated on the results of the test set.\n",
    "\n",
    "y_pred = log_reg.predict(X_test_e).astype(int)\n",
    "np.savetxt('logreg_bov_y_test_sst.txt', y_pred, fmt='%.d')"
   ]
  },
  {
   "cell_type": "code",
   "execution_count": 13,
   "metadata": {},
   "outputs": [
    {
     "name": "stdout",
     "output_type": "stream",
     "text": [
      "On the dev set, the score is: 0.4296094459582198\n"
     ]
    }
   ],
   "source": [
    "# BONUS!\n",
    "# 5 - Try to improve performance with another classifier\n",
    "#     Attach the output file \"XXX_bov_y_test_sst.txt\" to your deliverable (where XXX = the name of the classifier)\n",
    "\n",
    "from sklearn.neural_network import MLPClassifier\n",
    "\n",
    "clf = MLPClassifier(hidden_layer_sizes=(300,),\n",
    "                    activation='tanh',\n",
    "                    alpha=2e-4,\n",
    "                    batch_size=64,\n",
    "                    learning_rate_init=1e-3,\n",
    "                    early_stopping=True,\n",
    "                    random_state=41)\n",
    "clf.fit(X_train_e, y_train)\n",
    "print('On the dev set, the score is: {}'.format(clf.score(X_dev_e, y_dev)))\n",
    "\n",
    "y_pred = clf.predict(X_test_e)\n",
    "np.savetxt('MLP_bov_y_test_sst.txt', y_pred, fmt='%.d')"
   ]
  },
  {
   "cell_type": "markdown",
   "metadata": {},
   "source": [
    "# 4) Sentence classification with LSTMs in Keras"
   ]
  },
  {
   "cell_type": "markdown",
   "metadata": {},
   "source": [
    "## 4.1 - Preprocessing"
   ]
  },
  {
   "cell_type": "code",
   "execution_count": 14,
   "metadata": {
    "jupyter": {
     "outputs_hidden": false
    }
   },
   "outputs": [],
   "source": [
    "import tensorflow as tf"
   ]
  },
  {
   "cell_type": "code",
   "execution_count": 15,
   "metadata": {},
   "outputs": [
    {
     "name": "stderr",
     "output_type": "stream",
     "text": [
      "Using TensorFlow backend.\n"
     ]
    }
   ],
   "source": [
    "# 1 - Using the same dataset, transform text to integers using tf.keras.preprocessing.text.one_hot function\n",
    "#     https://keras.io/preprocessing/text/\n",
    "\n",
    "from keras.preprocessing.text import one_hot\n",
    "\n",
    "n_words = len(word2vec.words)\n",
    "X_train_pp = [one_hot(sentence, n_words) for sentence in X_train]\n",
    "X_dev_pp = [one_hot(sentence, n_words) for sentence in X_dev]\n",
    "X_test_pp = [one_hot(sentence, n_words) for sentence in X_test]"
   ]
  },
  {
   "cell_type": "markdown",
   "metadata": {},
   "source": [
    "**Padding input data**\n",
    "\n",
    "Models in Keras (and elsewhere) take batches of sentences of the same length as input. It is because Deep Learning framework have been designed to handle well Tensors, which are particularly suited for fast computation on the GPU.\n",
    "\n",
    "Since sentences have different sizes, we \"pad\" them. That is, we add dummy \"padding\" tokens so that they all have the same length.\n",
    "\n",
    "The input to a Keras model thus has this size : (batchsize, maxseqlen) where maxseqlen is the maximum length of a sentence in the batch."
   ]
  },
  {
   "cell_type": "code",
   "execution_count": 16,
   "metadata": {},
   "outputs": [],
   "source": [
    "# 2 - Pad your sequences using tf.keras.preprocessing.sequence.pad_sequences\n",
    "#     https://keras.io/preprocessing/sequence/\n",
    "\n",
    "from keras.preprocessing.sequence import pad_sequences\n",
    "\n",
    "X_train_pad = pad_sequences(X_train_pp)\n",
    "X_dev_pad = pad_sequences(X_dev_pp)\n",
    "X_test_pad = pad_sequences(X_test_pp)"
   ]
  },
  {
   "cell_type": "markdown",
   "metadata": {},
   "source": [
    "## 4.2 - Design and train your model"
   ]
  },
  {
   "cell_type": "code",
   "execution_count": 24,
   "metadata": {},
   "outputs": [],
   "source": [
    "# 3 - Design your encoder + classifier using tensorflow.keras.layers\n",
    "#     In Keras, Torch and other deep learning framework, we create a \"container\" which is the Sequential() module.\n",
    "#     Then we add components to this container : the lookup-table, the LSTM, the classifier etc.\n",
    "#     All of these components are contained in the Sequential() and are trained together.\n",
    "#     Note that the embedding layer is initialized randomly and does not take advantage of pre-trained word embeddings.\n",
    "\n",
    "\n",
    "# ADAPT CODE BELOW\n",
    "\n",
    "\n",
    "from tensorflow.keras.models import Sequential\n",
    "from tensorflow.keras.layers import Embedding, LSTM, Dense, Activation\n",
    "\n",
    "embed_dim  = 100  # word embedding dimension\n",
    "nhid       = 100  # number of hidden units in the LSTM\n",
    "vocab_size = 50000  # size of the vocabulary\n",
    "n_classes  = 5\n",
    "\n",
    "model = Sequential()\n",
    "model.add(Embedding(vocab_size, embed_dim))\n",
    "model.add(LSTM(nhid, dropout=0.4, recurrent_dropout=0.4))\n",
    "model.add(Dense(n_classes, activation='softmax'))"
   ]
  },
  {
   "cell_type": "code",
   "execution_count": 25,
   "metadata": {
    "jupyter": {
     "outputs_hidden": false
    }
   },
   "outputs": [
    {
     "name": "stdout",
     "output_type": "stream",
     "text": [
      "_________________________________________________________________\n",
      "Layer (type)                 Output Shape              Param #   \n",
      "=================================================================\n",
      "embedding_2 (Embedding)      (None, None, 100)         5000000   \n",
      "_________________________________________________________________\n",
      "lstm_2 (LSTM)                (None, 100)               80400     \n",
      "_________________________________________________________________\n",
      "dense_2 (Dense)              (None, 5)                 505       \n",
      "=================================================================\n",
      "Total params: 5,080,905\n",
      "Trainable params: 5,080,905\n",
      "Non-trainable params: 0\n",
      "_________________________________________________________________\n",
      "None\n"
     ]
    }
   ],
   "source": [
    "# 4 - Define your loss/optimizer/metrics\n",
    "\n",
    "# MODIFY CODE BELOW\n",
    "\n",
    "loss_classif     =  'categorical_crossentropy'  # find the right loss for multi-class classification\n",
    "optimizer        =  'adam'  # find the right optimizer\n",
    "metrics_classif  =  ['accuracy']\n",
    "\n",
    "# Observe how easy (but blackboxed) this is in Keras\n",
    "model.compile(loss=loss_classif,\n",
    "              optimizer=optimizer,\n",
    "              metrics=metrics_classif)\n",
    "print(model.summary())"
   ]
  },
  {
   "cell_type": "code",
   "execution_count": 26,
   "metadata": {},
   "outputs": [
    {
     "name": "stdout",
     "output_type": "stream",
     "text": [
      "Train on 8544 samples, validate on 1101 samples\n",
      "Epoch 1/5\n",
      "8544/8544 [==============================] - 18s 2ms/step - loss: 1.5656 - acc: 0.2883 - val_loss: 1.5247 - val_acc: 0.3460\n",
      "Epoch 2/5\n",
      "8544/8544 [==============================] - 16s 2ms/step - loss: 1.3730 - acc: 0.4163 - val_loss: 1.3873 - val_acc: 0.3906\n",
      "Epoch 3/5\n",
      "8544/8544 [==============================] - 16s 2ms/step - loss: 1.0587 - acc: 0.5596 - val_loss: 1.4477 - val_acc: 0.3742\n",
      "Epoch 4/5\n",
      "8544/8544 [==============================] - 15s 2ms/step - loss: 0.7881 - acc: 0.7038 - val_loss: 1.6237 - val_acc: 0.3751\n"
     ]
    },
    {
     "data": {
      "image/png": "[encoded data removed]",
      "text/plain": [
       "<Figure size 432x288 with 1 Axes>"
      ]
     },
     "metadata": {
      "needs_background": "light"
     },
     "output_type": "display_data"
    },
    {
     "data": {
      "image/png": "[encoded data removed]",
      "text/plain": [
       "<Figure size 432x288 with 1 Axes>"
      ]
     },
     "metadata": {
      "needs_background": "light"
     },
     "output_type": "display_data"
    }
   ],
   "source": [
    "# 5 - Train your model and find the best hyperparameters for your dev set\n",
    "#     you will be evaluated on the quality of your predictions on the test set\n",
    "#     Keras expects y_train and y_dev to be one-hot encodings of the labels, i.e. with shape=(n_samples, 5)\n",
    "\n",
    "\n",
    "# ADAPT CODE BELOW\n",
    "import matplotlib.pyplot as plt\n",
    "\n",
    "from numpy.random import seed\n",
    "seed(1)\n",
    "\n",
    "from keras.utils import to_categorical\n",
    "from keras.callbacks import EarlyStopping, ModelCheckpoint\n",
    "\n",
    "# training parameters\n",
    "bs = 64\n",
    "n_epochs = 5\n",
    "cb = [\n",
    "    EarlyStopping(monitor='val_acc', patience=2, verbose=0),\n",
    "    ModelCheckpoint(filepath='weights.hdf5', verbose=0, save_best_only=True)\n",
    "]\n",
    "\n",
    "# datasets\n",
    "x_train = X_train_pad\n",
    "x_dev = X_dev_pad\n",
    "\n",
    "_, y_train = load_data(train_filepath)\n",
    "_, y_dev = load_data(dev_filepath)\n",
    "y_train = to_categorical(y_train)\n",
    "y_dev = to_categorical(y_dev)\n",
    "\n",
    "# training\n",
    "history = model.fit(x_train,\n",
    "                    y_train,\n",
    "                    batch_size=bs,\n",
    "                    epochs=n_epochs,\n",
    "                    validation_data=(x_dev, y_dev), \n",
    "                    callbacks=cb)\n",
    "\n",
    "# plot loss\n",
    "plt.figure()\n",
    "plt.title('Loss')\n",
    "plt.xlabel('Epoch')\n",
    "plt.ylabel('Loss')\n",
    "\n",
    "plt.plot(history.history['loss'], label='Train loss')\n",
    "plt.plot(history.history['val_loss'], label='Dev loss')\n",
    "\n",
    "plt.legend(loc='best')\n",
    "plt.show()\n",
    "\n",
    "# plot accuracy\n",
    "plt.figure()\n",
    "plt.title('Accuracy')\n",
    "plt.xlabel('Epoch')\n",
    "plt.ylabel('Accuracy')\n",
    "\n",
    "plt.plot(history.history['acc'], label='Train accuracy')\n",
    "plt.plot(history.history['val_acc'], label='Dev accuracy')\n",
    "\n",
    "plt.legend(loc='best')\n",
    "plt.show()"
   ]
  },
  {
   "cell_type": "code",
   "execution_count": 27,
   "metadata": {},
   "outputs": [],
   "source": [
    "# 6 - Generate your predictions on the test set using model.predict(x_test)\n",
    "#     https://keras.io/models/model/\n",
    "#     Log your predictions in a file (one line = one integer: 0,1,2,3,4)\n",
    "#     Attach the output file \"logreg_lstm_y_test_sst.txt\" to your deliverable.\n",
    "\n",
    "# TYPE CODE HERE\n",
    "model.load_weights('weights.hdf5')\n",
    "np.savetxt('logreg_lstm_y_test_sst.txt', model.predict(X_test_pad).argmax(axis=1), fmt='%.d')"
   ]
  },
  {
   "cell_type": "markdown",
   "metadata": {},
   "source": [
    "## 4.3 - innovate !"
   ]
  },
  {
   "cell_type": "code",
   "execution_count": 30,
   "metadata": {},
   "outputs": [
    {
     "name": "stdout",
     "output_type": "stream",
     "text": [
      "Train on 8544 samples, validate on 1101 samples\n",
      "Epoch 1/5\n",
      "8544/8544 [==============================] - 15s 2ms/step - loss: 1.5692 - acc: 0.2755 - val_loss: 1.5562 - val_acc: 0.3315\n",
      "Epoch 2/5\n",
      "8544/8544 [==============================] - 13s 1ms/step - loss: 1.4380 - acc: 0.3708 - val_loss: 1.3775 - val_acc: 0.3878\n",
      "Epoch 3/5\n",
      "8544/8544 [==============================] - 12s 1ms/step - loss: 1.1861 - acc: 0.4812 - val_loss: 1.3739 - val_acc: 0.3951\n",
      "Epoch 4/5\n",
      "8544/8544 [==============================] - 11s 1ms/step - loss: 0.9722 - acc: 0.5918 - val_loss: 1.4932 - val_acc: 0.3787\n",
      "Epoch 5/5\n",
      "8544/8544 [==============================] - 11s 1ms/step - loss: 0.7863 - acc: 0.6802 - val_loss: 1.6874 - val_acc: 0.3442\n"
     ]
    },
    {
     "data": {
      "image/png": "[encoded data removed]",
      "text/plain": [
       "<Figure size 432x288 with 1 Axes>"
      ]
     },
     "metadata": {
      "needs_background": "light"
     },
     "output_type": "display_data"
    },
    {
     "data": {
      "image/png": "[encoded data removed]",
      "text/plain": [
       "<Figure size 432x288 with 1 Axes>"
      ]
     },
     "metadata": {
      "needs_background": "light"
     },
     "output_type": "display_data"
    }
   ],
   "source": [
    "# 7 - Open question: find a model that is better on your dev set\n",
    "#     (e.g: use a 1D ConvNet, use a better classifier, pretrain your lookup tables ..)\n",
    "#     you will get point if the results on the test set are better: be careful of not overfitting your dev set too much..\n",
    "#     Attach the output file \"XXX_XXX_y_test_sst.txt\" to your deliverable.\n",
    "\n",
    "# TYPE CODE HERE\n",
    "seed(1)\n",
    "\n",
    "from tensorflow.keras.layers import Dropout, Conv1D, MaxPooling1D\n",
    "\n",
    "# training parameters\n",
    "n_classes   = 5\n",
    "bs          = 64\n",
    "n_epochs    = 5\n",
    "cb = [\n",
    "    EarlyStopping(monitor='val_acc', patience=2, verbose=0),\n",
    "    ModelCheckpoint(filepath='weights2.hdf5', verbose=0, save_best_only=True)\n",
    "]\n",
    "\n",
    "# embedding\n",
    "embed_dim   = 100  # word embedding dimension\n",
    "vocab_size  = 50000  # size of the vocabulary\n",
    "\n",
    "# LSTM\n",
    "nhid        = 100  # number of hidden units in the LSTM\n",
    "\n",
    "# convolution\n",
    "kernel_size = 5\n",
    "filters     = 64\n",
    "pool_size   = 4\n",
    "\n",
    "# create the model\n",
    "model = Sequential()\n",
    "model.add(Embedding(vocab_size, embed_dim))\n",
    "model.add(Dropout(0.5))\n",
    "model.add(Conv1D(filters,\n",
    "                 kernel_size,\n",
    "                 padding='valid',\n",
    "                 activation='relu',\n",
    "                 strides=1))\n",
    "model.add(MaxPooling1D(pool_size=pool_size))\n",
    "model.add(LSTM(nhid, dropout=.2, recurrent_dropout=.2))\n",
    "model.add(Dense(n_classes))\n",
    "model.add(Activation('softmax'))\n",
    "\n",
    "# optimization parameters\n",
    "loss_classif     =  'categorical_crossentropy'\n",
    "optimizer        =  'adam'\n",
    "metrics_classif  =  ['accuracy']\n",
    "\n",
    "model.compile(loss=loss_classif,\n",
    "              optimizer=optimizer,\n",
    "              metrics=metrics_classif)\n",
    "\n",
    "# training\n",
    "history2 = model.fit(x_train,\n",
    "                     y_train,\n",
    "                     batch_size=bs,\n",
    "                     epochs=n_epochs,\n",
    "                     validation_data=(x_dev, y_dev),\n",
    "                     callbacks=cb)\n",
    "\n",
    "# plot loss\n",
    "plt.figure()\n",
    "plt.title('Loss')\n",
    "plt.xlabel('Epoch')\n",
    "plt.ylabel('Loss')\n",
    "\n",
    "plt.plot(history.history['loss'], label='Train loss')\n",
    "plt.plot(history.history['val_loss'], label='Dev loss')\n",
    "\n",
    "plt.legend(loc='best')\n",
    "plt.show()\n",
    "\n",
    "# plot accuracy\n",
    "plt.figure()\n",
    "plt.title('Accuracy')\n",
    "plt.xlabel('Epoch')\n",
    "plt.ylabel('Accuracy')\n",
    "\n",
    "plt.plot(history.history['acc'], label='Train accuracy')\n",
    "plt.plot(history.history['val_acc'], label='Dev accuracy')\n",
    "\n",
    "plt.legend(loc='best')\n",
    "plt.show()\n",
    "\n",
    "# predict\n",
    "model.load_weights('weights2.hdf5')\n",
    "np.savetxt('convnet_lstm_y_test_sst.txt', model.predict(X_test_pad).argmax(axis=1), fmt='%.d')"
   ]
  }
 ],
 "metadata": {
  "kernelspec": {
   "display_name": "Python 3",
   "language": "python",
   "name": "python3"
  },
  "language_info": {
   "codemirror_mode": {
    "name": "ipython",
    "version": 3
   },
   "file_extension": ".py",
   "mimetype": "text/x-python",
   "name": "python",
   "nbconvert_exporter": "python",
   "pygments_lexer": "ipython3",
   "version": "3.6.8"
  }
 },
 "nbformat": 4,
 "nbformat_minor": 4
}
